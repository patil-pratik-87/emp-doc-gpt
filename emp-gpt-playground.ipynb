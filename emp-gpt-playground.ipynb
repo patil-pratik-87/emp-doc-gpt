{
 "cells": [
  {
   "cell_type": "markdown",
   "metadata": {},
   "source": [
    "# Initializing\n",
    "## Downloading and Importing all libs"
   ]
  },
  {
   "cell_type": "code",
   "execution_count": 1,
   "metadata": {},
   "outputs": [],
   "source": [
    "import sys\n",
    "import os\n",
    "from dotenv import load_dotenv, find_dotenv\n",
    "\n",
    "from llama_index.core import Settings\n",
    "from langchain.llms import OpenAI\n",
    "from llama_index.embeddings.openai import OpenAIEmbedding\n",
    "from llama_index.core import VectorStoreIndex, SummaryIndex\n",
    "from llama_index.readers.file import MarkdownReader\n",
    "from llama_index.core import SimpleDirectoryReader\n",
    "from llama_index.core.tools import QueryEngineTool\n",
    "from llama_index.core.node_parser import SentenceSplitter\n",
    "from llama_index.core import VectorStoreIndex\n",
    "from llama_index.core.objects import ObjectIndex\n",
    "from llama_index.core.agent import FunctionCallingAgentWorker\n",
    "from llama_index.core.agent import AgentRunner, ReActAgentWorker, ReActAgent\n",
    "from llama_index.core.tools import QueryEngineTool\n",
    "from llama_index.core.tools import QueryEngineTool\n",
    "from llama_index.core import StorageContext, load_index_from_storage\n",
    "from langchain.output_parsers.openai_tools import JsonOutputToolsParser\n",
    "from langchain_community.chat_models import ChatOpenAI\n",
    "from langchain_core.prompts import ChatPromptTemplate\n",
    "from langchain_core.runnables import RunnableLambda\n",
    "from langchain.chains import create_extraction_chain\n",
    "from typing import Optional, List\n",
    "from langchain.chains import create_extraction_chain_pydantic\n",
    "from langchain_core.pydantic_v1 import BaseModel\n",
    "from langchain import hub\n",
    "import nest_asyncio\n",
    "\n",
    "nest_asyncio.apply()\n",
    "\n"
   ]
  },
  {
   "cell_type": "markdown",
   "metadata": {},
   "source": [
    "## Loading all the keys"
   ]
  },
  {
   "cell_type": "markdown",
   "metadata": {},
   "source": [
    "# Experimenting with Mardown Text Splitting for meaningful chunks\n",
    "### Using Llama Index's ***MarkdownTextSplitter***"
   ]
  },
  {
   "cell_type": "code",
   "execution_count": 3,
   "metadata": {},
   "outputs": [],
   "source": [
    "chunk_size = 1024\n",
    "chunk_overlap = 0"
   ]
  },
  {
   "cell_type": "code",
   "execution_count": 4,
   "metadata": {},
   "outputs": [],
   "source": [
    "root_doc_path = './docs'\n",
    "# Markdown Reader example\n",
    "file_path = f\"{root_doc_path}/overview/EMP Overview.md\"\n",
    "md_reader = MarkdownReader(remove_hyperlinks=False)\n",
    "file_extractor = {\".md\": md_reader}\n",
    "documents= SimpleDirectoryReader(input_files=[file_path] ,\n",
    "                                          file_extractor=file_extractor,\n",
    "                                          recursive=True).load_data()"
   ]
  },
  {
   "cell_type": "code",
   "execution_count": 5,
   "metadata": {},
   "outputs": [
    {
     "data": {
      "text/plain": [
       "llama_index.core.schema.Document"
      ]
     },
     "execution_count": 5,
     "metadata": {},
     "output_type": "execute_result"
    }
   ],
   "source": [
    "type(documents[0])"
   ]
  },
  {
   "cell_type": "code",
   "execution_count": 6,
   "metadata": {},
   "outputs": [
    {
     "name": "stdout",
     "output_type": "stream",
     "text": [
      "('id_', '0cd222c1-f70a-4d5a-85b4-dfee79b8c0e4')\n",
      "('embedding', None)\n",
      "('metadata', {'file_path': 'docs/overview/EMP Overview.md', 'file_name': 'EMP Overview.md', 'file_size': 6480, 'creation_date': '2024-09-06', 'last_modified_date': '2024-09-05'})\n",
      "('excluded_embed_metadata_keys', ['file_name', 'file_type', 'file_size', 'creation_date', 'last_modified_date', 'last_accessed_date'])\n",
      "('excluded_llm_metadata_keys', ['file_name', 'file_type', 'file_size', 'creation_date', 'last_modified_date', 'last_accessed_date'])\n",
      "('relationships', {})\n",
      "('text', '---\\ntype: page\\ntitle: EMP Overview\\nlisted: true\\nslug: what-is-emp\\ndescription: \\nindex_title: EMP Overview\\nhidden: \\nkeywords: \\ntags: \\n---published\\n\\nPlatform9 Elastic Machine Pool (EMP) is a Kubernetes cost optimization platform for public cloud native Kubernetes offerings. EMP helps you reclaim &gt; 70% of your wasted Kubernetes compute that may be sitting idle today, thus reducing your Kubernetes cluster costs by &gt; 70%. \\n\\nEMP supports AWS EKS Kubernetes service today. Support for GKE and AKS is coming in the future. \\n')\n",
      "('mimetype', 'text/plain')\n",
      "('start_char_idx', None)\n",
      "('end_char_idx', None)\n",
      "('text_template', '{metadata_str}\\n\\n{content}')\n",
      "('metadata_template', '{key}: {value}')\n",
      "('metadata_seperator', '\\n')\n"
     ]
    }
   ],
   "source": [
    "for item in documents[0]:\n",
    "    print(item)"
   ]
  },
  {
   "cell_type": "code",
   "execution_count": 7,
   "metadata": {},
   "outputs": [
    {
     "name": "stdout",
     "output_type": "stream",
     "text": [
      "\n",
      "Document 0 \n",
      " ---\n",
      "type: page\n",
      "title: EMP Overview\n",
      "listed: true\n",
      "slug: what-is-emp\n",
      "description: \n",
      "index_title: EMP Overview\n",
      "hidden: \n",
      "keywords: \n",
      "tags: \n",
      "---published\n",
      "\n",
      "Platform9 Elastic Machine Pool (EMP) is a Kubernetes cost optimization platform for public cloud native Kubernetes offerings. EMP helps you reclaim &gt; 70% of your wasted Kubernetes compute that may be sitting idle today, thus reducing your Kubernetes cluster costs by &gt; 70%. \n",
      "\n",
      "EMP supports AWS EKS Kubernetes service today. Support for GKE and AKS is coming in the future. \n",
      "\n",
      "\n",
      "Document 1 \n",
      " \n",
      "\n",
      "[Who Should Use This Documentation?](https://platform9.com/docs/kubernetes/about-pmkwho-is-this-documentation-for)\n",
      "\n",
      "This documentation is intended for:\n",
      "\n",
      "- Administrators and operators managing AWS EKS clusters\n",
      "- DevOps teams seeking to optimize AWS and EKS cloud spend\n",
      "- IT decision-makers evaluating cost saving solutions for AWS and Kubernetes\n",
      "\n",
      "For a comprehensive understanding of EKS, please refer to the official [AWS EKS documentation](https://docs.aws.amazon.com/eks/latest/userguide/what-is-eks.html).\n",
      "\n",
      "\n",
      "Document 2 \n",
      " \n",
      "\n",
      "Key Differentiators of EMP\n",
      "\n",
      "1. **Go beyond bin-packing.** EMP optimizes your Kubernetes utilization by reclaiming existing unused capacity in your cluster. This enables you to go much further beyond just the bin packing benefits, and actually optimize capacity that is allocated to your pods via request and limit values but not actually utilized. \n",
      "2. **Optimize without right-sizing**: Many existing tools try to optimize your Kubernetes resource consumption by modifying your pod's request and limit values. But since EMP can actually tap into existing unused capacity to deploy new workloads, EMP requires making no changes to your pod's request and limit values. \n",
      "3. **Rebalance with zero pod downtime**: When EMP needs to scale and add more capacity, or consolidate to better use existing capacity, it can 'live migrate' workloads around to do this. This means zero pod disruption and much higher availability for your stateful workloads. This is specially important for data services, AI/ML or large java web applications. \n",
      "4. **Continuous Optimization**: EMP automatically monitor and optimize VM deployments behind the scenes to maximize Kubernetes resource utilization.\n",
      "5. **Seamless Scaling**: EMP handle usage spikes by scaling out underlying infrastructure and rebalancing workloads without application downtime.\n",
      "\n",
      "\n",
      "Document 3 \n",
      " \n",
      "\n",
      "Key Features of EMP\n",
      "\n",
      "\n",
      "Document 4 \n",
      " \n",
      "\n",
      "1. Resource Consolidation\n",
      "\n",
      "- Utilizes proven virtualization and server consolidation techniques\n",
      "- Optimizes workload placement on underlying EC2 infrastructure\n",
      "- Significantly reduces wasted CPU and memory resources in EKS clusters\n",
      "\n",
      "\n",
      "Document 5 \n",
      " \n",
      "\n",
      "2. Continuous Monitoring & Real-Time Scaling\n",
      "\n",
      "- Constantly monitors resource usage across all applications in EKS clusters\n",
      "- Identifies optimization opportunities in real-time\n",
      "- Proactively scales resources up or down to maintain efficiency\n",
      "- Employs live migration techniques to ensure application SLAs are met during adjustments\n",
      "\n",
      "\n",
      "Document 6 \n",
      " \n",
      "\n",
      "3. Seamless Integration\n",
      "\n",
      "- Integrates effortlessly with existing or new EKS clusters\n",
      "- Requires no modifications to applications or cluster management processes\n",
      "- Simple enablement process:\n",
      "    - Enable EMP for your AWS account\n",
      "    - Select desired EKS clusters\n",
      "    - Optionally choose specific applications for EMP optimization\n",
      "\n",
      "\n",
      "Document 7 \n",
      " \n",
      "\n",
      "4. Zero-Tuning Operations\n",
      "\n",
      "- Operates autonomously once enabled\n",
      "- Eliminates the need for manual tuning or configuration\n",
      "- Saves DevOps teams significant time typically spent on cost-saving measures\n",
      "\n",
      "\n",
      "Document 8 \n",
      " \n",
      "\n",
      "EMP vs Other Kubernetes Cost Management Tools\n",
      "\n",
      "There are several monitoring and visibility tools available on the market that claim to provide significant cost savings for your Kubernetes environment. CloudHealth, Cloudability, and Datadog are great tools for understanding your cloud costs and identifying areas where you can save money. However, they do not specifically focus on automating the changes needed to increase your overall resource utilization.\n",
      "\n",
      "Then there are tools such as open source Karpenter that make use of effective bin packing to allocate nodes just in time that fit your pod's resource requirements. However, these tools can not make a dent at optimizing your Kubernetes utilization if there is resource wastage due to high request and limit values. These tools will also involve a 'consolidation' phase where nodes are interrupted to consolidate fragmented pod deployments. This also requires pod restart which many stateful applications can not tolerate.\n",
      "\n",
      "Then there are tools that make it easy to use spot instances with your EKS clusters to reduce your costs. However, spot instances are not a good fit for stateful applications that can not tolerate node interrupts, thus putting a ceiling on the amount of savings such tools can offer.\n",
      "\n",
      "Lastly there are tools that makes adjustments to your application's request and limit values as a way to cut costs. But these tools will also require pod restart for the changes to take effect.\n",
      "\n",
      "As a result, despite the use of these tools, Kubernetes utilization remains low, ranging between 15 and 30%. That means 70% or more of your k8s cloud resources are being completely wasted.\n",
      "\n",
      "With EMP, there is no change to the request and limit values of your application necessary. Your developers will continue to set the requests and limits on the application pods that they desire, and EMP will work behind the scenes to optimize your EKS resource utilization based on demand.\n",
      "\n",
      "EMP is complementary to your existing tools and can provide value on top of these technologies by maximizing utilization behind the scenes.\n",
      "\n",
      "\n",
      "Document 9 \n",
      " \n",
      "\n",
      "EMP Benefits For Developers and DevOps\n",
      "\n",
      "Application developers frequently define the resource requirements of their Kubernetes workloads based on peak CPU and memory requirements. However, real-world usage may frequently vary or be significantly lower than configured values for the majority of the time, necessitating ongoing adjustments to pod request and limit values by DevOps teams or Developers. EMP addresses this by deploying an alternate virtualization layer that monitors actual resource usage of your applications and dynamically allocates compute resources to meet the needs of your application, eliminating the need for manual configuration changes to your pod request and limit values.\n",
      "\n",
      "Developers can continue to base their application’s request and limit values based on peak usage. At the same time, operations teams gain a powerful lever to rein in expenses.\n",
      "\n",
      "\n"
     ]
    }
   ],
   "source": [
    "for i,doc in enumerate(documents):\n",
    "    print(f\"\\nDocument {i} \\n\", doc.text)"
   ]
  },
  {
   "cell_type": "markdown",
   "metadata": {},
   "source": [
    "### Using Langchain's ***MarkdownHeaderTextSplitter***"
   ]
  },
  {
   "cell_type": "code",
   "execution_count": 8,
   "metadata": {},
   "outputs": [],
   "source": [
    "from langchain.text_splitter import MarkdownHeaderTextSplitter, ExperimentalMarkdownSyntaxTextSplitter\n",
    "\n",
    "\n",
    "# Markdown Reader example\n",
    "file_path = f\"{root_doc_path}/overview/EMP Overview.md\"\n",
    "# file_path = f\"{root_doc_path}/networking/ALB for EMP.md\" # issues with code blocks\n",
    "with open(file_path) as file:\n",
    "    overview_file = file.read()\n",
    "\n",
    "headers_to_split_on = [\n",
    "    (\"#\", \"Markdown Header 1\"),\n",
    "    (\"##\", \"Markdown Header 2\"),\n",
    "    (\"###\", \"Markdown Header 3\"),\n",
    "    (\"####\", \"Markdown Header 3\"),\n",
    "]    \n",
    "\n",
    "md_splitter = ExperimentalMarkdownSyntaxTextSplitter(headers_to_split_on=headers_to_split_on, strip_headers=False)\n",
    "# md_splitter = MarkdownHeaderTextSplitter(headers_to_split_on=headers_to_split_on, strip_headers=False)\n",
    "\n",
    "documents = md_splitter.split_text(overview_file)"
   ]
  },
  {
   "cell_type": "code",
   "execution_count": 9,
   "metadata": {},
   "outputs": [
    {
     "name": "stdout",
     "output_type": "stream",
     "text": [
      "\n",
      "Document 0 \n",
      "----------------------------------------------------------------------------------------------------\n",
      "\n",
      " {} \n",
      "\n",
      "type: page\n",
      "title: EMP Overview\n",
      "listed: true\n",
      "slug: what-is-emp\n",
      "description: \n",
      "index_title: EMP Overview\n",
      "hidden: \n",
      "keywords: \n",
      "tags: \n",
      "---published\n",
      "\n",
      "Platform9 Elastic Machine Pool (EMP) is a Kubernetes cost optimization platform for public cloud native Kubernetes offerings. EMP helps you reclaim &gt; 70% of your wasted Kubernetes compute that may be sitting idle today, thus reducing your Kubernetes cluster costs by &gt; 70%. \n",
      "\n",
      "EMP supports AWS EKS Kubernetes service today. Support for GKE and AKS is coming in the future. \n",
      "\n",
      "\n",
      "\n",
      "Document 1 \n",
      "----------------------------------------------------------------------------------------------------\n",
      "\n",
      " {'Markdown Header 2': '[Who Should Use This Documentation?](https://platform9.com/docs/kubernetes/about-pmk#who-is-this-documentation-for)'} \n",
      "\n",
      "## [Who Should Use This Documentation?](https://platform9.com/docs/kubernetes/about-pmk#who-is-this-documentation-for)\n",
      "\n",
      "This documentation is intended for:\n",
      "\n",
      "- Administrators and operators managing AWS EKS clusters\n",
      "- DevOps teams seeking to optimize AWS and EKS cloud spend\n",
      "- IT decision-makers evaluating cost saving solutions for AWS and Kubernetes\n",
      "\n",
      "For a comprehensive understanding of EKS, please refer to the official [AWS EKS documentation](https://docs.aws.amazon.com/eks/latest/userguide/what-is-eks.html).\n",
      "\n",
      "\n",
      "\n",
      "Document 2 \n",
      "----------------------------------------------------------------------------------------------------\n",
      "\n",
      " {'Markdown Header 2': 'Key Differentiators of EMP'} \n",
      "\n",
      "## Key Differentiators of EMP\n",
      "\n",
      "1. **Go beyond bin-packing.** EMP optimizes your Kubernetes utilization by reclaiming existing unused capacity in your cluster. This enables you to go much further beyond just the bin packing benefits, and actually optimize capacity that is allocated to your pods via request and limit values but not actually utilized. \n",
      "2. **Optimize without right-sizing**: Many existing tools try to optimize your Kubernetes resource consumption by modifying your pod's request and limit values. But since EMP can actually tap into existing unused capacity to deploy new workloads, EMP requires making no changes to your pod's request and limit values. \n",
      "3. **Rebalance with zero pod downtime**: When EMP needs to scale and add more capacity, or consolidate to better use existing capacity, it can 'live migrate' workloads around to do this. This means zero pod disruption and much higher availability for your stateful workloads. This is specially important for data services, AI/ML or large java web applications. \n",
      "4. **Continuous Optimization**: EMP automatically monitor and optimize VM deployments behind the scenes to maximize Kubernetes resource utilization.\n",
      "5. **Seamless Scaling**: EMP handle usage spikes by scaling out underlying infrastructure and rebalancing workloads without application downtime.\n",
      "\n",
      "\n",
      "\n",
      "Document 3 \n",
      "----------------------------------------------------------------------------------------------------\n",
      "\n",
      " {'Markdown Header 2': 'Key Features of EMP'} \n",
      "\n",
      "## Key Features of EMP\n",
      "\n",
      "\n",
      "\n",
      "Document 4 \n",
      "----------------------------------------------------------------------------------------------------\n",
      "\n",
      " {'Markdown Header 2': 'Key Features of EMP', 'Markdown Header 3': '1. Resource Consolidation'} \n",
      "\n",
      "#### 1. Resource Consolidation\n",
      "\n",
      "- Utilizes proven virtualization and server consolidation techniques\n",
      "- Optimizes workload placement on underlying EC2 infrastructure\n",
      "- Significantly reduces wasted CPU and memory resources in EKS clusters\n",
      "\n",
      "\n",
      "\n",
      "Document 5 \n",
      "----------------------------------------------------------------------------------------------------\n",
      "\n",
      " {'Markdown Header 2': 'Key Features of EMP', 'Markdown Header 3': '2. Continuous Monitoring & Real-Time Scaling'} \n",
      "\n",
      "#### 2. Continuous Monitoring & Real-Time Scaling\n",
      "\n",
      "- Constantly monitors resource usage across all applications in EKS clusters\n",
      "- Identifies optimization opportunities in real-time\n",
      "- Proactively scales resources up or down to maintain efficiency\n",
      "- Employs live migration techniques to ensure application SLAs are met during adjustments\n",
      "\n",
      "\n",
      "\n",
      "Document 6 \n",
      "----------------------------------------------------------------------------------------------------\n",
      "\n",
      " {'Markdown Header 2': 'Key Features of EMP', 'Markdown Header 3': '3. Seamless Integration'} \n",
      "\n",
      "#### 3. Seamless Integration\n",
      "\n",
      "- Integrates effortlessly with existing or new EKS clusters\n",
      "- Requires no modifications to applications or cluster management processes\n",
      "- Simple enablement process:\n",
      "    - Enable EMP for your AWS account\n",
      "    - Select desired EKS clusters\n",
      "    - Optionally choose specific applications for EMP optimization\n",
      "\n",
      "\n",
      "\n",
      "Document 7 \n",
      "----------------------------------------------------------------------------------------------------\n",
      "\n",
      " {'Markdown Header 2': 'Key Features of EMP', 'Markdown Header 3': '4. Zero-Tuning Operations'} \n",
      "\n",
      "#### 4. Zero-Tuning Operations\n",
      "\n",
      "- Operates autonomously once enabled\n",
      "- Eliminates the need for manual tuning or configuration\n",
      "- Saves DevOps teams significant time typically spent on cost-saving measures\n",
      "\n",
      "\n",
      "\n",
      "Document 8 \n",
      "----------------------------------------------------------------------------------------------------\n",
      "\n",
      " {'Markdown Header 2': 'EMP vs Other Kubernetes Cost Management Tools'} \n",
      "\n",
      "## EMP vs Other Kubernetes Cost Management Tools\n",
      "\n",
      "There are several monitoring and visibility tools available on the market that claim to provide significant cost savings for your Kubernetes environment. CloudHealth, Cloudability, and Datadog are great tools for understanding your cloud costs and identifying areas where you can save money. However, they do not specifically focus on automating the changes needed to increase your overall resource utilization.\n",
      "\n",
      "Then there are tools such as open source Karpenter that make use of effective bin packing to allocate nodes just in time that fit your pod's resource requirements. However, these tools can not make a dent at optimizing your Kubernetes utilization if there is resource wastage due to high request and limit values. These tools will also involve a 'consolidation' phase where nodes are interrupted to consolidate fragmented pod deployments. This also requires pod restart which many stateful applications can not tolerate.\n",
      "\n",
      "Then there are tools that make it easy to use spot instances with your EKS clusters to reduce your costs. However, spot instances are not a good fit for stateful applications that can not tolerate node interrupts, thus putting a ceiling on the amount of savings such tools can offer.\n",
      "\n",
      "Lastly there are tools that makes adjustments to your application's request and limit values as a way to cut costs. But these tools will also require pod restart for the changes to take effect.\n",
      "\n",
      "As a result, despite the use of these tools, Kubernetes utilization remains low, ranging between 15 and 30%. That means 70% or more of your k8s cloud resources are being completely wasted.\n",
      "\n",
      "With EMP, there is no change to the request and limit values of your application necessary. Your developers will continue to set the requests and limits on the application pods that they desire, and EMP will work behind the scenes to optimize your EKS resource utilization based on demand.\n",
      "\n",
      "EMP is complementary to your existing tools and can provide value on top of these technologies by maximizing utilization behind the scenes.\n",
      "\n",
      "\n",
      "\n",
      "Document 9 \n",
      "----------------------------------------------------------------------------------------------------\n",
      "\n",
      " {'Markdown Header 2': 'EMP Benefits For Developers and DevOps'} \n",
      "\n",
      "## EMP Benefits For Developers and DevOps\n",
      "\n",
      "Application developers frequently define the resource requirements of their Kubernetes workloads based on peak CPU and memory requirements. However, real-world usage may frequently vary or be significantly lower than configured values for the majority of the time, necessitating ongoing adjustments to pod request and limit values by DevOps teams or Developers. EMP addresses this by deploying an alternate virtualization layer that monitors actual resource usage of your applications and dynamically allocates compute resources to meet the needs of your application, eliminating the need for manual configuration changes to your pod request and limit values.\n",
      "\n",
      "Developers can continue to base their application’s request and limit values based on peak usage. At the same time, operations teams gain a powerful lever to rein in expenses.\n",
      "\n",
      "\n"
     ]
    }
   ],
   "source": [
    "for i, doc in enumerate(documents):\n",
    "    print(f\"\\nDocument {i} \\n{'-' * 100}\")  # This prints 10 dashes\n",
    "    print(f\"\\n {doc.metadata} \\n\")\n",
    "    print(doc.page_content)"
   ]
  },
  {
   "cell_type": "markdown",
   "metadata": {},
   "source": [
    "### Try using Agentic Chunking"
   ]
  },
  {
   "cell_type": "code",
   "execution_count": 10,
   "metadata": {},
   "outputs": [
    {
     "name": "stderr",
     "output_type": "stream",
     "text": [
      "/Users/pratikp/Code/pf9-emp-gpt-rag/venv/lib/python3.12/site-packages/langsmith/client.py:5402: LangChainBetaWarning: The function `loads` is in beta. It is actively being worked on, so the API may change.\n",
      "  prompt = loads(json.dumps(prompt_object.manifest))\n",
      "/var/folders/sc/zs54s9k551535_87l6wyj_hm0000gr/T/ipykernel_13642/3738386276.py:2: LangChainDeprecationWarning: The class `ChatOpenAI` was deprecated in LangChain 0.0.10 and will be removed in 1.0. An updated version of the class exists in the langchain-openai package and should be used instead. To use it run `pip install -U langchain-openai` and import as `from langchain_openai import ChatOpenAI`.\n",
      "  llm = ChatOpenAI(model='gpt-4-1106-preview')\n"
     ]
    }
   ],
   "source": [
    "obj = hub.pull(\"wfh/proposal-indexing\")\n",
    "llm = ChatOpenAI(model='gpt-4-1106-preview')"
   ]
  },
  {
   "cell_type": "code",
   "execution_count": 11,
   "metadata": {},
   "outputs": [
    {
     "name": "stdout",
     "output_type": "stream",
     "text": [
      "Decompose the \"Content\" into clear and simple propositions, ensuring they are interpretable out of\n",
      "context.\n",
      "1. Split compound sentence into simple sentences. Maintain the original phrasing from the input\n",
      "whenever possible.\n",
      "2. For any named entity that is accompanied by additional descriptive information, separate this\n",
      "information into its own distinct proposition.\n",
      "3. Decontextualize the proposition by adding necessary modifier to nouns or entire sentences\n",
      "and replacing pronouns (e.g., \"it\", \"he\", \"she\", \"they\", \"this\", \"that\") with the full name of the\n",
      "entities they refer to.\n",
      "4. Present the results as a list of strings, formatted in JSON.\n",
      "\n",
      "Example:\n",
      "\n",
      "Input: Title: ¯Eostre. Section: Theories and interpretations, Connection to Easter Hares. Content:\n",
      "The earliest evidence for the Easter Hare (Osterhase) was recorded in south-west Germany in\n",
      "1678 by the professor of medicine Georg Franck von Franckenau, but it remained unknown in\n",
      "other parts of Germany until the 18th century. Scholar Richard Sermon writes that \"hares were\n",
      "frequently seen in gardens in spring, and thus may have served as a convenient explanation for the\n",
      "origin of the colored eggs hidden there for children. Alternatively, there is a European tradition\n",
      "that hares laid eggs, since a hare’s scratch or form and a lapwing’s nest look very similar, and\n",
      "both occur on grassland and are first seen in the spring. In the nineteenth century the influence\n",
      "of Easter cards, toys, and books was to make the Easter Hare/Rabbit popular throughout Europe.\n",
      "German immigrants then exported the custom to Britain and America where it evolved into the\n",
      "Easter Bunny.\"\n",
      "Output: [ \"The earliest evidence for the Easter Hare was recorded in south-west Germany in\n",
      "1678 by Georg Franck von Franckenau.\", \"Georg Franck von Franckenau was a professor of\n",
      "medicine.\", \"The evidence for the Easter Hare remained unknown in other parts of Germany until\n",
      "the 18th century.\", \"Richard Sermon was a scholar.\", \"Richard Sermon writes a hypothesis about\n",
      "the possible explanation for the connection between hares and the tradition during Easter\", \"Hares\n",
      "were frequently seen in gardens in spring.\", \"Hares may have served as a convenient explanation\n",
      "for the origin of the colored eggs hidden in gardens for children.\", \"There is a European tradition\n",
      "that hares laid eggs.\", \"A hare’s scratch or form and a lapwing’s nest look very similar.\", \"Both\n",
      "hares and lapwing’s nests occur on grassland and are first seen in the spring.\", \"In the nineteenth\n",
      "century the influence of Easter cards, toys, and books was to make the Easter Hare/Rabbit popular\n",
      "throughout Europe.\", \"German immigrants exported the custom of the Easter Hare/Rabbit to\n",
      "Britain and America.\", \"The custom of the Easter Hare/Rabbit evolved into the Easter Bunny in\n",
      "Britain and America.\"]\n"
     ]
    }
   ],
   "source": [
    "print(obj.messages[0].prompt.template)"
   ]
  },
  {
   "cell_type": "code",
   "execution_count": 12,
   "metadata": {},
   "outputs": [],
   "source": [
    "# use it in a runnable\n",
    "runnable = obj | llm"
   ]
  },
  {
   "cell_type": "code",
   "execution_count": 13,
   "metadata": {},
   "outputs": [
    {
     "name": "stderr",
     "output_type": "stream",
     "text": [
      "/var/folders/sc/zs54s9k551535_87l6wyj_hm0000gr/T/ipykernel_13642/2581963727.py:6: LangChainDeprecationWarning: LangChain has introduced a method called `with_structured_output` thatis available on ChatModels capable of tool calling.You can read more about the method here: <https://python.langchain.com/docs/modules/model_io/chat/structured_output/>. Please follow our extraction use case documentation for more guidelineson how to do information extraction with LLMs.<https://python.langchain.com/docs/use_cases/extraction/>. If you notice other issues, please provide feedback here:<https://github.com/langchain-ai/langchain/discussions/18154>\n",
      "  extraction_chain = create_extraction_chain_pydantic(pydantic_schema=Sentences, llm=llm)\n"
     ]
    }
   ],
   "source": [
    "# Pydantic data class\n",
    "class Sentences(BaseModel):\n",
    "    sentences: List[str]\n",
    "    \n",
    "# Extraction\n",
    "extraction_chain = create_extraction_chain_pydantic(pydantic_schema=Sentences, llm=llm)"
   ]
  },
  {
   "cell_type": "code",
   "execution_count": 14,
   "metadata": {},
   "outputs": [],
   "source": [
    "def get_propositions(text):\n",
    "    runnable_output = runnable.invoke({\n",
    "    \t\"input\": text\n",
    "    }).content\n",
    "    \n",
    "    propositions = extraction_chain.run(runnable_output)[0].sentences\n",
    "    return propositions"
   ]
  },
  {
   "cell_type": "code",
   "execution_count": 15,
   "metadata": {},
   "outputs": [
    {
     "name": "stdout",
     "output_type": "stream",
     "text": [
      "Done with 0\n",
      "Done with 1\n",
      "Done with 2\n",
      "Done with 3\n",
      "Done with 4\n",
      "Done with 5\n",
      "Done with 6\n",
      "Done with 7\n",
      "Done with 8\n",
      "Done with 9\n"
     ]
    }
   ],
   "source": [
    "docs_propositions = []\n",
    "\n",
    "for i, doc in enumerate(documents):\n",
    "    # commenting as its output is already stored in json file\n",
    "    # propositions = get_propositions(doc.page_content)\n",
    "    # docs_propositions.extend(propositions) \n",
    "    print (f\"Done with {i}\")"
   ]
  },
  {
   "cell_type": "code",
   "execution_count": 16,
   "metadata": {},
   "outputs": [
    {
     "name": "stdout",
     "output_type": "stream",
     "text": [
      "You have 0 propositions\n"
     ]
    },
    {
     "data": {
      "text/plain": [
       "[]"
      ]
     },
     "execution_count": 16,
     "metadata": {},
     "output_type": "execute_result"
    }
   ],
   "source": [
    "print (f\"You have {len(docs_propositions)} propositions\")\n",
    "docs_propositions[:20]"
   ]
  },
  {
   "cell_type": "code",
   "execution_count": 17,
   "metadata": {},
   "outputs": [],
   "source": [
    "from agentic_chunker import AgenticChunker\n",
    "agentic_chunker = AgenticChunker()"
   ]
  },
  {
   "cell_type": "code",
   "execution_count": 18,
   "metadata": {},
   "outputs": [],
   "source": [
    "# chunks = agentic_chunker.add_propositions(docs_propositions)\n",
    "# commenting as this is a long and costly process, rather read chunks from JSON file\n",
    "\n",
    "# Open the JSON file\n",
    "import json\n",
    "with open('./agentic-chunking-output.json', 'r') as file:\n",
    "    # Load the JSON data as a Python dictionary\n",
    "    agentic_chunker.chunks = json.load(file)\n",
    "\n",
    "# Print the data to check the content\n"
   ]
  },
  {
   "cell_type": "code",
   "execution_count": 19,
   "metadata": {},
   "outputs": [
    {
     "name": "stdout",
     "output_type": "stream",
     "text": [
      "{'81da1': {'chunk_id': '81da1', 'propositions': ['Platform9 Elastic Machine Pool (EMP) is a Kubernetes cost optimization platform.', 'Platform9 Elastic Machine Pool (EMP) is for public cloud native Kubernetes offerings.', 'Platform9 Elastic Machine Pool (EMP) helps users to reclaim more than 70% of their wasted Kubernetes compute.', 'The wasted Kubernetes compute may be sitting idle today.', 'Platform9 Elastic Machine Pool (EMP) reduces Kubernetes cluster costs by more than 70%.', 'Platform9 Elastic Machine Pool (EMP) supports AWS EKS Kubernetes service today.', 'Support for GKE and AKS by Platform9 Elastic Machine Pool (EMP) is coming in the future.', 'EMP optimizes Kubernetes utilization by reclaiming existing unused capacity in clusters.', 'EMP enables optimization of capacity that is allocated to pods via request and limit values but not actually utilized.', \"Many existing tools optimize Kubernetes resource consumption by modifying pods' request and limit values.\", 'EMP taps into existing unused capacity to deploy new workloads.', \"EMP requires no changes to pods' request and limit values.\", \"When EMP needs to scale and add more capacity, it can 'live migrate' workloads around.\", \"EMP's 'live migrate' feature results in zero pod disruption.\", \"EMP's 'live migrate' feature results in much higher availability for stateful workloads.\", \"EMP's 'live migrate' feature is important for data services.\", \"EMP's 'live migrate' feature is important for AI/ML applications.\", \"EMP's 'live migrate' feature is important for large java web applications.\", 'EMP automatically monitors and optimizes VM deployments to maximize Kubernetes resource utilization.', 'EMP handles usage spikes by scaling out underlying infrastructure.', 'EMP rebalances workloads without application downtime during usage spikes.', 'Resource Consolidation utilizes server consolidation techniques.', 'Continuous Monitoring & Real-Time Scaling identifies optimization opportunities in real-time.', 'Continuous Monitoring & Real-Time Scaling proactively scales resources up or down to maintain efficiency.', 'Continuous Monitoring & Real-Time Scaling employs live migration techniques.', 'Live migration techniques are employed to ensure application Service Level Agreements are met during adjustments.', 'There is an optional step in the EMP enablement process to choose specific applications for EMP optimization.', 'Several monitoring and visibility tools are available on the market for Kubernetes cost management.', 'These tools claim to provide significant cost savings for Kubernetes environments.', 'Despite the use of Kubernetes cost management tools, Kubernetes utilization remains low.', 'With EMP, developers continue to set the requests and limits on application pods as they desire.', 'EMP optimizes EKS resource utilization based on demand.', 'EMP works behind the scenes to optimize resource utilization.', 'EMP is complementary to existing Kubernetes cost management tools.', 'EMP can provide value on top of existing Kubernetes cost management technologies by maximizing utilization.'], 'title': 'Kubernetes Optimization & Cloud Compatibility with Platform9 EMP', 'summary': 'This chunk provides detailed information about Platform9 Elastic Machine Pool (EMP), focusing on its Kubernetes cost optimization capabilities, resource utilization features, and compatibility with cloud services, while maintaining existing pod configurations.', 'chunk_index': 0}, 'f0b80': {'chunk_id': 'f0b80', 'propositions': ['This documentation is intended for administrators and operators managing AWS EKS clusters.', 'This documentation is intended for DevOps teams seeking to optimize AWS and EKS cloud spend.', 'For a comprehensive understanding of EKS, one should refer to the official AWS EKS documentation.', 'Resource Consolidation optimizes workload placement on underlying EC2 infrastructure.', 'Resource Consolidation significantly reduces wasted CPU resources in EKS clusters.', 'Resource Consolidation significantly reduces wasted memory resources in EKS clusters.', 'Continuous Monitoring & Real-Time Scaling constantly monitors resource usage across all applications in EKS clusters.', 'The integration with existing or new EKS clusters is effortless.', 'There are tools that make it easy to use spot instances with EKS clusters.', 'Using spot instances with EKS clusters helps reduce costs.', 'The unsuitability of spot instances for certain applications puts a ceiling on the savings offered by some tools.'], 'title': 'AWS EKS Cluster Management, Resource Efficiency & Cost Reduction', 'summary': 'This chunk provides guidance on managing AWS EKS clusters, with a focus on optimization, cost reduction, resource efficiency, and the integration of monitoring tools and spot instances.', 'chunk_index': 1}, 'c7499': {'chunk_id': 'c7499', 'propositions': ['This documentation is intended for IT decision-makers evaluating cost saving solutions for AWS and Kubernetes.', 'Resource Consolidation utilizes proven virtualization techniques.', 'DevOps teams typically spend significant time on cost-saving measures.', 'CloudHealth, Cloudability, and Datadog are examples of tools that help understand cloud costs.', 'CloudHealth, Cloudability, and Datadog help identify areas where money can be saved in cloud costs.', \"There are tools that adjust application's request and limit values to cut costs.\", '70% or more of Kubernetes cloud resources are being completely wasted.'], 'title': 'Cloud Cost Management & Optimization for IT Professionals', 'summary': 'This chunk offers guidance and tools for IT professionals and DevOps teams to optimize and manage costs in cloud computing, specifically focusing on AWS and Kubernetes.', 'chunk_index': 2}, 'b7440': {'chunk_id': 'b7440', 'propositions': ['EMP goes beyond bin-packing.', 'Open source Karpenter is a tool that uses effective bin packing to allocate nodes for Kubernetes.', \"Karpenter allocates nodes just in time to fit pod's resource requirements.\", 'Tools like Karpenter cannot optimize Kubernetes utilization if there is resource wastage due to high request and limit values.', \"Tools like Karpenter involve a 'consolidation' phase where nodes are interrupted.\", \"During the 'consolidation' phase, fragmented pod deployments are consolidated.\", \"The 'consolidation' phase requires pod restart.\", \"Many stateful applications cannot tolerate the pod restart required during the 'consolidation' phase.\", 'Spot instances are not suitable for stateful applications that cannot tolerate node interrupts.', \"Adjusting an application's request and limit values to cut costs will require pod restart for changes to take effect.\", 'Kubernetes utilization typically ranges between 15 and 30%.', 'Application developers frequently define the resource requirements of their Kubernetes workloads based on peak CPU and memory requirements.'], 'title': 'Kubernetes Optimization & Stateful Application Challenges', 'summary': 'This chunk discusses Kubernetes resource management and optimization, including the role of tools like Karpenter, the effects of resource allocation and consolidation on pod performance, and the challenges faced by stateful applications in dynamic environments.', 'chunk_index': 3}, '93cdb': {'chunk_id': '93cdb', 'propositions': ['[]'], 'title': 'Missing Content Information', 'summary': 'This chunk will contain information about unspecified or missing content.', 'chunk_index': 4}, 'd53ae': {'chunk_id': 'd53ae', 'propositions': ['The integration requires no modifications to applications.', 'The integration requires no modifications to cluster management processes.', 'The enablement process for EMP is simple.', 'The first step to enable EMP is to enable EMP for your AWS account.', 'The second step to enable EMP is to select the desired EKS clusters.', 'EMP does not require changes to the request and limit values of applications.'], 'title': 'EMP Integration Process & Ease for AWS EKS', 'summary': 'This chunk outlines the steps and simplicity of integrating EMP with AWS accounts and EKS clusters, emphasizing that no modifications are needed for applications or cluster management.', 'chunk_index': 5}, '3bbcd': {'chunk_id': '3bbcd', 'propositions': ['Zero-Tuning Operations operates autonomously once enabled.', 'Zero-Tuning Operations eliminates the need for manual tuning or configuration.', 'Zero-Tuning Operations saves DevOps teams significant time.'], 'title': 'Autonomous Zero-Tuning Operations Advantages', 'summary': 'This chunk focuses on the advantages and functionalities of Zero-Tuning Operations, highlighting its autonomous nature and time-saving benefits for DevOps teams.', 'chunk_index': 6}, '892dd': {'chunk_id': '892dd', 'propositions': ['CloudHealth, Cloudability, and Datadog do not specifically focus on automating changes to increase overall resource utilization.'], 'title': 'Cloud Management Platforms', 'summary': 'This chunk discusses various cloud management platforms and their features related to resource utilization automation.', 'chunk_index': 7}}\n"
     ]
    }
   ],
   "source": [
    "print(agentic_chunker.get_chunks(get_type='dict'))"
   ]
  },
  {
   "cell_type": "code",
   "execution_count": 20,
   "metadata": {},
   "outputs": [],
   "source": [
    "import json\n",
    "with open(\"agentic-chunking-output.json\", \"w\") as file:\n",
    "    json.dump(agentic_chunker.get_chunks(get_type='dict'), file, indent=4)"
   ]
  },
  {
   "cell_type": "markdown",
   "metadata": {},
   "source": [
    "### Try using Semantic Chunking ( Not working Well)"
   ]
  },
  {
   "cell_type": "code",
   "execution_count": 21,
   "metadata": {},
   "outputs": [
    {
     "name": "stdout",
     "output_type": "stream",
     "text": [
      "\n",
      "\u001b[1m[\u001b[0m\u001b[34;49mnotice\u001b[0m\u001b[1;39;49m]\u001b[0m\u001b[39;49m A new release of pip is available: \u001b[0m\u001b[31;49m24.0\u001b[0m\u001b[39;49m -> \u001b[0m\u001b[32;49m24.2\u001b[0m\n",
      "\u001b[1m[\u001b[0m\u001b[34;49mnotice\u001b[0m\u001b[1;39;49m]\u001b[0m\u001b[39;49m To update, run: \u001b[0m\u001b[32;49mpip install --upgrade pip\u001b[0m\n",
      "Note: you may need to restart the kernel to use updated packages.\n"
     ]
    }
   ],
   "source": [
    "%pip install --quiet langchain_experimental langchain_openai"
   ]
  },
  {
   "cell_type": "code",
   "execution_count": 22,
   "metadata": {},
   "outputs": [],
   "source": [
    "from langchain_experimental.text_splitter import SemanticChunker\n",
    "from langchain_openai.embeddings import OpenAIEmbeddings\n",
    "\n",
    "\n",
    "semantic_chunker = SemanticChunker(OpenAIEmbeddings(), buffer_size=1, breakpoint_threshold_amount=90, sentence_split_regex=r'(^#{1,6}\\s.*$)')"
   ]
  },
  {
   "cell_type": "code",
   "execution_count": 23,
   "metadata": {},
   "outputs": [],
   "source": [
    "sc_docs = semantic_chunker.create_documents([overview_file])\n"
   ]
  },
  {
   "cell_type": "code",
   "execution_count": 24,
   "metadata": {},
   "outputs": [
    {
     "name": "stdout",
     "output_type": "stream",
     "text": [
      "\n",
      "Document 0 \n",
      "----------------------------------------------------------------------------------------------------\n",
      "\n",
      " {} \n",
      "\n",
      "---\n",
      "type: page\n",
      "title: EMP Overview\n",
      "listed: true\n",
      "slug: what-is-emp\n",
      "description: \n",
      "index_title: EMP Overview\n",
      "hidden: \n",
      "keywords: \n",
      "tags: \n",
      "---published\n",
      "\n",
      "Platform9 Elastic Machine Pool (EMP) is a Kubernetes cost optimization platform for public cloud native Kubernetes offerings. EMP helps you reclaim &gt; 70% of your wasted Kubernetes compute that may be sitting idle today, thus reducing your Kubernetes cluster costs by &gt; 70%. \n",
      "\n",
      "EMP supports AWS EKS Kubernetes service today. Support for GKE and AKS is coming in the future. \n",
      "\n",
      "## [Who Should Use This Documentation?](https://platform9.com/docs/kubernetes/about-pmk#who-is-this-documentation-for)\n",
      "\n",
      "This documentation is intended for:\n",
      "\n",
      "- Administrators and operators managing AWS EKS clusters\n",
      "- DevOps teams seeking to optimize AWS and EKS cloud spend\n",
      "- IT decision-makers evaluating cost saving solutions for AWS and Kubernetes\n",
      "\n",
      "For a comprehensive understanding of EKS, please refer to the official [AWS EKS documentation](https://docs.aws.amazon.com/eks/latest/userguide/what-is-eks.html).\n",
      "\n",
      "## Key Differentiators of EMP\n",
      "\n",
      "1. **Go beyond bin-packing.** EMP optimizes your Kubernetes utilization by reclaiming existing unused capacity in your cluster. This enables you to go much further beyond just the bin packing benefits, and actually optimize capacity that is allocated to your pods via request and limit values but not actually utilized. \n",
      "2. **Optimize without right-sizing**: Many existing tools try to optimize your Kubernetes resource consumption by modifying your pod's request and limit values. But since EMP can actually tap into existing unused capacity to deploy new workloads, EMP requires making no changes to your pod's request and limit values. \n",
      "3. **Rebalance with zero pod downtime**: When EMP needs to scale and add more capacity, or consolidate to better use existing capacity, it can 'live migrate' workloads around to do this. This means zero pod disruption and much higher availability for your stateful workloads. This is specially important for data services, AI/ML or large java web applications. \n",
      "4. **Continuous Optimization**: EMP automatically monitor and optimize VM deployments behind the scenes to maximize Kubernetes resource utilization.\n",
      "5. **Seamless Scaling**: EMP handle usage spikes by scaling out underlying infrastructure and rebalancing workloads without application downtime.\n",
      "\n",
      "## Key Features of EMP\n",
      "\n",
      "#### 1. Resource Consolidation\n",
      "\n",
      "- Utilizes proven virtualization and server consolidation techniques\n",
      "- Optimizes workload placement on underlying EC2 infrastructure\n",
      "- Significantly reduces wasted CPU and memory resources in EKS clusters\n",
      "\n",
      "#### 2. Continuous Monitoring & Real-Time Scaling\n",
      "\n",
      "- Constantly monitors resource usage across all applications in EKS clusters\n",
      "- Identifies optimization opportunities in real-time\n",
      "- Proactively scales resources up or down to maintain efficiency\n",
      "- Employs live migration techniques to ensure application SLAs are met during adjustments\n",
      "\n",
      "#### 3. Seamless Integration\n",
      "\n",
      "- Integrates effortlessly with existing or new EKS clusters\n",
      "- Requires no modifications to applications or cluster management processes\n",
      "- Simple enablement process:\n",
      "    - Enable EMP for your AWS account\n",
      "    - Select desired EKS clusters\n",
      "    - Optionally choose specific applications for EMP optimization\n",
      "\n",
      "#### 4. Zero-Tuning Operations\n",
      "\n",
      "- Operates autonomously once enabled\n",
      "- Eliminates the need for manual tuning or configuration\n",
      "- Saves DevOps teams significant time typically spent on cost-saving measures\n",
      "\n",
      "## EMP vs Other Kubernetes Cost Management Tools\n",
      "\n",
      "There are several monitoring and visibility tools available on the market that claim to provide significant cost savings for your Kubernetes environment. CloudHealth, Cloudability, and Datadog are great tools for understanding your cloud costs and identifying areas where you can save money. However, they do not specifically focus on automating the changes needed to increase your overall resource utilization.\n",
      "\n",
      "Then there are tools such as open source Karpenter that make use of effective bin packing to allocate nodes just in time that fit your pod's resource requirements. However, these tools can not make a dent at optimizing your Kubernetes utilization if there is resource wastage due to high request and limit values. These tools will also involve a 'consolidation' phase where nodes are interrupted to consolidate fragmented pod deployments. This also requires pod restart which many stateful applications can not tolerate.\n",
      "\n",
      "Then there are tools that make it easy to use spot instances with your EKS clusters to reduce your costs. However, spot instances are not a good fit for stateful applications that can not tolerate node interrupts, thus putting a ceiling on the amount of savings such tools can offer.\n",
      "\n",
      "Lastly there are tools that makes adjustments to your application's request and limit values as a way to cut costs. But these tools will also require pod restart for the changes to take effect.\n",
      "\n",
      "As a result, despite the use of these tools, Kubernetes utilization remains low, ranging between 15 and 30%. That means 70% or more of your k8s cloud resources are being completely wasted.\n",
      "\n",
      "With EMP, there is no change to the request and limit values of your application necessary. Your developers will continue to set the requests and limits on the application pods that they desire, and EMP will work behind the scenes to optimize your EKS resource utilization based on demand.\n",
      "\n",
      "EMP is complementary to your existing tools and can provide value on top of these technologies by maximizing utilization behind the scenes.\n",
      "\n",
      "## EMP Benefits For Developers and DevOps\n",
      "\n",
      "Application developers frequently define the resource requirements of their Kubernetes workloads based on peak CPU and memory requirements. However, real-world usage may frequently vary or be significantly lower than configured values for the majority of the time, necessitating ongoing adjustments to pod request and limit values by DevOps teams or Developers. EMP addresses this by deploying an alternate virtualization layer that monitors actual resource usage of your applications and dynamically allocates compute resources to meet the needs of your application, eliminating the need for manual configuration changes to your pod request and limit values.\n",
      "\n",
      "Developers can continue to base their application’s request and limit values based on peak usage. At the same time, operations teams gain a powerful lever to rein in expenses.\n",
      "\n",
      "\n"
     ]
    }
   ],
   "source": [
    "for i, doc in enumerate(sc_docs):\n",
    "    print(f\"\\nDocument {i} \\n{'-' * 100}\")  # This prints 10 dashes\n",
    "    print(f\"\\n {doc.metadata} \\n\")\n",
    "    print(doc.page_content)"
   ]
  },
  {
   "cell_type": "code",
   "execution_count": 25,
   "metadata": {},
   "outputs": [],
   "source": [
    "from typing import List\n",
    "from langchain.schema import Document\n",
    "\n",
    "# Function that returns a list of LangChain Document objects\n",
    "def create_documents(chunks: dict) -> List[Document]:\n",
    "    documents = []\n",
    "    \n",
    "    for chunk_id, chunk_data in chunks.items():\n",
    "        content = \" \".join(chunk_data['propositions'])\n",
    "        \n",
    "        metadata = {\n",
    "            \"chunk_id\": chunk_data['chunk_id'],\n",
    "            \"title\": chunk_data['title'],\n",
    "            \"summary\": chunk_data['summary'],\n",
    "            \"chunk_index\": chunk_data['chunk_index'],\n",
    "        }\n",
    "        doc = Document(page_content=content, metadata=metadata)\n",
    "        \n",
    "        documents.append(doc)\n",
    "    \n",
    "    return documents  "
   ]
  },
  {
   "cell_type": "code",
   "execution_count": 26,
   "metadata": {},
   "outputs": [],
   "source": [
    "agentic_docs = create_documents(agentic_chunker.chunks)"
   ]
  },
  {
   "cell_type": "code",
   "execution_count": 27,
   "metadata": {},
   "outputs": [
    {
     "data": {
      "text/plain": [
       "[Document(metadata={'chunk_id': '81da1', 'title': 'Kubernetes Optimization & Cloud Compatibility with Platform9 EMP', 'summary': 'This chunk provides detailed information about Platform9 Elastic Machine Pool (EMP), focusing on its Kubernetes cost optimization capabilities, resource utilization features, and compatibility with cloud services, while maintaining existing pod configurations.', 'chunk_index': 0}, page_content=\"Platform9 Elastic Machine Pool (EMP) is a Kubernetes cost optimization platform. Platform9 Elastic Machine Pool (EMP) is for public cloud native Kubernetes offerings. Platform9 Elastic Machine Pool (EMP) helps users to reclaim more than 70% of their wasted Kubernetes compute. The wasted Kubernetes compute may be sitting idle today. Platform9 Elastic Machine Pool (EMP) reduces Kubernetes cluster costs by more than 70%. Platform9 Elastic Machine Pool (EMP) supports AWS EKS Kubernetes service today. Support for GKE and AKS by Platform9 Elastic Machine Pool (EMP) is coming in the future. EMP optimizes Kubernetes utilization by reclaiming existing unused capacity in clusters. EMP enables optimization of capacity that is allocated to pods via request and limit values but not actually utilized. Many existing tools optimize Kubernetes resource consumption by modifying pods' request and limit values. EMP taps into existing unused capacity to deploy new workloads. EMP requires no changes to pods' request and limit values. When EMP needs to scale and add more capacity, it can 'live migrate' workloads around. EMP's 'live migrate' feature results in zero pod disruption. EMP's 'live migrate' feature results in much higher availability for stateful workloads. EMP's 'live migrate' feature is important for data services. EMP's 'live migrate' feature is important for AI/ML applications. EMP's 'live migrate' feature is important for large java web applications. EMP automatically monitors and optimizes VM deployments to maximize Kubernetes resource utilization. EMP handles usage spikes by scaling out underlying infrastructure. EMP rebalances workloads without application downtime during usage spikes. Resource Consolidation utilizes server consolidation techniques. Continuous Monitoring & Real-Time Scaling identifies optimization opportunities in real-time. Continuous Monitoring & Real-Time Scaling proactively scales resources up or down to maintain efficiency. Continuous Monitoring & Real-Time Scaling employs live migration techniques. Live migration techniques are employed to ensure application Service Level Agreements are met during adjustments. There is an optional step in the EMP enablement process to choose specific applications for EMP optimization. Several monitoring and visibility tools are available on the market for Kubernetes cost management. These tools claim to provide significant cost savings for Kubernetes environments. Despite the use of Kubernetes cost management tools, Kubernetes utilization remains low. With EMP, developers continue to set the requests and limits on application pods as they desire. EMP optimizes EKS resource utilization based on demand. EMP works behind the scenes to optimize resource utilization. EMP is complementary to existing Kubernetes cost management tools. EMP can provide value on top of existing Kubernetes cost management technologies by maximizing utilization.\"),\n",
       " Document(metadata={'chunk_id': 'f0b80', 'title': 'AWS EKS Cluster Management, Resource Efficiency & Cost Reduction', 'summary': 'This chunk provides guidance on managing AWS EKS clusters, with a focus on optimization, cost reduction, resource efficiency, and the integration of monitoring tools and spot instances.', 'chunk_index': 1}, page_content='This documentation is intended for administrators and operators managing AWS EKS clusters. This documentation is intended for DevOps teams seeking to optimize AWS and EKS cloud spend. For a comprehensive understanding of EKS, one should refer to the official AWS EKS documentation. Resource Consolidation optimizes workload placement on underlying EC2 infrastructure. Resource Consolidation significantly reduces wasted CPU resources in EKS clusters. Resource Consolidation significantly reduces wasted memory resources in EKS clusters. Continuous Monitoring & Real-Time Scaling constantly monitors resource usage across all applications in EKS clusters. The integration with existing or new EKS clusters is effortless. There are tools that make it easy to use spot instances with EKS clusters. Using spot instances with EKS clusters helps reduce costs. The unsuitability of spot instances for certain applications puts a ceiling on the savings offered by some tools.'),\n",
       " Document(metadata={'chunk_id': 'c7499', 'title': 'Cloud Cost Management & Optimization for IT Professionals', 'summary': 'This chunk offers guidance and tools for IT professionals and DevOps teams to optimize and manage costs in cloud computing, specifically focusing on AWS and Kubernetes.', 'chunk_index': 2}, page_content=\"This documentation is intended for IT decision-makers evaluating cost saving solutions for AWS and Kubernetes. Resource Consolidation utilizes proven virtualization techniques. DevOps teams typically spend significant time on cost-saving measures. CloudHealth, Cloudability, and Datadog are examples of tools that help understand cloud costs. CloudHealth, Cloudability, and Datadog help identify areas where money can be saved in cloud costs. There are tools that adjust application's request and limit values to cut costs. 70% or more of Kubernetes cloud resources are being completely wasted.\"),\n",
       " Document(metadata={'chunk_id': 'b7440', 'title': 'Kubernetes Optimization & Stateful Application Challenges', 'summary': 'This chunk discusses Kubernetes resource management and optimization, including the role of tools like Karpenter, the effects of resource allocation and consolidation on pod performance, and the challenges faced by stateful applications in dynamic environments.', 'chunk_index': 3}, page_content=\"EMP goes beyond bin-packing. Open source Karpenter is a tool that uses effective bin packing to allocate nodes for Kubernetes. Karpenter allocates nodes just in time to fit pod's resource requirements. Tools like Karpenter cannot optimize Kubernetes utilization if there is resource wastage due to high request and limit values. Tools like Karpenter involve a 'consolidation' phase where nodes are interrupted. During the 'consolidation' phase, fragmented pod deployments are consolidated. The 'consolidation' phase requires pod restart. Many stateful applications cannot tolerate the pod restart required during the 'consolidation' phase. Spot instances are not suitable for stateful applications that cannot tolerate node interrupts. Adjusting an application's request and limit values to cut costs will require pod restart for changes to take effect. Kubernetes utilization typically ranges between 15 and 30%. Application developers frequently define the resource requirements of their Kubernetes workloads based on peak CPU and memory requirements.\"),\n",
       " Document(metadata={'chunk_id': '93cdb', 'title': 'Missing Content Information', 'summary': 'This chunk will contain information about unspecified or missing content.', 'chunk_index': 4}, page_content='[]'),\n",
       " Document(metadata={'chunk_id': 'd53ae', 'title': 'EMP Integration Process & Ease for AWS EKS', 'summary': 'This chunk outlines the steps and simplicity of integrating EMP with AWS accounts and EKS clusters, emphasizing that no modifications are needed for applications or cluster management.', 'chunk_index': 5}, page_content='The integration requires no modifications to applications. The integration requires no modifications to cluster management processes. The enablement process for EMP is simple. The first step to enable EMP is to enable EMP for your AWS account. The second step to enable EMP is to select the desired EKS clusters. EMP does not require changes to the request and limit values of applications.'),\n",
       " Document(metadata={'chunk_id': '3bbcd', 'title': 'Autonomous Zero-Tuning Operations Advantages', 'summary': 'This chunk focuses on the advantages and functionalities of Zero-Tuning Operations, highlighting its autonomous nature and time-saving benefits for DevOps teams.', 'chunk_index': 6}, page_content='Zero-Tuning Operations operates autonomously once enabled. Zero-Tuning Operations eliminates the need for manual tuning or configuration. Zero-Tuning Operations saves DevOps teams significant time.'),\n",
       " Document(metadata={'chunk_id': '892dd', 'title': 'Cloud Management Platforms', 'summary': 'This chunk discusses various cloud management platforms and their features related to resource utilization automation.', 'chunk_index': 7}, page_content='CloudHealth, Cloudability, and Datadog do not specifically focus on automating changes to increase overall resource utilization.')]"
      ]
     },
     "execution_count": 27,
     "metadata": {},
     "output_type": "execute_result"
    }
   ],
   "source": [
    "agentic_docs"
   ]
  },
  {
   "cell_type": "code",
   "execution_count": 28,
   "metadata": {},
   "outputs": [],
   "source": [
    "markdown_docs=documents"
   ]
  },
  {
   "cell_type": "markdown",
   "metadata": {},
   "source": [
    "### Testing ***Agentic Chunking*** vs ***MarkdownHeaderSplitter***"
   ]
  },
  {
   "cell_type": "code",
   "execution_count": 29,
   "metadata": {},
   "outputs": [
    {
     "data": {
      "text/plain": [
       "'text-embedding-ada-002'"
      ]
     },
     "execution_count": 29,
     "metadata": {},
     "output_type": "execute_result"
    }
   ],
   "source": [
    "embedding_model = OpenAIEmbeddings()\n",
    "embedding_model.model"
   ]
  },
  {
   "cell_type": "code",
   "execution_count": 30,
   "metadata": {},
   "outputs": [
    {
     "name": "stdout",
     "output_type": "stream",
     "text": [
      "\n",
      "\u001b[1m[\u001b[0m\u001b[34;49mnotice\u001b[0m\u001b[1;39;49m]\u001b[0m\u001b[39;49m A new release of pip is available: \u001b[0m\u001b[31;49m24.0\u001b[0m\u001b[39;49m -> \u001b[0m\u001b[32;49m24.2\u001b[0m\n",
      "\u001b[1m[\u001b[0m\u001b[34;49mnotice\u001b[0m\u001b[1;39;49m]\u001b[0m\u001b[39;49m To update, run: \u001b[0m\u001b[32;49mpip install --upgrade pip\u001b[0m\n",
      "Note: you may need to restart the kernel to use updated packages.\n"
     ]
    }
   ],
   "source": [
    "%pip install -qU langchain-community faiss-cpu"
   ]
  },
  {
   "cell_type": "markdown",
   "metadata": {},
   "source": [
    "#### How do semantic search look  for different docs (markdown vs agentic)"
   ]
  },
  {
   "cell_type": "code",
   "execution_count": 31,
   "metadata": {},
   "outputs": [
    {
     "name": "stderr",
     "output_type": "stream",
     "text": [
      "/var/folders/sc/zs54s9k551535_87l6wyj_hm0000gr/T/ipykernel_13642/1985211156.py:5: LangChainDeprecationWarning: The class `OpenAIEmbeddings` was deprecated in LangChain 0.0.9 and will be removed in 1.0. An updated version of the class exists in the langchain-openai package and should be used instead. To use it run `pip install -U langchain-openai` and import as `from langchain_openai import OpenAIEmbeddings`.\n",
      "  embedding_model = OpenAIEmbeddings()\n"
     ]
    }
   ],
   "source": [
    "from langchain.embeddings.openai import OpenAIEmbeddings\n",
    "from langchain.vectorstores import FAISS\n",
    "\n",
    "# Initialize embedding model\n",
    "embedding_model = OpenAIEmbeddings()\n",
    "\n",
    "# Create vector stores for both sets of documents\n",
    "agentic_vector_store = FAISS.from_documents(agentic_docs, embedding_model)\n",
    "markdown_vector_store = FAISS.from_documents(markdown_docs, embedding_model)"
   ]
  },
  {
   "cell_type": "code",
   "execution_count": 32,
   "metadata": {},
   "outputs": [
    {
     "name": "stdout",
     "output_type": "stream",
     "text": [
      "Agentic Results:\n",
      "('Platform9 Elastic Machine Pool (EMP) is a Kubernetes cost optimization '\n",
      " 'platform. Platform9 Elastic Machine Pool (EMP) is for public cloud native '\n",
      " 'Kubernetes offerings. Platform9 Elastic Machine Pool (EMP) helps users to '\n",
      " 'reclaim more than 70% of their wasted Kubernetes compute. The wasted '\n",
      " 'Kubernetes compute may be sitting idle today. Platform9 Elastic Machine Pool '\n",
      " '(EMP) reduces Kubernetes cluster costs by more than 70%. Platform9 Elastic '\n",
      " 'Machine Pool (EMP) supports AWS EKS Kubernetes service today. Support for '\n",
      " 'GKE and AKS by Platform9 Elastic Machine Pool (EMP) is coming in the future. '\n",
      " 'EMP optimizes Kubernetes utilization by reclaiming existing unused capacity '\n",
      " 'in clusters. EMP enables optimization of capacity that is allocated to pods '\n",
      " 'via request and limit values but not actually utilized. Many existing tools '\n",
      " \"optimize Kubernetes resource consumption by modifying pods' request and \"\n",
      " 'limit values. EMP taps into existing unused capacity to deploy new '\n",
      " \"workloads. EMP requires no changes to pods' request and limit values. When \"\n",
      " \"EMP needs to scale and add more capacity, it can 'live migrate' workloads \"\n",
      " \"around. EMP's 'live migrate' feature results in zero pod disruption. EMP's \"\n",
      " \"'live migrate' feature results in much higher availability for stateful \"\n",
      " \"workloads. EMP's 'live migrate' feature is important for data services. \"\n",
      " \"EMP's 'live migrate' feature is important for AI/ML applications. EMP's \"\n",
      " \"'live migrate' feature is important for large java web applications. EMP \"\n",
      " 'automatically monitors and optimizes VM deployments to maximize Kubernetes '\n",
      " 'resource utilization. EMP handles usage spikes by scaling out underlying '\n",
      " 'infrastructure. EMP rebalances workloads without application downtime during '\n",
      " 'usage spikes. Resource Consolidation utilizes server consolidation '\n",
      " 'techniques. Continuous Monitoring & Real-Time Scaling identifies '\n",
      " 'optimization opportunities in real-time. Continuous Monitoring & Real-Time '\n",
      " 'Scaling proactively scales resources up or down to maintain efficiency. '\n",
      " 'Continuous Monitoring & Real-Time Scaling employs live migration techniques. '\n",
      " 'Live migration techniques are employed to ensure application Service Level '\n",
      " 'Agreements are met during adjustments. There is an optional step in the EMP '\n",
      " 'enablement process to choose specific applications for EMP optimization. '\n",
      " 'Several monitoring and visibility tools are available on the market for '\n",
      " 'Kubernetes cost management. These tools claim to provide significant cost '\n",
      " 'savings for Kubernetes environments. Despite the use of Kubernetes cost '\n",
      " 'management tools, Kubernetes utilization remains low. With EMP, developers '\n",
      " 'continue to set the requests and limits on application pods as they desire. '\n",
      " 'EMP optimizes EKS resource utilization based on demand. EMP works behind the '\n",
      " 'scenes to optimize resource utilization. EMP is complementary to existing '\n",
      " 'Kubernetes cost management tools. EMP can provide value on top of existing '\n",
      " 'Kubernetes cost management technologies by maximizing utilization.')\n",
      "('EMP goes beyond bin-packing. Open source Karpenter is a tool that uses '\n",
      " 'effective bin packing to allocate nodes for Kubernetes. Karpenter allocates '\n",
      " \"nodes just in time to fit pod's resource requirements. Tools like Karpenter \"\n",
      " 'cannot optimize Kubernetes utilization if there is resource wastage due to '\n",
      " 'high request and limit values. Tools like Karpenter involve a '\n",
      " \"'consolidation' phase where nodes are interrupted. During the \"\n",
      " \"'consolidation' phase, fragmented pod deployments are consolidated. The \"\n",
      " \"'consolidation' phase requires pod restart. Many stateful applications \"\n",
      " \"cannot tolerate the pod restart required during the 'consolidation' phase. \"\n",
      " 'Spot instances are not suitable for stateful applications that cannot '\n",
      " \"tolerate node interrupts. Adjusting an application's request and limit \"\n",
      " 'values to cut costs will require pod restart for changes to take effect. '\n",
      " 'Kubernetes utilization typically ranges between 15 and 30%. Application '\n",
      " 'developers frequently define the resource requirements of their Kubernetes '\n",
      " 'workloads based on peak CPU and memory requirements.')\n",
      "('The integration requires no modifications to applications. The integration '\n",
      " 'requires no modifications to cluster management processes. The enablement '\n",
      " 'process for EMP is simple. The first step to enable EMP is to enable EMP for '\n",
      " 'your AWS account. The second step to enable EMP is to select the desired EKS '\n",
      " 'clusters. EMP does not require changes to the request and limit values of '\n",
      " 'applications.')\n",
      "('This documentation is intended for administrators and operators managing AWS '\n",
      " 'EKS clusters. This documentation is intended for DevOps teams seeking to '\n",
      " 'optimize AWS and EKS cloud spend. For a comprehensive understanding of EKS, '\n",
      " 'one should refer to the official AWS EKS documentation. Resource '\n",
      " 'Consolidation optimizes workload placement on underlying EC2 infrastructure. '\n",
      " 'Resource Consolidation significantly reduces wasted CPU resources in EKS '\n",
      " 'clusters. Resource Consolidation significantly reduces wasted memory '\n",
      " 'resources in EKS clusters. Continuous Monitoring & Real-Time Scaling '\n",
      " 'constantly monitors resource usage across all applications in EKS clusters. '\n",
      " 'The integration with existing or new EKS clusters is effortless. There are '\n",
      " 'tools that make it easy to use spot instances with EKS clusters. Using spot '\n",
      " 'instances with EKS clusters helps reduce costs. The unsuitability of spot '\n",
      " 'instances for certain applications puts a ceiling on the savings offered by '\n",
      " 'some tools.')\n",
      "\n",
      "Markdown Results:\n",
      "('## Key Differentiators of EMP\\n'\n",
      " '\\n'\n",
      " '1. **Go beyond bin-packing.** EMP optimizes your Kubernetes utilization by '\n",
      " 'reclaiming existing unused capacity in your cluster. This enables you to go '\n",
      " 'much further beyond just the bin packing benefits, and actually optimize '\n",
      " 'capacity that is allocated to your pods via request and limit values but not '\n",
      " 'actually utilized. \\n'\n",
      " '2. **Optimize without right-sizing**: Many existing tools try to optimize '\n",
      " \"your Kubernetes resource consumption by modifying your pod's request and \"\n",
      " 'limit values. But since EMP can actually tap into existing unused capacity '\n",
      " \"to deploy new workloads, EMP requires making no changes to your pod's \"\n",
      " 'request and limit values. \\n'\n",
      " '3. **Rebalance with zero pod downtime**: When EMP needs to scale and add '\n",
      " \"more capacity, or consolidate to better use existing capacity, it can 'live \"\n",
      " \"migrate' workloads around to do this. This means zero pod disruption and \"\n",
      " 'much higher availability for your stateful workloads. This is specially '\n",
      " 'important for data services, AI/ML or large java web applications. \\n'\n",
      " '4. **Continuous Optimization**: EMP automatically monitor and optimize VM '\n",
      " 'deployments behind the scenes to maximize Kubernetes resource utilization.\\n'\n",
      " '5. **Seamless Scaling**: EMP handle usage spikes by scaling out underlying '\n",
      " 'infrastructure and rebalancing workloads without application downtime.\\n'\n",
      " '\\n')\n",
      "('## EMP vs Other Kubernetes Cost Management Tools\\n'\n",
      " '\\n'\n",
      " 'There are several monitoring and visibility tools available on the market '\n",
      " 'that claim to provide significant cost savings for your Kubernetes '\n",
      " 'environment. CloudHealth, Cloudability, and Datadog are great tools for '\n",
      " 'understanding your cloud costs and identifying areas where you can save '\n",
      " 'money. However, they do not specifically focus on automating the changes '\n",
      " 'needed to increase your overall resource utilization.\\n'\n",
      " '\\n'\n",
      " 'Then there are tools such as open source Karpenter that make use of '\n",
      " \"effective bin packing to allocate nodes just in time that fit your pod's \"\n",
      " 'resource requirements. However, these tools can not make a dent at '\n",
      " 'optimizing your Kubernetes utilization if there is resource wastage due to '\n",
      " 'high request and limit values. These tools will also involve a '\n",
      " \"'consolidation' phase where nodes are interrupted to consolidate fragmented \"\n",
      " 'pod deployments. This also requires pod restart which many stateful '\n",
      " 'applications can not tolerate.\\n'\n",
      " '\\n'\n",
      " 'Then there are tools that make it easy to use spot instances with your EKS '\n",
      " 'clusters to reduce your costs. However, spot instances are not a good fit '\n",
      " 'for stateful applications that can not tolerate node interrupts, thus '\n",
      " 'putting a ceiling on the amount of savings such tools can offer.\\n'\n",
      " '\\n'\n",
      " \"Lastly there are tools that makes adjustments to your application's request \"\n",
      " 'and limit values as a way to cut costs. But these tools will also require '\n",
      " 'pod restart for the changes to take effect.\\n'\n",
      " '\\n'\n",
      " 'As a result, despite the use of these tools, Kubernetes utilization remains '\n",
      " 'low, ranging between 15 and 30%. That means 70% or more of your k8s cloud '\n",
      " 'resources are being completely wasted.\\n'\n",
      " '\\n'\n",
      " 'With EMP, there is no change to the request and limit values of your '\n",
      " 'application necessary. Your developers will continue to set the requests and '\n",
      " 'limits on the application pods that they desire, and EMP will work behind '\n",
      " 'the scenes to optimize your EKS resource utilization based on demand.\\n'\n",
      " '\\n'\n",
      " 'EMP is complementary to your existing tools and can provide value on top of '\n",
      " 'these technologies by maximizing utilization behind the scenes.\\n'\n",
      " '\\n')\n",
      "('## EMP Benefits For Developers and DevOps\\n'\n",
      " '\\n'\n",
      " 'Application developers frequently define the resource requirements of their '\n",
      " 'Kubernetes workloads based on peak CPU and memory requirements. However, '\n",
      " 'real-world usage may frequently vary or be significantly lower than '\n",
      " 'configured values for the majority of the time, necessitating ongoing '\n",
      " 'adjustments to pod request and limit values by DevOps teams or Developers. '\n",
      " 'EMP addresses this by deploying an alternate virtualization layer that '\n",
      " 'monitors actual resource usage of your applications and dynamically '\n",
      " 'allocates compute resources to meet the needs of your application, '\n",
      " 'eliminating the need for manual configuration changes to your pod request '\n",
      " 'and limit values.\\n'\n",
      " '\\n'\n",
      " 'Developers can continue to base their application’s request and limit values '\n",
      " 'based on peak usage. At the same time, operations teams gain a powerful '\n",
      " 'lever to rein in expenses.\\n'\n",
      " '\\n')\n",
      "'## Key Features of EMP\\n\\n'\n"
     ]
    }
   ],
   "source": [
    "import pprint\n",
    "query = \"How does EMP optimize Kubernetes utilization?\"\n",
    "\n",
    "# Perform similarity search for both sets of documents\n",
    "agentic_results = agentic_vector_store.similarity_search(query)\n",
    "markdown_results = markdown_vector_store.similarity_search(query)\n",
    "\n",
    "# Output the results for manual inspection\n",
    "print(\"Agentic Results:\")\n",
    "for result in agentic_results:\n",
    "    pprint.pprint(result.page_content)\n",
    "\n",
    "print(\"\\nMarkdown Results:\")\n",
    "for result in markdown_results:\n",
    "    pprint.pprint(result.page_content)"
   ]
  },
  {
   "cell_type": "code",
   "execution_count": 33,
   "metadata": {},
   "outputs": [
    {
     "data": {
      "text/plain": [
       "[Document(metadata={'chunk_id': '81da1', 'title': 'Kubernetes Optimization & Cloud Compatibility with Platform9 EMP', 'summary': 'This chunk provides detailed information about Platform9 Elastic Machine Pool (EMP), focusing on its Kubernetes cost optimization capabilities, resource utilization features, and compatibility with cloud services, while maintaining existing pod configurations.', 'chunk_index': 0}, page_content=\"Platform9 Elastic Machine Pool (EMP) is a Kubernetes cost optimization platform. Platform9 Elastic Machine Pool (EMP) is for public cloud native Kubernetes offerings. Platform9 Elastic Machine Pool (EMP) helps users to reclaim more than 70% of their wasted Kubernetes compute. The wasted Kubernetes compute may be sitting idle today. Platform9 Elastic Machine Pool (EMP) reduces Kubernetes cluster costs by more than 70%. Platform9 Elastic Machine Pool (EMP) supports AWS EKS Kubernetes service today. Support for GKE and AKS by Platform9 Elastic Machine Pool (EMP) is coming in the future. EMP optimizes Kubernetes utilization by reclaiming existing unused capacity in clusters. EMP enables optimization of capacity that is allocated to pods via request and limit values but not actually utilized. Many existing tools optimize Kubernetes resource consumption by modifying pods' request and limit values. EMP taps into existing unused capacity to deploy new workloads. EMP requires no changes to pods' request and limit values. When EMP needs to scale and add more capacity, it can 'live migrate' workloads around. EMP's 'live migrate' feature results in zero pod disruption. EMP's 'live migrate' feature results in much higher availability for stateful workloads. EMP's 'live migrate' feature is important for data services. EMP's 'live migrate' feature is important for AI/ML applications. EMP's 'live migrate' feature is important for large java web applications. EMP automatically monitors and optimizes VM deployments to maximize Kubernetes resource utilization. EMP handles usage spikes by scaling out underlying infrastructure. EMP rebalances workloads without application downtime during usage spikes. Resource Consolidation utilizes server consolidation techniques. Continuous Monitoring & Real-Time Scaling identifies optimization opportunities in real-time. Continuous Monitoring & Real-Time Scaling proactively scales resources up or down to maintain efficiency. Continuous Monitoring & Real-Time Scaling employs live migration techniques. Live migration techniques are employed to ensure application Service Level Agreements are met during adjustments. There is an optional step in the EMP enablement process to choose specific applications for EMP optimization. Several monitoring and visibility tools are available on the market for Kubernetes cost management. These tools claim to provide significant cost savings for Kubernetes environments. Despite the use of Kubernetes cost management tools, Kubernetes utilization remains low. With EMP, developers continue to set the requests and limits on application pods as they desire. EMP optimizes EKS resource utilization based on demand. EMP works behind the scenes to optimize resource utilization. EMP is complementary to existing Kubernetes cost management tools. EMP can provide value on top of existing Kubernetes cost management technologies by maximizing utilization.\"),\n",
       " Document(metadata={'chunk_id': 'b7440', 'title': 'Kubernetes Optimization & Stateful Application Challenges', 'summary': 'This chunk discusses Kubernetes resource management and optimization, including the role of tools like Karpenter, the effects of resource allocation and consolidation on pod performance, and the challenges faced by stateful applications in dynamic environments.', 'chunk_index': 3}, page_content=\"EMP goes beyond bin-packing. Open source Karpenter is a tool that uses effective bin packing to allocate nodes for Kubernetes. Karpenter allocates nodes just in time to fit pod's resource requirements. Tools like Karpenter cannot optimize Kubernetes utilization if there is resource wastage due to high request and limit values. Tools like Karpenter involve a 'consolidation' phase where nodes are interrupted. During the 'consolidation' phase, fragmented pod deployments are consolidated. The 'consolidation' phase requires pod restart. Many stateful applications cannot tolerate the pod restart required during the 'consolidation' phase. Spot instances are not suitable for stateful applications that cannot tolerate node interrupts. Adjusting an application's request and limit values to cut costs will require pod restart for changes to take effect. Kubernetes utilization typically ranges between 15 and 30%. Application developers frequently define the resource requirements of their Kubernetes workloads based on peak CPU and memory requirements.\"),\n",
       " Document(metadata={'chunk_id': 'd53ae', 'title': 'EMP Integration Process & Ease for AWS EKS', 'summary': 'This chunk outlines the steps and simplicity of integrating EMP with AWS accounts and EKS clusters, emphasizing that no modifications are needed for applications or cluster management.', 'chunk_index': 5}, page_content='The integration requires no modifications to applications. The integration requires no modifications to cluster management processes. The enablement process for EMP is simple. The first step to enable EMP is to enable EMP for your AWS account. The second step to enable EMP is to select the desired EKS clusters. EMP does not require changes to the request and limit values of applications.'),\n",
       " Document(metadata={'chunk_id': 'f0b80', 'title': 'AWS EKS Cluster Management, Resource Efficiency & Cost Reduction', 'summary': 'This chunk provides guidance on managing AWS EKS clusters, with a focus on optimization, cost reduction, resource efficiency, and the integration of monitoring tools and spot instances.', 'chunk_index': 1}, page_content='This documentation is intended for administrators and operators managing AWS EKS clusters. This documentation is intended for DevOps teams seeking to optimize AWS and EKS cloud spend. For a comprehensive understanding of EKS, one should refer to the official AWS EKS documentation. Resource Consolidation optimizes workload placement on underlying EC2 infrastructure. Resource Consolidation significantly reduces wasted CPU resources in EKS clusters. Resource Consolidation significantly reduces wasted memory resources in EKS clusters. Continuous Monitoring & Real-Time Scaling constantly monitors resource usage across all applications in EKS clusters. The integration with existing or new EKS clusters is effortless. There are tools that make it easy to use spot instances with EKS clusters. Using spot instances with EKS clusters helps reduce costs. The unsuitability of spot instances for certain applications puts a ceiling on the savings offered by some tools.')]"
      ]
     },
     "execution_count": 33,
     "metadata": {},
     "output_type": "execute_result"
    }
   ],
   "source": [
    "agentic_results"
   ]
  },
  {
   "cell_type": "code",
   "execution_count": 34,
   "metadata": {},
   "outputs": [
    {
     "data": {
      "text/plain": [
       "[Document(metadata={'Markdown Header 2': 'Key Differentiators of EMP'}, page_content=\"## Key Differentiators of EMP\\n\\n1. **Go beyond bin-packing.** EMP optimizes your Kubernetes utilization by reclaiming existing unused capacity in your cluster. This enables you to go much further beyond just the bin packing benefits, and actually optimize capacity that is allocated to your pods via request and limit values but not actually utilized. \\n2. **Optimize without right-sizing**: Many existing tools try to optimize your Kubernetes resource consumption by modifying your pod's request and limit values. But since EMP can actually tap into existing unused capacity to deploy new workloads, EMP requires making no changes to your pod's request and limit values. \\n3. **Rebalance with zero pod downtime**: When EMP needs to scale and add more capacity, or consolidate to better use existing capacity, it can 'live migrate' workloads around to do this. This means zero pod disruption and much higher availability for your stateful workloads. This is specially important for data services, AI/ML or large java web applications. \\n4. **Continuous Optimization**: EMP automatically monitor and optimize VM deployments behind the scenes to maximize Kubernetes resource utilization.\\n5. **Seamless Scaling**: EMP handle usage spikes by scaling out underlying infrastructure and rebalancing workloads without application downtime.\\n\\n\"),\n",
       " Document(metadata={'Markdown Header 2': 'EMP vs Other Kubernetes Cost Management Tools'}, page_content=\"## EMP vs Other Kubernetes Cost Management Tools\\n\\nThere are several monitoring and visibility tools available on the market that claim to provide significant cost savings for your Kubernetes environment. CloudHealth, Cloudability, and Datadog are great tools for understanding your cloud costs and identifying areas where you can save money. However, they do not specifically focus on automating the changes needed to increase your overall resource utilization.\\n\\nThen there are tools such as open source Karpenter that make use of effective bin packing to allocate nodes just in time that fit your pod's resource requirements. However, these tools can not make a dent at optimizing your Kubernetes utilization if there is resource wastage due to high request and limit values. These tools will also involve a 'consolidation' phase where nodes are interrupted to consolidate fragmented pod deployments. This also requires pod restart which many stateful applications can not tolerate.\\n\\nThen there are tools that make it easy to use spot instances with your EKS clusters to reduce your costs. However, spot instances are not a good fit for stateful applications that can not tolerate node interrupts, thus putting a ceiling on the amount of savings such tools can offer.\\n\\nLastly there are tools that makes adjustments to your application's request and limit values as a way to cut costs. But these tools will also require pod restart for the changes to take effect.\\n\\nAs a result, despite the use of these tools, Kubernetes utilization remains low, ranging between 15 and 30%. That means 70% or more of your k8s cloud resources are being completely wasted.\\n\\nWith EMP, there is no change to the request and limit values of your application necessary. Your developers will continue to set the requests and limits on the application pods that they desire, and EMP will work behind the scenes to optimize your EKS resource utilization based on demand.\\n\\nEMP is complementary to your existing tools and can provide value on top of these technologies by maximizing utilization behind the scenes.\\n\\n\"),\n",
       " Document(metadata={'Markdown Header 2': 'EMP Benefits For Developers and DevOps'}, page_content='## EMP Benefits For Developers and DevOps\\n\\nApplication developers frequently define the resource requirements of their Kubernetes workloads based on peak CPU and memory requirements. However, real-world usage may frequently vary or be significantly lower than configured values for the majority of the time, necessitating ongoing adjustments to pod request and limit values by DevOps teams or Developers. EMP addresses this by deploying an alternate virtualization layer that monitors actual resource usage of your applications and dynamically allocates compute resources to meet the needs of your application, eliminating the need for manual configuration changes to your pod request and limit values.\\n\\nDevelopers can continue to base their application’s request and limit values based on peak usage. At the same time, operations teams gain a powerful lever to rein in expenses.\\n\\n'),\n",
       " Document(metadata={'Markdown Header 2': 'Key Features of EMP'}, page_content='## Key Features of EMP\\n\\n')]"
      ]
     },
     "execution_count": 34,
     "metadata": {},
     "output_type": "execute_result"
    }
   ],
   "source": [
    "markdown_results"
   ]
  },
  {
   "cell_type": "markdown",
   "metadata": {},
   "source": [
    "#### Cosine Similarity for different query -> docs (markdown vs agentic)"
   ]
  },
  {
   "cell_type": "code",
   "execution_count": 35,
   "metadata": {},
   "outputs": [
    {
     "name": "stdout",
     "output_type": "stream",
     "text": [
      "Agentic Similarity Scores: [0.8882975080884399, 0.8596526834565243, 0.8534091032005438, 0.8258291274751139]\n",
      "Markdown Similarity Scores: [0.9063072633257371, 0.8879783226257386, 0.8850892970478984, 0.8415356210338503]\n"
     ]
    }
   ],
   "source": [
    "from sklearn.metrics.pairwise import cosine_similarity\n",
    "\n",
    "# Get the embedding of the query\n",
    "query_embedding = embedding_model.embed_query(query)\n",
    "\n",
    "# Calculate similarity for agentic results\n",
    "agentic_similarity_scores = [\n",
    "    cosine_similarity([query_embedding], [embedding_model.embed_query(doc.page_content)])[0][0]\n",
    "    for doc in agentic_results\n",
    "]\n",
    "\n",
    "# Calculate similarity for markdown results\n",
    "markdown_similarity_scores = [\n",
    "    cosine_similarity([query_embedding], [embedding_model.embed_query(doc.page_content)])[0][0]\n",
    "    for doc in markdown_results\n",
    "]\n",
    "\n",
    "# Output similarity scores for comparison\n",
    "print(\"Agentic Similarity Scores:\", agentic_similarity_scores)\n",
    "print(\"Markdown Similarity Scores:\", markdown_similarity_scores)"
   ]
  },
  {
   "cell_type": "markdown",
   "metadata": {},
   "source": [
    "#### Looking for results for query from llm using those chunks from docs"
   ]
  },
  {
   "cell_type": "code",
   "execution_count": 26,
   "metadata": {},
   "outputs": [],
   "source": [
    "# Initialize the language model (LLM) for question answering\n",
    "from langchain_openai import ChatOpenAI\n",
    "\n",
    "llm = ChatOpenAI(model=\"gpt-4o-mini\", temperature=0)"
   ]
  },
  {
   "cell_type": "markdown",
   "metadata": {},
   "source": [
    "#### RetrievalQAChain"
   ]
  },
  {
   "cell_type": "code",
   "execution_count": 37,
   "metadata": {},
   "outputs": [],
   "source": [
    "from langchain import hub\n",
    "from langchain.chains import RetrievalQA\n",
    "\n",
    "# See full prompt at https://smith.langchain.com/hub/rlm/rag-prompt\n",
    "prompt = hub.pull(\"pratik-rag-demo\")\n",
    "prompt = hub.pull(\"pratik-rag-big-formatted\")\n",
    "\n",
    "agentic_retrieval_chain = RetrievalQA.from_llm(\n",
    "    llm, retriever=agentic_vector_store.as_retriever(), prompt=prompt\n",
    ")\n",
    "markdown_retrieval_chain = RetrievalQA.from_llm(\n",
    "    llm, retriever=markdown_vector_store.as_retriever(), prompt=prompt\n",
    ")"
   ]
  },
  {
   "cell_type": "markdown",
   "metadata": {},
   "source": [
    "#### ConversationalRetrievalChain"
   ]
  },
  {
   "cell_type": "code",
   "execution_count": 46,
   "metadata": {},
   "outputs": [],
   "source": [
    "# from langchain.chains import ConversationalRetrievalChain, LLMChain\n",
    "# from langchain.memory import ConversationBufferMemory\n",
    "# from langchain.chains.combine_documents import create_stuff_documents_chain\n",
    "# from langchain_core.prompts import ChatPromptTemplate\n",
    "# from langchain_core.prompts import PromptTemplate\n",
    "\n",
    "# # Create a memory to store conversation context\n",
    "# memory = ConversationBufferMemory(memory_key=\"chat_history\", return_messages=True)\n",
    "# stuff_chain = create_stuff_documents_chain(llm, prompt)\n",
    "# retriever = markdown_vector_store.as_retriever()\n",
    "\n",
    "# # This controls how the standalone question is generated.\n",
    "# # Should take `chat_history` and `question` as input variables.\n",
    "# template = (\n",
    "#     \"Combine the chat history and follow up question into \"\n",
    "#     \"a standalone question. Chat History: {chat_history}\"\n",
    "#     \"Follow up question: {question}\"\n",
    "# )\n",
    "# prompt_1 = PromptTemplate.from_template(template)\n",
    "# question_generator_chain = LLMChain(llm=llm, prompt=prompt_1)\n",
    "# conversation_chain = ConversationalRetrievalChain(\n",
    "#     combine_docs_chain=stuff_chain,\n",
    "#     retriever=retriever,\n",
    "#     question_generator=question_generator_chain,\n",
    "# )"
   ]
  },
  {
   "cell_type": "code",
   "execution_count": 45,
   "metadata": {},
   "outputs": [
    {
     "data": {
      "text/plain": [
       "ChatPromptTemplate(input_variables=['context', 'question'], metadata={'lc_hub_owner': '-', 'lc_hub_repo': 'pratik-rag-big-formatted', 'lc_hub_commit_hash': '2ea8d1c3e81eecba1cfc44186f66f299e005084e8b105876a3f1bb27fe152e19'}, messages=[SystemMessagePromptTemplate(prompt=PromptTemplate(input_variables=[], template='You are an intelligent and helpful documentation assistant whose task is to help first-time customers and visitors understand and navigate our product. Your primary goals are to provide accurate, clear, and structured guidance. You should assist users by explaining product features, guiding them through processes step by step, and answering any questions related to the product.\\n\\nGuidelines for Responses:-\\n1. Accuracy and Verification:\\n Ensure that all information provided is accurate and relevant to the user’s query.\\nIf you are unsure about the accuracy of a response, explicitly state that you do not have the information and offer alternative suggestions or sources where the user might find the answer.\\n2. Structured and Readable Output:\\n Organize responses with a clear structure, using appropriate headings, subheadings, paragraphs, and lists.  Use the following HTML tags to enhance readability and visual presentation: <h1> for main headings, <h2> for subheadings, <p> for paragraphs of text, <ul> and <li> for bullet points or lists, <strong> or <b> to emphasize important points, <a href=\"#\"> for hyperlinks, if directing the user to additional resources or sections.\\nBreak down complex topics into easy-to-understand steps or segments, and use both HTML tags and formatting techniques to structure the content effectively. \\n3. Give examples whenever possible, understanding that your users are DevOps, and System Admins managing  workloads with AWS EKS and Kubernetes for their organisations.\\n4. Provide Sources:\\n Provide sources whenever possible, including file names and hyperlinks to relevant documents, articles, or sections.\\n5. Role and Tone:\\n Maintain a professional, helpful, and friendly tone throughout the interaction.\\nFocus on making the user\\'s experience with the product as seamless and informative as possible.\\n6. Contextual Awareness:\\n Tailor your responses based on the specific context provided by the user’s query.\\nOffer step-by-step instructions or overviews depending on the user\\'s needs, whether they are new to the product or seeking detailed information.\\n7. Limits of Knowledge:\\n If a question is outside your scope or you lack the necessary information, acknowledge this and suggest where the user might find further assistance.\\nObjective:-\\n Your objective is to enhance the user\\'s understanding and experience of the product by providing precise, step-by-step guidance, answering their questions, and helping them navigate or onboard the product effectively.\\n')), HumanMessagePromptTemplate(prompt=PromptTemplate(input_variables=['context', 'question'], template='Question: {question} \\nContext: {context} \\nAnswer:'))])"
      ]
     },
     "execution_count": 45,
     "metadata": {},
     "output_type": "execute_result"
    }
   ],
   "source": [
    "prompt"
   ]
  },
  {
   "cell_type": "code",
   "execution_count": 47,
   "metadata": {},
   "outputs": [],
   "source": [
    "def ask_query_rqa(query: str):\n",
    "    print(f\"\\nQuery: {query}\\n\")\n",
    "\n",
    "    # Retrieve and generate answers from Agentic chunking\n",
    "    print(\"Agentic Chunking Results:\")\n",
    "    agentic_result = agentic_retrieval_chain.invoke(query)\n",
    "    print(agentic_result)\n",
    "\n",
    "    # Retrieve and generate answers from Markdown chunking\n",
    "    print(\"\\nMarkdown Chunking Results:\") \n",
    "    markdown_result = markdown_retrieval_chain.invoke(query)\n",
    "    print(markdown_result)\n",
    "\n",
    "    return agentic_result, markdown_result"
   ]
  },
  {
   "cell_type": "code",
   "execution_count": 41,
   "metadata": {},
   "outputs": [],
   "source": [
    "# def ask_query_crc(query: str):\n",
    "#     print(f\"\\nQuery: {query}\\n\")\n",
    "\n",
    "#     response = conversation_chain({\"input\": query})\n",
    "#     return response['output']\n"
   ]
  },
  {
   "cell_type": "code",
   "execution_count": 48,
   "metadata": {},
   "outputs": [
    {
     "name": "stdout",
     "output_type": "stream",
     "text": [
      "\n",
      "Query: How does EMP optimize Kubernetes utilization?\n",
      "\n",
      "Agentic Chunking Results:\n",
      "{'query': 'How does EMP optimize Kubernetes utilization?', 'result': '<h1>How EMP Optimizes Kubernetes Utilization</h1>\\n\\nPlatform9 Elastic Machine Pool (EMP) is designed to enhance the efficiency of Kubernetes workloads, particularly in AWS EKS environments. Below, we outline the key features and mechanisms through which EMP optimizes Kubernetes utilization.\\n\\n<h2>1. Reclaiming Unused Capacity</h2>\\n<p>EMP focuses on identifying and reclaiming existing unused capacity within Kubernetes clusters. This is achieved without requiring any changes to the request and limit values set for application pods. By optimizing the allocation of resources, EMP can significantly reduce costs associated with Kubernetes compute.</p>\\n\\n<h2>2. Live Migration of Workloads</h2>\\n<p>One of the standout features of EMP is its ability to <strong>live migrate</strong> workloads. This means that when scaling is necessary, EMP can move workloads around without causing any disruption to running pods. This feature is particularly beneficial for:</p>\\n<ul>\\n    <li>Stateful workloads</li>\\n    <li>AI/ML applications</li>\\n    <li>Large Java web applications</li>\\n</ul>\\n<p>Live migration ensures that applications maintain high availability and meet their Service Level Agreements (SLAs) during resource adjustments.</p>\\n\\n<h2>3. Continuous Monitoring & Real-Time Scaling</h2>\\n<p>EMP employs continuous monitoring to identify optimization opportunities in real-time. This includes:</p>\\n<ul>\\n    <li>Proactively scaling resources up or down based on demand</li>\\n    <li>Utilizing live migration techniques to ensure minimal disruption</li>\\n</ul>\\n<p>This dynamic approach allows EMP to handle usage spikes effectively, rebalancing workloads without application downtime.</p>\\n\\n<h2>4. Resource Consolidation</h2>\\n<p>EMP utilizes server consolidation techniques to optimize workload placement on the underlying EC2 infrastructure. This significantly reduces wasted CPU and memory resources in EKS clusters, leading to better overall resource utilization.</p>\\n\\n<h2>5. Complementary to Existing Tools</h2>\\n<p>EMP works alongside existing Kubernetes cost management tools, enhancing their effectiveness by maximizing resource utilization. Unlike other tools that may require adjustments to pod configurations, EMP operates behind the scenes, allowing developers to maintain their desired request and limit settings.</p>\\n\\n<h2>6. Simplified Integration Process</h2>\\n<p>The integration of EMP into your AWS EKS environment is straightforward:</p>\\n<ol>\\n    <li>Enable EMP for your AWS account.</li>\\n    <li>Select the desired EKS clusters for optimization.</li>\\n</ol>\\n<p>This process requires no modifications to applications or cluster management processes, making it accessible for administrators and DevOps teams.</p>\\n\\n<h2>Conclusion</h2>\\n<p>By leveraging features like live migration, continuous monitoring, and resource consolidation, Platform9 Elastic Machine Pool (EMP) effectively optimizes Kubernetes utilization, helping organizations reclaim over 70% of wasted compute resources. This not only reduces costs but also enhances the performance and availability of applications running on AWS EKS.</p>\\n\\n<h2>Further Reading</h2>\\n<p>For a comprehensive understanding of AWS EKS, please refer to the official <a href=\"https://aws.amazon.com/eks/\">AWS EKS documentation</a>.</p>'}\n",
      "\n",
      "Markdown Chunking Results:\n",
      "{'query': 'How does EMP optimize Kubernetes utilization?', 'result': \"<h1>How EMP Optimizes Kubernetes Utilization</h1>\\n\\nEMP (Elastic Management Platform) offers a unique approach to optimizing Kubernetes utilization that goes beyond traditional methods. Below are the key features and benefits that illustrate how EMP enhances resource management in Kubernetes environments.\\n\\n<h2>1. Beyond Bin-Packing</h2>\\n<p>EMP optimizes Kubernetes utilization by reclaiming existing unused capacity within your cluster. This means that it can identify and utilize resources that are allocated to pods but not actively used, allowing for more efficient resource management.</p>\\n\\n<h2>2. No Right-Sizing Required</h2>\\n<p>Unlike many existing tools that require adjustments to pod request and limit values to optimize resource consumption, EMP operates without needing to modify these values. This is particularly beneficial as it allows developers to maintain their original configurations while still optimizing resource usage.</p>\\n\\n<h2>3. Zero Pod Downtime Rebalancing</h2>\\n<p>When scaling or consolidating resources, EMP can 'live migrate' workloads. This capability ensures that there is no disruption to running pods, which is crucial for maintaining high availability, especially for stateful applications, data services, and AI/ML workloads.</p>\\n\\n<h2>4. Continuous Optimization</h2>\\n<p>EMP continuously monitors and optimizes VM deployments in the background. This ongoing process maximizes Kubernetes resource utilization without requiring manual intervention, ensuring that resources are always used efficiently.</p>\\n\\n<h2>5. Seamless Scaling</h2>\\n<p>EMP effectively handles usage spikes by scaling out the underlying infrastructure and rebalancing workloads without causing application downtime. This feature is essential for maintaining performance during peak usage periods.</p>\\n\\n<h2>Comparison with Other Tools</h2>\\n<p>While there are several tools available for Kubernetes cost management, many do not automate the necessary changes to improve resource utilization. Here’s how EMP stands out:</p>\\n<ul>\\n    <li><strong>CloudHealth, Cloudability, and Datadog:</strong> These tools provide insights into cloud costs but do not focus on automating resource utilization improvements.</li>\\n    <li><strong>Karpenter:</strong> This open-source tool uses effective bin packing but cannot address resource wastage due to high request and limit values without causing pod restarts.</li>\\n    <li><strong>Spot Instance Tools:</strong> While they help reduce costs, they are not suitable for stateful applications that cannot tolerate node interruptions.</li>\\n    <li><strong>Request and Limit Adjustment Tools:</strong> These require pod restarts to implement changes, which can disrupt service.</li>\\n</ul>\\n\\n<p>As a result, many Kubernetes environments experience low utilization rates, often between 15% and 30%. EMP addresses this issue by optimizing resource usage without requiring changes to application configurations, allowing developers to set requests and limits based on peak usage while operations teams can manage costs effectively.</p>\\n\\n<h2>Conclusion</h2>\\n<p>EMP serves as a complementary solution to existing tools, maximizing Kubernetes resource utilization behind the scenes. By leveraging its unique features, organizations can significantly improve their Kubernetes efficiency and reduce waste, ultimately leading to cost savings and enhanced performance.</p>\\n\\nFor more information on EMP and its features, you can visit the official documentation or contact support for personalized assistance.\"}\n"
     ]
    },
    {
     "data": {
      "text/plain": [
       "({'query': 'How does EMP optimize Kubernetes utilization?',\n",
       "  'result': '<h1>How EMP Optimizes Kubernetes Utilization</h1>\\n\\nPlatform9 Elastic Machine Pool (EMP) is designed to enhance the efficiency of Kubernetes workloads, particularly in AWS EKS environments. Below, we outline the key features and mechanisms through which EMP optimizes Kubernetes utilization.\\n\\n<h2>1. Reclaiming Unused Capacity</h2>\\n<p>EMP focuses on identifying and reclaiming existing unused capacity within Kubernetes clusters. This is achieved without requiring any changes to the request and limit values set for application pods. By optimizing the allocation of resources, EMP can significantly reduce costs associated with Kubernetes compute.</p>\\n\\n<h2>2. Live Migration of Workloads</h2>\\n<p>One of the standout features of EMP is its ability to <strong>live migrate</strong> workloads. This means that when scaling is necessary, EMP can move workloads around without causing any disruption to running pods. This feature is particularly beneficial for:</p>\\n<ul>\\n    <li>Stateful workloads</li>\\n    <li>AI/ML applications</li>\\n    <li>Large Java web applications</li>\\n</ul>\\n<p>Live migration ensures that applications maintain high availability and meet their Service Level Agreements (SLAs) during resource adjustments.</p>\\n\\n<h2>3. Continuous Monitoring & Real-Time Scaling</h2>\\n<p>EMP employs continuous monitoring to identify optimization opportunities in real-time. This includes:</p>\\n<ul>\\n    <li>Proactively scaling resources up or down based on demand</li>\\n    <li>Utilizing live migration techniques to ensure minimal disruption</li>\\n</ul>\\n<p>This dynamic approach allows EMP to handle usage spikes effectively, rebalancing workloads without application downtime.</p>\\n\\n<h2>4. Resource Consolidation</h2>\\n<p>EMP utilizes server consolidation techniques to optimize workload placement on the underlying EC2 infrastructure. This significantly reduces wasted CPU and memory resources in EKS clusters, leading to better overall resource utilization.</p>\\n\\n<h2>5. Complementary to Existing Tools</h2>\\n<p>EMP works alongside existing Kubernetes cost management tools, enhancing their effectiveness by maximizing resource utilization. Unlike other tools that may require adjustments to pod configurations, EMP operates behind the scenes, allowing developers to maintain their desired request and limit settings.</p>\\n\\n<h2>6. Simplified Integration Process</h2>\\n<p>The integration of EMP into your AWS EKS environment is straightforward:</p>\\n<ol>\\n    <li>Enable EMP for your AWS account.</li>\\n    <li>Select the desired EKS clusters for optimization.</li>\\n</ol>\\n<p>This process requires no modifications to applications or cluster management processes, making it accessible for administrators and DevOps teams.</p>\\n\\n<h2>Conclusion</h2>\\n<p>By leveraging features like live migration, continuous monitoring, and resource consolidation, Platform9 Elastic Machine Pool (EMP) effectively optimizes Kubernetes utilization, helping organizations reclaim over 70% of wasted compute resources. This not only reduces costs but also enhances the performance and availability of applications running on AWS EKS.</p>\\n\\n<h2>Further Reading</h2>\\n<p>For a comprehensive understanding of AWS EKS, please refer to the official <a href=\"https://aws.amazon.com/eks/\">AWS EKS documentation</a>.</p>'},\n",
       " {'query': 'How does EMP optimize Kubernetes utilization?',\n",
       "  'result': \"<h1>How EMP Optimizes Kubernetes Utilization</h1>\\n\\nEMP (Elastic Management Platform) offers a unique approach to optimizing Kubernetes utilization that goes beyond traditional methods. Below are the key features and benefits that illustrate how EMP enhances resource management in Kubernetes environments.\\n\\n<h2>1. Beyond Bin-Packing</h2>\\n<p>EMP optimizes Kubernetes utilization by reclaiming existing unused capacity within your cluster. This means that it can identify and utilize resources that are allocated to pods but not actively used, allowing for more efficient resource management.</p>\\n\\n<h2>2. No Right-Sizing Required</h2>\\n<p>Unlike many existing tools that require adjustments to pod request and limit values to optimize resource consumption, EMP operates without needing to modify these values. This is particularly beneficial as it allows developers to maintain their original configurations while still optimizing resource usage.</p>\\n\\n<h2>3. Zero Pod Downtime Rebalancing</h2>\\n<p>When scaling or consolidating resources, EMP can 'live migrate' workloads. This capability ensures that there is no disruption to running pods, which is crucial for maintaining high availability, especially for stateful applications, data services, and AI/ML workloads.</p>\\n\\n<h2>4. Continuous Optimization</h2>\\n<p>EMP continuously monitors and optimizes VM deployments in the background. This ongoing process maximizes Kubernetes resource utilization without requiring manual intervention, ensuring that resources are always used efficiently.</p>\\n\\n<h2>5. Seamless Scaling</h2>\\n<p>EMP effectively handles usage spikes by scaling out the underlying infrastructure and rebalancing workloads without causing application downtime. This feature is essential for maintaining performance during peak usage periods.</p>\\n\\n<h2>Comparison with Other Tools</h2>\\n<p>While there are several tools available for Kubernetes cost management, many do not automate the necessary changes to improve resource utilization. Here’s how EMP stands out:</p>\\n<ul>\\n    <li><strong>CloudHealth, Cloudability, and Datadog:</strong> These tools provide insights into cloud costs but do not focus on automating resource utilization improvements.</li>\\n    <li><strong>Karpenter:</strong> This open-source tool uses effective bin packing but cannot address resource wastage due to high request and limit values without causing pod restarts.</li>\\n    <li><strong>Spot Instance Tools:</strong> While they help reduce costs, they are not suitable for stateful applications that cannot tolerate node interruptions.</li>\\n    <li><strong>Request and Limit Adjustment Tools:</strong> These require pod restarts to implement changes, which can disrupt service.</li>\\n</ul>\\n\\n<p>As a result, many Kubernetes environments experience low utilization rates, often between 15% and 30%. EMP addresses this issue by optimizing resource usage without requiring changes to application configurations, allowing developers to set requests and limits based on peak usage while operations teams can manage costs effectively.</p>\\n\\n<h2>Conclusion</h2>\\n<p>EMP serves as a complementary solution to existing tools, maximizing Kubernetes resource utilization behind the scenes. By leveraging its unique features, organizations can significantly improve their Kubernetes efficiency and reduce waste, ultimately leading to cost savings and enhanced performance.</p>\\n\\nFor more information on EMP and its features, you can visit the official documentation or contact support for personalized assistance.\"})"
      ]
     },
     "execution_count": 48,
     "metadata": {},
     "output_type": "execute_result"
    }
   ],
   "source": [
    "# Example queries\n",
    "query_1 = \"How does EMP optimize Kubernetes utilization?\"\n",
    "query_2 = \"What is EMP? and what does it do?\"\n",
    "\n",
    "# Fire queries and compare the results\n",
    "ask_query_rqa(query_1)\n",
    "# ask_query(query_2)"
   ]
  },
  {
   "cell_type": "code",
   "execution_count": 49,
   "metadata": {},
   "outputs": [],
   "source": [
    "# Example queries\n",
    "query_1 = \"How does EMP optimize Kubernetes utilization?\"\n",
    "\n",
    "# Fire queries and compare the results\n",
    "# ask_query_crc(query_1)\n",
    "# ask_query(query_2)"
   ]
  },
  {
   "cell_type": "code",
   "execution_count": null,
   "metadata": {},
   "outputs": [],
   "source": []
  },
  {
   "cell_type": "markdown",
   "metadata": {},
   "source": [
    "# Split using the ***MarkdownHeaderTextSplitter*** and store its embeddings for all the docs."
   ]
  },
  {
   "cell_type": "code",
   "execution_count": 9,
   "metadata": {},
   "outputs": [],
   "source": [
    "root_doc_path = './docs'"
   ]
  },
  {
   "cell_type": "code",
   "execution_count": 10,
   "metadata": {},
   "outputs": [],
   "source": [
    "from langchain.text_splitter import MarkdownHeaderTextSplitter\n",
    "\n",
    "\n",
    "file_path = f\"{root_doc_path}/evm-pools/What is an EVM Pool.md\"\n",
    "# file_path = f\"{root_doc_path}/networking/ALB for EMP.md\" # issues with code blocks\n",
    "with open(file_path) as file:\n",
    "    overview_file = file.read()\n",
    "\n",
    "headers_to_split_on = [\n",
    "    (\"#\", \"Markdown Header 1\"),\n",
    "    (\"##\", \"Markdown Header 2\"),\n",
    "]    \n",
    "\n",
    "md_splitter = MarkdownHeaderTextSplitter(headers_to_split_on=headers_to_split_on, strip_headers=False)\n",
    "# md_splitter = MarkdownHeaderTextSplitter(headers_to_split_on=headers_to_split_on, strip_headers=False)\n",
    "\n",
    "documents = md_splitter.split_text(overview_file)"
   ]
  },
  {
   "cell_type": "code",
   "execution_count": 11,
   "metadata": {},
   "outputs": [
    {
     "data": {
      "text/plain": [
       "[Document(page_content='---\\ntype: page\\ntitle: What is an EVM Pool\\nlisted: true\\nslug: elastic-virtual-machine-pools\\ndescription:\\nindex_title: What is an EVM Pool\\nhidden:\\nkeywords:\\ntags:\\n---published  \\nAn Elastic Virtual Machine Pool (EVM Pool) provides a way to organize the EVM nodes for your EKS clusters. Think of EVM Pool as an EKS Node Pool.  \\nAn EVM Pool represents a collection of EVMs. Each EKS cluster imported into an EMP instance will have one or more EVM Pools. EVM Pools are not shared across different EKS clusters. This ensures that each EKS cluster has its own dedicated resources for running workloads.'),\n",
       " Document(metadata={'Markdown Header 2': 'EVM Pool Specification'}, page_content='## EVM Pool Specification  \\nEVM Pool specification serves as a template for easy configuration of EVM Pool settings that can then be used to create EVMs for one or multiple EKS clusters.  \\nFor instance, if majority of your workloads are run on an `m5.4xlarge`  instance type, you can create a specification for this option and then map multiple EKS clusters to this specification. Behind the scenes, this will result in the creation of a new EVM Pool for each of the specified EKS clusters with this configuration.'),\n",
       " Document(metadata={'Markdown Header 2': 'Configuration Options for EVM Pool Creation'}, page_content='## Configuration Options for EVM Pool Creation  \\nFollowing are the configuration options when creating an EVM Pool.  \\n### Instance Type  \\nEMP models the supported EVM instance types after the AWS supported instance families and types.  EMP today supports majority of the instance types and families supported by AWS.  \\nThe EVM instance type you can choose for your EVM pool has a direct correlation to the AWS bare metal instance type you have chosen as part of the bare metal pool configuration. The list of instance types available to choose during the creation of an EVM pool is filtered based on the bare metal instance type creation in the previous step of the wizard. For example, if you choose m5.metal as your bare metal instance type, then the EVM instance types you can choose for EVM pool creation are filtered to only those that are part of the same AWS family of instances.  \\n### SSH Key  \\nYou specify the public SSH key that will be injected into each new EVM instance. You can use this SSH key to access your EVM instances in the future, ensuring that only authorized personnel from your team can log into the EVMs.  \\n### System Root Disk Size  \\nThis allows you to define the size of the system root disk for each EVM instance. The system root disk is where the operating system and essential system files and directories are installed. Specifying the right root disk size is important as it determines the storage capacity available for the operating system and system-related files.  \\n### Operating System  \\nCurrently only Ubuntu 22.04 is supported as the operating system for EVM instances.  \\n### Minimum EVMs  \\nSpecify the minimum number of EVMs that may be deployed within this EVM Pool. This setting provides guidance to the EVM autoscaler, which uses this parameter to make decisions regarding EVM Pool scaling. Setting a minimum number of EVMs ensures that there is a baseline level of resources available at all times, preventing resource shortages during workload spikes or unexpected demands.  \\n### CPU and Memory Over-commitment  \\nCPU and Memory over-commitment ratios determine how many EVMs are deployed on each bare metal node. These ratios influence the level of resource over-commitment within the EVM Pool. Adjusting these over-commitment ratios allows you to fine-tune the allocation of CPU and memory resources to optimize performance and resource utilization. Higher ratios may lead to denser deployments but may create higher resource contention and performance issues.  \\n#### Overcommitment Ratio Example  \\nLets say that you selected m5.metal as your bare metal instance type. Each m5.metal instance consists of 384 GB of memory. Lets now say that you set the memory over-commitment ratio for your EVM pool to 1.5. This would mean that on a single instance of m5.metal, EMP can provision 9 instances of m5.4xlarge (64 GB memory each), vs without the over-provisioning ratio, only 6 instances of m5.4xlarge could be provisioned on a single m5.metal instance.')]"
      ]
     },
     "execution_count": 11,
     "metadata": {},
     "output_type": "execute_result"
    }
   ],
   "source": [
    "documents"
   ]
  },
  {
   "cell_type": "code",
   "execution_count": 12,
   "metadata": {},
   "outputs": [
    {
     "name": "stdout",
     "output_type": "stream",
     "text": [
      "Reading file ->./docs/Supported Clouds & Infrastructure.md\n",
      "Reading file ->./docs/Cost Analyzer.md\n",
      "Reading file ->./docs/EMP Metrics.md\n",
      "Reading file ->./docs/account-configuration/Create Cloud Provider.md\n",
      "Reading file ->./docs/account-configuration/IAM Credential Requirements.md\n",
      "Reading file ->./docs/account-configuration/Authorization & User Management.md\n",
      "Reading file ->./docs/evm-pools/What is an EVM Pool.md\n",
      "Reading file ->./docs/evm-pools/Provision Workloads On EVMs.md\n",
      "Reading file ->./docs/evm-pools/What Is an Elastic Virtual Machine.md\n",
      "Reading file ->./docs/eks-clusters/Security Group Updates.md\n",
      "Reading file ->./docs/eks-clusters/Importing EKS Clusters.md\n",
      "Reading file ->./docs/bare-metal-pools/Bare Metal Pool Configuration.md\n",
      "Reading file ->./docs/bare-metal-pools/What Are Bare Metal Pools.md\n",
      "Reading file ->./docs/rebalancer/EMP Live Migration.md\n",
      "Reading file ->./docs/rebalancer/EMP Rebalancer.md\n",
      "Reading file ->./docs/networking/NLB for EMP.md\n",
      "Reading file ->./docs/networking/Bare Metal Pool VPC Config.md\n",
      "Reading file ->./docs/networking/VPC Peering.md\n",
      "Reading file ->./docs/networking/Private Subnet Config For Bare Metal.md\n",
      "Reading file ->./docs/networking/CIDR Configuration.md\n",
      "Reading file ->./docs/networking/ALB for EMP.md\n",
      "Reading file ->./docs/storage/IO2 Migration Guide.md\n",
      "Reading file ->./docs/storage/EMP EBS CSI Config.md\n",
      "Reading file ->./docs/storage/Installing custom EMP EBS CSI driver.md\n",
      "Reading file ->./docs/getting-started/Supported load balancer for EMP.md\n",
      "Reading file ->./docs/getting-started/Pricing FAQ.md\n",
      "Reading file ->./docs/getting-started/Getting Started.md\n",
      "Reading file ->./docs/getting-started/Frequently Asked Questions.md\n",
      "Reading file ->./docs/overview/EMP Architecture.md\n",
      "Reading file ->./docs/overview/EMP Overview.md\n"
     ]
    }
   ],
   "source": [
    "import os\n",
    "from langchain.text_splitter import MarkdownHeaderTextSplitter\n",
    "\n",
    "\n",
    "# Define the headers you want to split on\n",
    "headers_to_split_on = [\n",
    "    (\"#\", \"Markdown Header 1\"),\n",
    "    (\"##\", \"Markdown Header 2\"),\n",
    "]    \n",
    "\n",
    "# Create an instance of the markdown splitter\n",
    "md_splitter = MarkdownHeaderTextSplitter(headers_to_split_on=headers_to_split_on, strip_headers=False)\n",
    "\n",
    "# Initialize a list to hold all document parts\n",
    "all_documents = []\n",
    "\n",
    "# Walk through the directory and process each markdown file\n",
    "for dirpath, _, filenames in os.walk(root_doc_path):\n",
    "    for filename in filenames:\n",
    "        if filename.endswith(\".md\"):  # Process only markdown files\n",
    "            file_path = os.path.join(dirpath, filename)\n",
    "            with open(file_path, 'r', encoding='utf-8') as file:\n",
    "                print(f\"Reading file ->{file_path}\")\n",
    "                file_content = file.read()\n",
    "                documents = md_splitter.split_text(file_content)\n",
    "                all_documents.extend(documents)  \n"
   ]
  },
  {
   "cell_type": "code",
   "execution_count": 13,
   "metadata": {},
   "outputs": [
    {
     "data": {
      "text/plain": [
       "91"
      ]
     },
     "execution_count": 13,
     "metadata": {},
     "output_type": "execute_result"
    }
   ],
   "source": [
    "len(all_documents)"
   ]
  },
  {
   "cell_type": "code",
   "execution_count": 14,
   "metadata": {},
   "outputs": [
    {
     "name": "stdout",
     "output_type": "stream",
     "text": [
      "\\Metadata 0 \n",
      " {}\n",
      "\n",
      "Document 0 \n",
      " ---\n",
      "type: page\n",
      "title: Create Cloud Provider\n",
      "listed: true\n",
      "slug: cloud-provider\n",
      "description:\n",
      "index_title: Create Cloud Provider\n",
      "hidden:\n",
      "keywords:\n",
      "tags:\n",
      "---published  \n",
      "Before creating an instance of EMP, you must create a cloud provider by specifying your AWS account credentials.\n",
      "\\Metadata 1 \n",
      " {'Markdown Header 2': 'Privileges Required'}\n",
      "\n",
      "Document 1 \n",
      " ## Privileges Required  \n",
      "Here is a **summary** of the required privileges.  \n",
      "1. ELB Management: Permissions to manage AWS Elastic Load Balancer (ELB).\n",
      "2. Route 53 DNS Configuration: Access to configure DNS settings in Route 53.\n",
      "3. Access to 2 or More Availability Zones: The credentials should have permission to interact with resources in at least two Availability Zones within the specified region.\n",
      "4. EC2 Instance Management: Permission to manage EC2 instances, including creating, terminating, and modifying instances.\n",
      "5. EBS Volume Management: Access to manage Elastic Block Storage (EBS) volumes for storage configurations associated with EMP.\n",
      "6. VPC Management: Permission to configure and manage Virtual Private Clouds (VPCs).\n",
      "\\Metadata 2 \n",
      " {'Markdown Header 2': 'Create Cloud Provider Using'}\n",
      "\n",
      "Document 2 \n",
      " ## Create Cloud Provider Using  \n",
      "Below are steps to download a Cloud Formation Template. This template creates a new user in your AWS environment with all the required IAM policies preconfigured.  \n",
      "The following steps describe the process to download and deploy the template to create a new IAM user with the required privileges.\n",
      "\\Metadata 3 \n",
      " {'Markdown Header 2': 'Step 1: Download CloudFormation Template'}\n",
      "\n",
      "Document 3 \n",
      " ## Step 1: Download CloudFormation Template  \n",
      "Download the [EMP IAM CloudFormation Template](https://github.com/platform9/support-locker/blob/master/emp/emp_iam_cftemplate.yml) from Platform9's official GitHub repository:  \n",
      "$plugin[{\n",
      "\"type\": \"code-block\",\n",
      "\"data\": {\n",
      "\"languageBlocks\": [\n",
      "{\n",
      "\"code\": \"export TEMPOUT=$(mktemp)\\ncurl -fsSL https:\\/\\/raw.githubusercontent.com\\/platform9\\/support-locker\\/master\\/emp\\/emp_iam_cftemplate.yml > $TEMPOUT\",\n",
      "\"language\": \"none\"\n",
      "}\n",
      "]\n",
      "}\n",
      "}]$\n",
      "\\Metadata 4 \n",
      " {'Markdown Header 2': 'Step 2: Deploy CloudFormation Stack'}\n",
      "\n",
      "Document 4 \n",
      " ## Step 2: Deploy CloudFormation Stack  \n",
      "Deploy the EMP IAM CloudFormation stack to create the new IAM user with the necessary policies:  \n",
      "$plugin[{\n",
      "\"type\": \"code-block\",\n",
      "\"data\": {\n",
      "\"languageBlocks\": [\n",
      "{\n",
      "\"code\": \"aws cloudformation deploy --stack-name \\\"EMP-<org-id>\\\" --template-file \\\"${TEMPOUT}\\\" --capabilities CAPABILITY_NAMED_IAM\",\n",
      "\"language\": \"none\"\n",
      "}\n",
      "]\n",
      "}\n",
      "}]$  \n",
      "You can change the name of the IAM user by providing `--parameter-overrides IAMUserName=<new-name>` to the deploy command.  \n",
      "Note however that if you choose to override the IAM user name, the new name that you specify **must contain** either '_pf9\"_ or '_platform9\"_ as a substring. eg: _pf9-emp-john._\n"
     ]
    },
    {
     "name": "stderr",
     "output_type": "stream",
     "text": [
      "<>:2: SyntaxWarning: invalid escape sequence '\\M'\n",
      "<>:2: SyntaxWarning: invalid escape sequence '\\M'\n",
      "/var/folders/sc/zs54s9k551535_87l6wyj_hm0000gr/T/ipykernel_26553/3288589549.py:2: SyntaxWarning: invalid escape sequence '\\M'\n",
      "  print(f\"\\Metadata {i} \\n\", doc.metadata)\n"
     ]
    }
   ],
   "source": [
    "for i,doc in enumerate(all_documents[10:15]):\n",
    "    print(f\"\\Metadata {i} \\n\", doc.metadata)\n",
    "    print(f\"\\nDocument {i} \\n\", doc.page_content)"
   ]
  },
  {
   "cell_type": "markdown",
   "metadata": {},
   "source": [
    "## Create Embeddings for the chunks and store them"
   ]
  },
  {
   "cell_type": "code",
   "execution_count": 15,
   "metadata": {},
   "outputs": [
    {
     "name": "stdout",
     "output_type": "stream",
     "text": [
      "\n",
      "\u001b[1m[\u001b[0m\u001b[34;49mnotice\u001b[0m\u001b[1;39;49m]\u001b[0m\u001b[39;49m A new release of pip is available: \u001b[0m\u001b[31;49m24.0\u001b[0m\u001b[39;49m -> \u001b[0m\u001b[32;49m24.2\u001b[0m\n",
      "\u001b[1m[\u001b[0m\u001b[34;49mnotice\u001b[0m\u001b[1;39;49m]\u001b[0m\u001b[39;49m To update, run: \u001b[0m\u001b[32;49mpip install --upgrade pip\u001b[0m\n",
      "Note: you may need to restart the kernel to use updated packages.\n"
     ]
    }
   ],
   "source": [
    "%pip install -qU langchain-openai langchain-chroma\n",
    "\n",
    "from langchain.embeddings.openai import OpenAIEmbeddings\n"
   ]
  },
  {
   "cell_type": "markdown",
   "metadata": {},
   "source": [
    "### Define the embedding model"
   ]
  },
  {
   "cell_type": "code",
   "execution_count": 16,
   "metadata": {},
   "outputs": [],
   "source": [
    "embeddings = OpenAIEmbeddings(model=\"text-embedding-3-large\")"
   ]
  },
  {
   "cell_type": "markdown",
   "metadata": {},
   "source": [
    "### Initialise the Chroma Client"
   ]
  },
  {
   "cell_type": "code",
   "execution_count": 476,
   "metadata": {},
   "outputs": [],
   "source": [
    "from langchain_chroma import Chroma\n",
    "\n",
    "vector_store = Chroma(\n",
    "    collection_name=\"emp-docs-collection\",\n",
    "    embedding_function=embeddings,\n",
    "    persist_directory=\"./emp_chroma_db\",\n",
    "    collection_metadata={\"hnsw:space\": \"cosine\"} # l2 is the default\n",
    ")"
   ]
  },
  {
   "cell_type": "code",
   "execution_count": 477,
   "metadata": {},
   "outputs": [
    {
     "ename": "NameError",
     "evalue": "name 'all_documents' is not defined",
     "output_type": "error",
     "traceback": [
      "\u001b[0;31m---------------------------------------------------------------------------\u001b[0m",
      "\u001b[0;31mNameError\u001b[0m                                 Traceback (most recent call last)",
      "Cell \u001b[0;32mIn[477], line 1\u001b[0m\n\u001b[0;32m----> 1\u001b[0m \u001b[38;5;28mlen\u001b[39m(\u001b[43mall_documents\u001b[49m)\n",
      "\u001b[0;31mNameError\u001b[0m: name 'all_documents' is not defined"
     ]
    }
   ],
   "source": [
    "len(all_documents)"
   ]
  },
  {
   "cell_type": "markdown",
   "metadata": {},
   "source": [
    "### Adding the documents in the emp chroma db\n"
   ]
  },
  {
   "cell_type": "code",
   "execution_count": 212,
   "metadata": {},
   "outputs": [],
   "source": [
    "from uuid import uuid4\n",
    "\n",
    "uuids = [str(uuid4()) for _ in range(len(all_documents))]\n",
    "\n",
    "ids = vector_store.add_documents(documents=all_documents, ids=uuids)"
   ]
  },
  {
   "cell_type": "code",
   "execution_count": 213,
   "metadata": {},
   "outputs": [
    {
     "data": {
      "text/plain": [
       "91"
      ]
     },
     "execution_count": 213,
     "metadata": {},
     "output_type": "execute_result"
    }
   ],
   "source": [
    "len(ids)"
   ]
  },
  {
   "cell_type": "code",
   "execution_count": 478,
   "metadata": {},
   "outputs": [],
   "source": [
    "query = \"What is EVM in EMP?\"\n",
    "\n",
    "searched_docs = vector_store.similarity_search_with_score(query, k=5)\n"
   ]
  },
  {
   "cell_type": "code",
   "execution_count": 220,
   "metadata": {},
   "outputs": [],
   "source": [
    "def sort_docs_by_similarity(docs):\n",
    "    # Sort the documents based on the similarity score (the second element in each tuple)\n",
    "    return sorted(docs, key=lambda x: x[1], reverse=True)\n",
    "\n",
    "searched_docs = sort_docs_by_similarity(searched_docs)"
   ]
  },
  {
   "cell_type": "code",
   "execution_count": 479,
   "metadata": {},
   "outputs": [
    {
     "data": {
      "text/plain": [
       "[(Document(metadata={'Markdown Header 2': 'Benefits of EVMs'}, page_content=\"1. **Bridging Performance and Flexibility:** EVMs combine the performance advantages of bare metal servers with the flexibility of virtualization. An EVM looks and feels exactly like a regular EC2 virtual machine, except that it's created by EMP on an AWS bare metal node. This makes them suitable for all workload types, from high-performance computing to web applications.\\n2. **Zero-touch Lifecycle Management:** EMP handles complete lifecycle management of all your EVMs. This includes provisioning, scaling, monitoring, and maintenance, allowing DevOps teams to focus on their applications without worrying about infrastructure management.\"),\n",
       "  0.7103937623085662),\n",
       " (Document(page_content=\"---\\ntype: page\\ntitle: What Is an Elastic Virtual Machine\\nlisted: true\\nslug: what-is-evm\\ndescription:\\nindex_title: What Is EVM\\nhidden:\\nkeywords:\\ntags:\\n---published  \\nElastic Virtual Machines (EVMs) are a key component of EMP, offering flexible and efficient compute resources for your cloud workloads.  \\nEVMs are virtualised instances running on bare metal servers managed through EMP Bare Metal Pools. An EVM looks and feels exactly like a regular EC2 virtual machine, except that it's created by EMP on an AWS bare metal node.  These instances are designed to offer the performance benefits of dedicated physical servers while allowing for dynamic resource allocation and management. EVMs are at the heart of an EMP and will serve as worker nodes for your EKS clusters.  \\nEVMs act as worker nodes for your Kubernetes cluster and are responsible for hosting your application pods. They provide the computational resources required to run containerised applications. EVMs are auto-scaled by EMP based on workload needs.\"),\n",
       "  0.7873966601959699),\n",
       " (Document(metadata={'Markdown Header 2': 'Incrementally move workloads to EVMs'}, page_content='When working with EMP for the first time, we recommend that you incrementally move portions of your workload on to EVM nodes, then test those workload components over 1-2 weeks to ensure that the performance is as expected, then migrate more components of the workload to run on EVMs.  \\nThe eventual goal should be to run all workloads on a given EKS cluster on EVMs, for maximum utilization and cost reduction benefits.'),\n",
       "  0.9135941149155427),\n",
       " (Document(page_content='---\\ntype: page\\ntitle: What is an EVM Pool\\nlisted: true\\nslug: elastic-virtual-machine-pools\\ndescription:\\nindex_title: What is an EVM Pool\\nhidden:\\nkeywords:\\ntags:\\n---published  \\nAn Elastic Virtual Machine Pool (EVM Pool) provides a way to organize the EVM nodes for your EKS clusters. Think of EVM Pool as an EKS Node Pool.  \\nAn EVM Pool represents a collection of EVMs. Each EKS cluster imported into an EMP instance will have one or more EVM Pools. EVM Pools are not shared across different EKS clusters. This ensures that each EKS cluster has its own dedicated resources for running workloads.'),\n",
       "  0.9227373933898504),\n",
       " (Document(page_content=\"---\\ntype: page\\ntitle: EMP Metrics\\nlisted: true\\nslug: emp-metrics\\ndescription:\\nindex_title: EMP Metrics\\nhidden:\\nkeywords:\\ntags:\\n---published  \\nEach EMP instance reports metrics data that shows information about EMP performance over a period of time.  \\n#### VM Steal Time  \\nVM steam time is the percentage of time the EVM CPU process is waiting on the physical CPU of the bare metal host for its share of CPU time. CPU steal time is reported in seconds.  \\nA high steal time value indicates that there may be high CPU contention on the bare metal node that this EVM is running on.  \\n#### VM Memory Swap Amount  \\nVM memory swap amount indicates the average amount of memory (in GB) that was swapped over the given period of time.  \\nThe amount of EVM memory swap utilized has a direct correlation to the impact of over-commitment on the EVM performance. If all EVMs on a given bare metal node start utilizing all of the memory allocated to them, and the bare metal memory is over-committed, then some or all of the EVMs may experience memory swap activity where a portion of the EVM's memory is swapped to disk to make room for memory from other EVMs.\"),\n",
       "  0.9268689031848073)]"
      ]
     },
     "execution_count": 479,
     "metadata": {},
     "output_type": "execute_result"
    }
   ],
   "source": [
    "searched_docs"
   ]
  },
  {
   "cell_type": "code",
   "execution_count": 222,
   "metadata": {},
   "outputs": [
    {
     "name": "stdout",
     "output_type": "stream",
     "text": [
      "Similarity Score 0.4695711612151453\n",
      "## Incrementally move workloads to EVMs  \n",
      "When working with EMP for the first time, we recommend that you incrementally move portions of your workload on to EVM nodes, then test those workload components over 1-2 weeks to ensure that the performance is as expected, then migrate more components of the workload to run on EVMs.  \n",
      "The eventual goal should be to run all workloads on a given EKS cluster on EVMs, for maximum utilization and cost reduction benefits.\n",
      "----------------------------------------------------------------------------------------------------\n",
      "Similarity Score 0.4642098124486418\n",
      "---\n",
      "type: page\n",
      "title: EMP Metrics\n",
      "listed: true\n",
      "slug: emp-metrics\n",
      "description:\n",
      "index_title: EMP Metrics\n",
      "hidden:\n",
      "keywords:\n",
      "tags:\n",
      "---published  \n",
      "Each EMP instance reports metrics data that shows information about EMP performance over a period of time.  \n",
      "#### VM Steal Time  \n",
      "VM steam time is the percentage of time the EVM CPU process is waiting on the physical CPU of the bare metal host for its share of CPU time. CPU steal time is reported in seconds.  \n",
      "A high steal time value indicates that there may be high CPU contention on the bare metal node that this EVM is running on.  \n",
      "#### VM Memory Swap Amount  \n",
      "VM memory swap amount indicates the average amount of memory (in GB) that was swapped over the given period of time.  \n",
      "The amount of EVM memory swap utilized has a direct correlation to the impact of over-commitment on the EVM performance. If all EVMs on a given bare metal node start utilizing all of the memory allocated to them, and the bare metal memory is over-committed, then some or all of the EVMs may experience memory swap activity where a portion of the EVM's memory is swapped to disk to make room for memory from other EVMs.\n",
      "----------------------------------------------------------------------------------------------------\n",
      "Similarity Score 0.4614028213175917\n",
      "---\n",
      "type: page\n",
      "title: What is an EVM Pool\n",
      "listed: true\n",
      "slug: elastic-virtual-machine-pools\n",
      "description:\n",
      "index_title: What is an EVM Pool\n",
      "hidden:\n",
      "keywords:\n",
      "tags:\n",
      "---published  \n",
      "An Elastic Virtual Machine Pool (EVM Pool) provides a way to organize the EVM nodes for your EKS clusters. Think of EVM Pool as an EKS Node Pool.  \n",
      "An EVM Pool represents a collection of EVMs. Each EKS cluster imported into an EMP instance will have one or more EVM Pools. EVM Pools are not shared across different EKS clusters. This ensures that each EKS cluster has its own dedicated resources for running workloads.\n",
      "----------------------------------------------------------------------------------------------------\n",
      "Similarity Score 0.39358848557437054\n",
      "---\n",
      "type: page\n",
      "title: What Is an Elastic Virtual Machine\n",
      "listed: true\n",
      "slug: what-is-evm\n",
      "description:\n",
      "index_title: What Is EVM\n",
      "hidden:\n",
      "keywords:\n",
      "tags:\n",
      "---published  \n",
      "Elastic Virtual Machines (EVMs) are a key component of EMP, offering flexible and efficient compute resources for your cloud workloads.  \n",
      "EVMs are virtualised instances running on bare metal servers managed through EMP Bare Metal Pools. An EVM looks and feels exactly like a regular EC2 virtual machine, except that it's created by EMP on an AWS bare metal node.  These instances are designed to offer the performance benefits of dedicated physical servers while allowing for dynamic resource allocation and management. EVMs are at the heart of an EMP and will serve as worker nodes for your EKS clusters.  \n",
      "EVMs act as worker nodes for your Kubernetes cluster and are responsible for hosting your application pods. They provide the computational resources required to run containerised applications. EVMs are auto-scaled by EMP based on workload needs.\n",
      "----------------------------------------------------------------------------------------------------\n",
      "Similarity Score 0.3369383490067479\n",
      "## Benefits of EVMs  \n",
      "1. **Bridging Performance and Flexibility:** EVMs combine the performance advantages of bare metal servers with the flexibility of virtualization. An EVM looks and feels exactly like a regular EC2 virtual machine, except that it's created by EMP on an AWS bare metal node. This makes them suitable for all workload types, from high-performance computing to web applications.\n",
      "2. **Zero-touch Lifecycle Management:** EMP handles complete lifecycle management of all your EVMs. This includes provisioning, scaling, monitoring, and maintenance, allowing DevOps teams to focus on their applications without worrying about infrastructure management.\n",
      "----------------------------------------------------------------------------------------------------\n"
     ]
    }
   ],
   "source": [
    "for doc in searched_docs:\n",
    "    print('Similarity Score', doc[1])\n",
    "    print(doc[0].page_content)\n",
    "    print(\"-\"*100)"
   ]
  },
  {
   "cell_type": "markdown",
   "metadata": {},
   "source": [
    "# Try and setup a series of langchain chains :)\n",
    "## First Identify the functions each chain needs to do"
   ]
  },
  {
   "cell_type": "code",
   "execution_count": 45,
   "metadata": {},
   "outputs": [],
   "source": [
    "from langchain.schema.messages import SystemMessage, HumanMessage, AIMessage\n",
    "from langchain_openai import ChatOpenAI\n",
    "\n",
    "# Initialize openai's chat model\n",
    "llm_chat = ChatOpenAI(temperature=0.0, model='gpt-4o-mini')\n",
    "\n",
    "def chat(messages):\n",
    "    # messages.append(HumanMessage( message))\n",
    "    response = llm_chat(messages)\n",
    "    # messages.append(AIMessage(response.content))\n",
    "    return response\n"
   ]
  },
  {
   "cell_type": "markdown",
   "metadata": {},
   "source": [
    "### Define System Prompt"
   ]
  },
  {
   "cell_type": "code",
   "execution_count": 480,
   "metadata": {},
   "outputs": [],
   "source": [
    "from langchain.prompts import ChatPromptTemplate\n",
    "from langchain.chains import  LLMChain\n",
    "\n",
    "# prompt = \"\"\"Translate the text that is delimited by triple backticks into a style that is {style}. text: ```{text}```\"\"\"\n",
    "system_message_parent = \"\"\"\n",
    "Role: \n",
    "You are an expert support assistant for EMP (Elastic Machine Pools), helping users—ranging from first-time users to experienced system admins and DevOps personnel—navigate, understand, and troubleshoot the product.\n",
    "\n",
    "Task: \n",
    "Provide accurate, very coincise structured guidance to explain EMP features, guide users step-by-step through processes, and answer any product-related questions, especially regarding cost-saving on AWS EKS.\n",
    "\n",
    "Guidelines for Responses:\n",
    "1. **Structured and Readable Output**:\n",
    "   * Organize responses using HTML tags: \n",
    "     - `<h1>` for main headings\n",
    "     - `<h2>` for subheadings\n",
    "     - `<p>` for text\n",
    "     - `<ul>` and `<li>` for lists\n",
    "     - `<strong>` for emphasis\n",
    "     - `<a href=\"#\">` for hyperlinks.\n",
    "   * Break down complex topics into simple steps or segments. \n",
    "   **Avoid adding unnecessary newlines** between HTML tags like `<h1>`, `<h2>`, `<p>`, and others. Keep HTML code clean and readable.\n",
    "\n",
    "2. **Tailored Responses**: Adjust depth and tone depending on whether the user is new or experienced. Be concise for experts and more explanatory for beginners.\n",
    "\n",
    "3. **Proactive Assistance**: If a query is beyond your scope, direct the user to relevant documentation or external resources.\n",
    "\n",
    "4. **Provide Examples**: Whenever possible, give examples related to AWS EKS and Kubernetes to connect EMP features to real-world scenarios.\n",
    "\n",
    "\"\"\"\n",
    "# system_prompt_template = ChatPromptTemplate.from_template(system_message)\n",
    "# system_message_chain = LLMChain(llm=llm, prompt=system_prompt_template, output_key=\"system_message\")\n"
   ]
  },
  {
   "cell_type": "markdown",
   "metadata": {},
   "source": [
    "### Define a LLM chain to extract key topics from the prompt."
   ]
  },
  {
   "cell_type": "code",
   "execution_count": 481,
   "metadata": {},
   "outputs": [
    {
     "name": "stderr",
     "output_type": "stream",
     "text": [
      "/var/folders/sc/zs54s9k551535_87l6wyj_hm0000gr/T/ipykernel_82812/3809406445.py:25: LangChainDeprecationWarning: The class `LLMChain` was deprecated in LangChain 0.1.17 and will be removed in 1.0. Use RunnableSequence, e.g., `prompt | llm` instead.\n",
      "  extract_topics_chain = LLMChain(llm=llm, prompt=extract_topics_prompt_template, output_key=\"key_topics\")\n"
     ]
    }
   ],
   "source": [
    "from langchain.chains import  LLMChain\n",
    "\n",
    "# Define your system prompt\n",
    "extract_topics_system_prompt = \"\"\"You are an expert support assistant for product EMP(Elastic Machine Pools) proficient in Cloud Native technologies \\\n",
    "      like Amazon Elastic Kubernetes Service (Amazon EKS), Kubernetes who is also \\\n",
    "          trained to extract key topics from a user's query. \n",
    "Your task is to identify 1-2 main search topics that are most relevant to the query. \n",
    "Provide concise and clear topics that capture the core of what the user is asking.\"\"\"\n",
    "\n",
    "# Define your user input placeholder\n",
    "user_message = \"{query}\"\n",
    "\n",
    "# Create the ChatPromptTemplate\n",
    "extract_topics_prompt_template = ChatPromptTemplate.from_messages([\n",
    "    (\"system\", extract_topics_system_prompt),\n",
    "    (\"user\", user_message)\n",
    "])\n",
    "\n",
    "# Example usage with a query\n",
    "query = \"How can EMP (Elastic Machine Pools) help save costs on AWS EKS\"\n",
    "\n",
    "# Format the prompt with the user query\n",
    "extract_topics_prompt = extract_topics_prompt_template.format(query=query)\n",
    "\n",
    "extract_topics_chain = LLMChain(llm=llm, prompt=extract_topics_prompt_template, output_key=\"key_topics\")"
   ]
  },
  {
   "cell_type": "code",
   "execution_count": 483,
   "metadata": {},
   "outputs": [],
   "source": [
    "# chat(extract_topics_prompt).content"
   ]
  },
  {
   "cell_type": "markdown",
   "metadata": {},
   "source": [
    "### Define a Transform Chain to write a summary of the key topics in few lines."
   ]
  },
  {
   "cell_type": "code",
   "execution_count": 484,
   "metadata": {},
   "outputs": [],
   "source": [
    "from langchain.chains import  TransformChain \n",
    "\n",
    "def summarise_topics(topics):\n",
    "     \n",
    "    # prompt_template = ChatPromptTemplate.from_template(\"\"\"Summarize the key concepts given below from the retrieved documentation that are essential for understanding,\\\n",
    "    #     navigating, or troubleshooting Elastic Machine Pools (EMP).\\\n",
    "    #     Present the information in a concise, actionable format.\n",
    "    #     Key Topics : \"{topics}\"\n",
    "    #     \"\"\"\n",
    "    #  )\n",
    "    prompt_template = ChatPromptTemplate.from_template( \"\"\"Write a concise summary of each topic in detail in the product EMP:\n",
    "    \"{topics}\"\n",
    "    \"\"\")\n",
    "\n",
    "    stuff_summary_chain = RetrievalQA.from_chain_type(\n",
    "        llm=llm, \n",
    "        chain_type=\"stuff\", \n",
    "        retriever=vector_store.as_retriever(search_type=\"mmr\", search_kwargs={\"k\": 2, \"fetch_k\": 6}), \n",
    "        verbose=True\n",
    "    )\n",
    "    return{\"summary\": stuff_summary_chain.invoke(prompt_template.format(topics=topics))}\n",
    "\n",
    "\n",
    "summarise_chain = TransformChain(\n",
    "    input_variables=[\"key_topics\"], \n",
    "    output_variables=[\"summary\"],\n",
    "    transform=summarise_topics\n",
    ")"
   ]
  },
  {
   "cell_type": "markdown",
   "metadata": {},
   "source": [
    "### Define a Transform Chain to answer actually the query."
   ]
  },
  {
   "cell_type": "code",
   "execution_count": 485,
   "metadata": {},
   "outputs": [],
   "source": [
    "system_message= \"\"\"\n",
    "Role: \n",
    "You are an expert support assistant for EMP (Elastic Machine Pools), helping users—ranging from first-time users to experienced system admins and DevOps personnel—navigate, understand, and troubleshoot the product.\n",
    "\n",
    "Task: \n",
    "Provide accurate, very coincise structured guidance to explain EMP features, guide users step-by-step through processes, and answer any product-related questions, especially regarding cost-saving on AWS EKS.\n",
    "\n",
    "DO NOT SUMMARISE , JUST PROVIDE A VERY ACCURATE AND COINCISE ANSWER TO THE QUESTION.\n",
    "\"\"\"\n",
    "\n",
    "def answer_query(query):\n",
    "    user_message = \"The question is : {query}\"\n",
    "    qa_answer_prompt_template = ChatPromptTemplate.from_messages([\n",
    "        (\"system\", system_message),\n",
    "        (\"user\", user_message)\n",
    "    ])\n",
    "\n",
    "    stuff_qa_chain = RetrievalQA.from_chain_type(\n",
    "        llm=llm, \n",
    "        chain_type=\"stuff\", \n",
    "        retriever=vector_store.as_retriever(search_type=\"mmr\", search_kwargs={\"k\": 4, \"fetch_k\": 10}), \n",
    "        verbose=True\n",
    "    )\n",
    "    return{\"answers\": stuff_qa_chain.invoke(qa_answer_prompt_template.format(query=query))}\n",
    "\n",
    "\n",
    "qa_chain = TransformChain(\n",
    "    input_variables=[\"query\"], \n",
    "    output_variables=[\"answers\"],\n",
    "    transform=answer_query\n",
    ")"
   ]
  },
  {
   "cell_type": "markdown",
   "metadata": {},
   "source": [
    "### Define a Transform Chain to give step by step instructions to configure the  features mentioned in the  query.\n"
   ]
  },
  {
   "cell_type": "code",
   "execution_count": 486,
   "metadata": {},
   "outputs": [],
   "source": [
    "def how_to_configure(params):\n",
    "    # print('The params of how_to_configure', params[\"summary\"])\n",
    "    system_message = \"\"\"\n",
    "    You are an support assistant expert at guiding users to use the product EMP and its features, step by step in detail.  \n",
    "\"\"\"\n",
    "\n",
    "    user_message =\"\"\"Given are key topics of the conversation and the query the user asked. \n",
    "    Guide me step by step with detailed instructions, the procedure to configure and use it these features/key topics/features in EMP to start saving costs.\n",
    "    Also mention any probable gotchas/caveats.\n",
    "    Key Topics : {key_topics} , Query: {query}\n",
    "\n",
    "    Important Note: If there are no configuration steps for the key concepts in the docs, skip this and return blank response.\n",
    "\n",
    "    \"\"\"\n",
    "    \n",
    "    configuration_prompt_template = ChatPromptTemplate.from_messages([\n",
    "        (\"system\", system_message),\n",
    "        (\"user\", user_message)\n",
    "    ])\n",
    "\n",
    "    configuration_qa_chain = RetrievalQA.from_chain_type(\n",
    "        llm=llm, \n",
    "        chain_type=\"stuff\", \n",
    "        retriever=vector_store.as_retriever(search_type=\"mmr\", search_kwargs={\"k\": 2, \"fetch_k\": 4}), \n",
    "        verbose=True\n",
    "    )\n",
    "    return{\"configuration_steps\": configuration_qa_chain.invoke(configuration_prompt_template.format(key_topics=params[\"key_topics\"], query=params[\"query\"]))}\n",
    "\n",
    "\n",
    "configuration_chain = TransformChain(\n",
    "    input_variables=[\"key_topics\", \"query\"], \n",
    "    output_variables=[\"configuration_steps\"],\n",
    "    transform=how_to_configure\n",
    ")"
   ]
  },
  {
   "cell_type": "markdown",
   "metadata": {},
   "source": [
    "### Adding ***ConversationBufferMemory*** Memory"
   ]
  },
  {
   "cell_type": "code",
   "execution_count": 487,
   "metadata": {},
   "outputs": [],
   "source": [
    "from langchain.memory import ConversationBufferMemory\n",
    "memory = ConversationBufferMemory(memory_key=\"history\", input_key=\"query\", output_key=\"result\")"
   ]
  },
  {
   "cell_type": "code",
   "execution_count": 488,
   "metadata": {},
   "outputs": [],
   "source": [
    "\n",
    "system_message= \"\"\"\n",
    "Role: \n",
    "You are an expert at combining various sections of text and creating a conherent passage of text, which gives a holistic answer to the user query.\n",
    "\n",
    "Task: \n",
    "Combine the summary, answers, and configuration steps in that order to form a complete answer to the query given below. Be informative and creative in the way you present these section headers, don't spell them out exactly as it is.\n",
    "Also give a very relevant and coincise header to the entire conversation, which captures the entire essence of the answer.\n",
    "\n",
    "Guidelines for Responses:\n",
    "1. **Structured and Readable Output**:\n",
    "* Organize responses using HTML tags: \n",
    "    - `<h1>` for main headings\n",
    "    - `<h2>` for subheadings\n",
    "    - `<p>` for text\n",
    "    - `<ul>` and `<li>` for lists\n",
    "    - `<strong>` for emphasis\n",
    "    - `<a href=\"#\">` for hyperlinks.\n",
    "* Break down complex topics into simple steps or segments. \n",
    "**Avoid adding unnecessary newlines** between HTML tags like `<h1>`, `<h2>`, `<p>`, and others. Keep HTML code clean and readable.\n",
    "\n",
    "2. **Role and Tone **:  Maintain a professional, helpful, and friendly tone throughout the interaction. \n",
    "\n",
    "3. **Proactive Assistance**: If a query is beyond your scope, direct the user to relevant documentation or external resources.\n",
    "\n",
    "4. **Provide Examples**: Whenever possible, give examples related to AWS EKS and Kubernetes to connect EMP features to real-world scenarios.\"\"\"\n",
    "\n",
    "user_message =\"\"\"Following is the summary to the key topics of the query, answers to the actual question asked in the query,  \\\n",
    "    and the configuration steps, combine them into a conherent response for the user query. All of those given here ->\n",
    "    Summary : {summary}\n",
    "    Answers : {answers}\n",
    "    Configuration Steps: {configuration_steps}\n",
    "    Query: {query}\n",
    "\n",
    "    Important: Please consider the conversation history : {history} too while constructing you answer, if applicable.\n",
    "    Important: IT IS NOT IMPORTANT TO CONSIDER SUMMARY, ANSWERS, CONFIGURATION STEPS, ALWAYS. \\\n",
    "          Analyse the query and decide whether to just answer the query or augment it with the above information. \\\n",
    "            Remember we need to keep our answers crisp and to the point.\n",
    "\"\"\"\n",
    "\n",
    "result_prompt_template = ChatPromptTemplate.from_messages([\n",
    "    (\"system\", system_message),\n",
    "    (\"user\", user_message)\n",
    "])\n",
    "\n",
    "result_chain = LLMChain(llm=llm, prompt=result_prompt_template, output_key=\"result\")"
   ]
  },
  {
   "cell_type": "markdown",
   "metadata": {},
   "source": []
  },
  {
   "cell_type": "code",
   "execution_count": 490,
   "metadata": {},
   "outputs": [],
   "source": [
    "from langchain.chains import SequentialChain\n",
    "\n",
    "overall_chain = SequentialChain(chains=[extract_topics_chain, summarise_chain, qa_chain, configuration_chain, result_chain],\n",
    "                                 input_variables=[\"query\"],  output_variables=[\"key_topics\", \"summary\", \"answers\", \"configuration_steps\", \"result\"],  verbose=True, memory=memory)"
   ]
  },
  {
   "cell_type": "code",
   "execution_count": 491,
   "metadata": {},
   "outputs": [
    {
     "name": "stdout",
     "output_type": "stream",
     "text": [
      "\n",
      "\n",
      "\u001b[1m> Entering new SequentialChain chain...\u001b[0m\n",
      "\n",
      "\n",
      "\u001b[1m> Entering new RetrievalQA chain...\u001b[0m\n",
      "\n",
      "\u001b[1m> Finished chain.\u001b[0m\n",
      "\n",
      "\n",
      "\u001b[1m> Entering new RetrievalQA chain...\u001b[0m\n",
      "\n",
      "\u001b[1m> Finished chain.\u001b[0m\n",
      "\n",
      "\n",
      "\u001b[1m> Entering new RetrievalQA chain...\u001b[0m\n",
      "\n",
      "\u001b[1m> Finished chain.\u001b[0m\n",
      "\n",
      "\u001b[1m> Finished chain.\u001b[0m\n"
     ]
    }
   ],
   "source": [
    "query = \"What is  EMP?\"\n",
    "\n",
    "result = overall_chain.invoke({\"query\" : query})"
   ]
  },
  {
   "cell_type": "code",
   "execution_count": 495,
   "metadata": {},
   "outputs": [],
   "source": [
    "def stripExtraSpaces(query):\n",
    "    return  query.replace(\"\\\\n\", \"\").replace(\"\\n\", \"\")"
   ]
  },
  {
   "cell_type": "code",
   "execution_count": 496,
   "metadata": {},
   "outputs": [
    {
     "data": {
      "text/plain": [
       "'Elastic Machine Pools'"
      ]
     },
     "execution_count": 496,
     "metadata": {},
     "output_type": "execute_result"
    }
   ],
   "source": [
    "result[\"key_topics\"]"
   ]
  },
  {
   "cell_type": "code",
   "execution_count": 497,
   "metadata": {},
   "outputs": [
    {
     "data": {
      "text/plain": [
       "'Platform9 Elastic Machine Pool (EMP) is a Kubernetes cost optimization platform specifically designed for public cloud native Kubernetes offerings. It focuses on helping you reduce wasted Kubernetes compute, aiming to reclaim over 70% of resources that may be sitting idle, thus significantly lowering your Kubernetes cluster costs.\\n\\nHere are the step-by-step instructions to configure and use EMP to start saving costs:\\n\\n1. **Log into the EMP UI**:\\n   - Start by logging into the EMP user interface with your credentials.\\n\\n2. **Create an EMP Instance**:\\n   - Follow the \"Create EMP\" wizard to set up your first instance of EMP.\\n\\n3. **Select Cloud Credentials**:\\n   - Choose the cloud credentials that you have set up previously.\\n\\n4. **Choose AWS Region**:\\n   - Select the AWS region where your EKS cluster is located.\\n\\n5. **Select EKS Cluster**:\\n   - From the list provided, select the EKS cluster that you wish to optimize.\\n\\n6. **Configure Security Groups**:\\n   - Set the security group configuration options to enable communication between the EKS control plane and the EMP-created worker nodes (EVMs) and between EVMs and non-EVM nodes. You can refer to the documentation for more detailed information.\\n\\n7. **Select EC2 Instance Type**:\\n   - Choose the AWS EC2 bare metal instance type for creating a new bare metal pool. Ensure that the instance type is from the same family as the EC2 instances you are currently using for your EKS cluster. For example, if your EC2 workers are r5.8xlarge instances, select r5.metal.\\n\\n8. **Configure VPC**:\\n   - Select an existing VPC that your EKS cluster is part of. Refer to the documentation for an in-depth understanding of the options available.\\n\\n9. **Create EVM Pool**:\\n   - Create one EVM pool for your EKS cluster by choosing the same EC2 instance type used for your current EKS cluster. You can check the documentation for configuration options during EVM pool creation.\\n\\n10. **Finalize and Create the EMP Instance**:\\n    - Complete the setup process and finalize the creation of the EMP instance. Note that this process may take up to 30 minutes.\\n\\n11. **Monitor the Status**:\\n    - You can monitor the status of the EMP instance from the \\'Overview\\' screen in the EMP UI. Once created, the EMP instance status will change to \"Ready.\"\\n\\n12. **View EVM Worker Nodes**:\\n    - After the EMP instance is ready, you will be able to see the EVM worker nodes in your AWS EKS dashboard alongside your regular EC2 worker nodes. Additionally, you can view the AWS bare metal instances provisioned in your EC2 dashboard.\\n\\n### Gotchas/Caveats:\\n- Ensure that the EC2 instance type you select is compatible with your existing EKS cluster to avoid potential issues.\\n- Pay attention to the security group settings to ensure proper communication between the different components.\\n- The creation process may take up to 30 minutes, so plan accordingly to avoid disruptions in your workflow.\\n\\nBy following these steps, you can effectively configure EMP and start optimizing your Kubernetes costs.'"
      ]
     },
     "execution_count": 497,
     "metadata": {},
     "output_type": "execute_result"
    }
   ],
   "source": [
    "result[\"configuration_steps\"][\"result\"]"
   ]
  },
  {
   "cell_type": "code",
   "execution_count": 498,
   "metadata": {},
   "outputs": [
    {
     "data": {
      "text/plain": [
       "'**What is EMP?**\\nPlatform9 Elastic Machine Pool (EMP) is a cost optimization platform designed specifically for public cloud native Kubernetes offerings. It aims to help organizations reclaim over 70% of wasted Kubernetes compute resources that are typically idle, leading to a significant reduction in Kubernetes cluster costs, also by over 70%. Currently, EMP supports the AWS EKS Kubernetes service, with plans to extend support to Google Kubernetes Engine (GKE) and Azure Kubernetes Service (AKS) in the future.\\n\\n**Elastic Machine Pools**\\nElastic Machine Pools refer to the dynamic allocation and management of computing resources within Kubernetes environments. EMP optimizes the usage of these resources, ensuring that compute power is efficiently utilized and that costs are minimized. By leveraging Elastic Machine Pools, organizations can better manage their Kubernetes workloads, reduce waste, and improve overall operational efficiency.'"
      ]
     },
     "execution_count": 498,
     "metadata": {},
     "output_type": "execute_result"
    }
   ],
   "source": [
    "result[\"summary\"][\"result\"]"
   ]
  },
  {
   "cell_type": "code",
   "execution_count": 499,
   "metadata": {},
   "outputs": [
    {
     "data": {
      "text/plain": [
       "{'query': 'What is  EMP?',\n",
       " 'history': '',\n",
       " 'key_topics': 'Elastic Machine Pools',\n",
       " 'summary': {'query': 'Human: Write a concise summary of each topic in detail in the product EMP:\\n    \"{\\'query\\': \\'What is  EMP?\\', \\'history\\': \\'\\', \\'key_topics\\': \\'Elastic Machine Pools\\'}\"\\n    ',\n",
       "  'result': '**What is EMP?**\\nPlatform9 Elastic Machine Pool (EMP) is a cost optimization platform designed specifically for public cloud native Kubernetes offerings. It aims to help organizations reclaim over 70% of wasted Kubernetes compute resources that are typically idle, leading to a significant reduction in Kubernetes cluster costs, also by over 70%. Currently, EMP supports the AWS EKS Kubernetes service, with plans to extend support to Google Kubernetes Engine (GKE) and Azure Kubernetes Service (AKS) in the future.\\n\\n**Elastic Machine Pools**\\nElastic Machine Pools refer to the dynamic allocation and management of computing resources within Kubernetes environments. EMP optimizes the usage of these resources, ensuring that compute power is efficiently utilized and that costs are minimized. By leveraging Elastic Machine Pools, organizations can better manage their Kubernetes workloads, reduce waste, and improve overall operational efficiency.'},\n",
       " 'answers': {'query': 'System: \\nRole: \\nYou are an expert at combining various sections of text and creating a conherent passage of text, which gives a holistic answer to the user query.\\n\\nTask: \\nCombine the summary, answers, and configuration steps in that order to form a complete answer to the query given below. Be informative and creative in the way you present these section headers, don\\'t spell them out exactly as it is.\\nAlso give a very relevant and coincise header to the entire conversation, which captures the entire essence of the answer.\\n\\nGuidelines for Responses:\\n1. **Structured and Readable Output**:\\n* Organize responses using HTML tags: \\n    - `<h1>` for main headings\\n    - `<h2>` for subheadings\\n    - `<p>` for text\\n    - `<ul>` and `<li>` for lists\\n    - `<strong>` for emphasis\\n    - `<a href=\"#\">` for hyperlinks.\\n* Break down complex topics into simple steps or segments. \\n**Avoid adding unnecessary newlines** between HTML tags like `<h1>`, `<h2>`, `<p>`, and others. Keep HTML code clean and readable.\\n\\n2. **Role and Tone **:  Maintain a professional, helpful, and friendly tone throughout the interaction. \\n\\n3. **Proactive Assistance**: If a query is beyond your scope, direct the user to relevant documentation or external resources.\\n\\n4. **Provide Examples**: Whenever possible, give examples related to AWS EKS and Kubernetes to connect EMP features to real-world scenarios.\\nHuman: The question is : {\\'query\\': \\'What is  EMP?\\', \\'history\\': \\'\\', \\'key_topics\\': \\'Elastic Machine Pools\\', \\'summary\\': {\\'query\\': \\'Human: Write a concise summary of each topic in detail in the product EMP:\\\\n    \"{\\\\\\'query\\\\\\': \\\\\\'What is  EMP?\\\\\\', \\\\\\'history\\\\\\': \\\\\\'\\\\\\', \\\\\\'key_topics\\\\\\': \\\\\\'Elastic Machine Pools\\\\\\'}\"\\\\n    \\', \\'result\\': \\'**What is EMP?**\\\\nPlatform9 Elastic Machine Pool (EMP) is a cost optimization platform designed specifically for public cloud native Kubernetes offerings. It aims to help organizations reclaim over 70% of wasted Kubernetes compute resources that are typically idle, leading to a significant reduction in Kubernetes cluster costs, also by over 70%. Currently, EMP supports the AWS EKS Kubernetes service, with plans to extend support to Google Kubernetes Engine (GKE) and Azure Kubernetes Service (AKS) in the future.\\\\n\\\\n**Elastic Machine Pools**\\\\nElastic Machine Pools refer to the dynamic allocation and management of computing resources within Kubernetes environments. EMP optimizes the usage of these resources, ensuring that compute power is efficiently utilized and that costs are minimized. By leveraging Elastic Machine Pools, organizations can better manage their Kubernetes workloads, reduce waste, and improve overall operational efficiency.\\'}}',\n",
       "  'result': '<h1>Understanding Platform9 Elastic Machine Pool (EMP)</h1><h2>What is EMP?</h2><p>Platform9 Elastic Machine Pool (EMP) is a cost optimization platform designed specifically for public cloud native Kubernetes offerings. It aims to help organizations reclaim over <strong>70%</strong> of wasted Kubernetes compute resources that are typically idle, leading to a significant reduction in Kubernetes cluster costs, also by over <strong>70%</strong>. Currently, EMP supports the <strong>AWS EKS</strong> Kubernetes service, with plans to extend support to <strong>Google Kubernetes Engine (GKE)</strong> and <strong>Azure Kubernetes Service (AKS)</strong> in the future.</p><h2>Elastic Machine Pools Explained</h2><p>Elastic Machine Pools refer to the dynamic allocation and management of computing resources within Kubernetes environments. EMP optimizes the usage of these resources, ensuring that compute power is efficiently utilized and that costs are minimized. By leveraging Elastic Machine Pools, organizations can better manage their Kubernetes workloads, reduce waste, and improve overall operational efficiency.</p><h2>Steps to Configure EMP</h2><p>To set up EMP and start optimizing your AWS EKS cluster, follow these steps:</p><ul><li>Log into the EMP UI and follow the \"Create EMP\" wizard to create your first instance of EMP.</li><li>Select your cloud credentials and the AWS region where your EKS cluster resides.</li><li>Choose the EKS cluster you wish to optimize from the list of available clusters.</li><li>Configure the security group options to enable communication between the EKS control plane and EMP\\'s worker nodes (EVMs).</li><li>Select the AWS EC2 bare metal instance type that matches your existing EKS cluster\\'s instance family.</li><li>Select an existing VPC that your EKS cluster is part of for VPC configuration.</li><li>Create an EVM pool, choosing the same EC2 instance type used for your EKS cluster.</li><li>Finalize and create the EMP instance, which may take up to 30 minutes to complete. Monitor the status from the \\'Overview\\' screen in the EMP UI until it shows as <strong>Ready</strong>.</li></ul><p>Once created, you will see the EVM worker nodes in your AWS EKS dashboard alongside your regular EC2 worker nodes, enhancing your cluster\\'s efficiency and cost-effectiveness.</p>'},\n",
       " 'configuration_steps': {'query': 'System: \\n    You are an support assistant expert at guiding users to use the product EMP and its features, step by step in detail.  \\n\\nHuman: Given are key topics of the conversation and the query the user asked. \\n    Guide me step by step with detailed instructions, the procedure to configure and use it these features/key topics/features in EMP to start saving costs.\\n    Also mention any probable gotchas/caveats.\\n    Key Topics : Elastic Machine Pools , Query: What is  EMP?\\n\\n    Important Note: If there are no configuration steps for the key concepts in the docs, skip this and return blank response.\\n\\n    ',\n",
       "  'result': 'Platform9 Elastic Machine Pool (EMP) is a Kubernetes cost optimization platform specifically designed for public cloud native Kubernetes offerings. It focuses on helping you reduce wasted Kubernetes compute, aiming to reclaim over 70% of resources that may be sitting idle, thus significantly lowering your Kubernetes cluster costs.\\n\\nHere are the step-by-step instructions to configure and use EMP to start saving costs:\\n\\n1. **Log into the EMP UI**:\\n   - Start by logging into the EMP user interface with your credentials.\\n\\n2. **Create an EMP Instance**:\\n   - Follow the \"Create EMP\" wizard to set up your first instance of EMP.\\n\\n3. **Select Cloud Credentials**:\\n   - Choose the cloud credentials that you have set up previously.\\n\\n4. **Choose AWS Region**:\\n   - Select the AWS region where your EKS cluster is located.\\n\\n5. **Select EKS Cluster**:\\n   - From the list provided, select the EKS cluster that you wish to optimize.\\n\\n6. **Configure Security Groups**:\\n   - Set the security group configuration options to enable communication between the EKS control plane and the EMP-created worker nodes (EVMs) and between EVMs and non-EVM nodes. You can refer to the documentation for more detailed information.\\n\\n7. **Select EC2 Instance Type**:\\n   - Choose the AWS EC2 bare metal instance type for creating a new bare metal pool. Ensure that the instance type is from the same family as the EC2 instances you are currently using for your EKS cluster. For example, if your EC2 workers are r5.8xlarge instances, select r5.metal.\\n\\n8. **Configure VPC**:\\n   - Select an existing VPC that your EKS cluster is part of. Refer to the documentation for an in-depth understanding of the options available.\\n\\n9. **Create EVM Pool**:\\n   - Create one EVM pool for your EKS cluster by choosing the same EC2 instance type used for your current EKS cluster. You can check the documentation for configuration options during EVM pool creation.\\n\\n10. **Finalize and Create the EMP Instance**:\\n    - Complete the setup process and finalize the creation of the EMP instance. Note that this process may take up to 30 minutes.\\n\\n11. **Monitor the Status**:\\n    - You can monitor the status of the EMP instance from the \\'Overview\\' screen in the EMP UI. Once created, the EMP instance status will change to \"Ready.\"\\n\\n12. **View EVM Worker Nodes**:\\n    - After the EMP instance is ready, you will be able to see the EVM worker nodes in your AWS EKS dashboard alongside your regular EC2 worker nodes. Additionally, you can view the AWS bare metal instances provisioned in your EC2 dashboard.\\n\\n### Gotchas/Caveats:\\n- Ensure that the EC2 instance type you select is compatible with your existing EKS cluster to avoid potential issues.\\n- Pay attention to the security group settings to ensure proper communication between the different components.\\n- The creation process may take up to 30 minutes, so plan accordingly to avoid disruptions in your workflow.\\n\\nBy following these steps, you can effectively configure EMP and start optimizing your Kubernetes costs.'},\n",
       " 'result': '<h1>Unlock Cost Efficiency with Platform9 Elastic Machine Pool (EMP)</h1><h2>What is EMP?</h2><p>Platform9 Elastic Machine Pool (EMP) is a cost optimization platform specifically designed for public cloud native Kubernetes offerings. It aims to help organizations reclaim over <strong>70%</strong> of wasted Kubernetes compute resources that are typically idle, significantly reducing Kubernetes cluster costs by the same percentage. Currently, EMP supports the <strong>AWS EKS</strong> Kubernetes service, with future plans to extend support to <strong>Google Kubernetes Engine (GKE)</strong> and <strong>Azure Kubernetes Service (AKS)</strong>.</p><h2>Understanding Elastic Machine Pools</h2><p>Elastic Machine Pools refer to the dynamic allocation and management of computing resources within Kubernetes environments. EMP optimizes the usage of these resources, ensuring efficient compute power utilization and cost minimization. By leveraging Elastic Machine Pools, organizations can effectively manage their Kubernetes workloads, reduce waste, and enhance overall operational efficiency.</p><h2>Steps to Configure EMP</h2><p>To set up EMP and start optimizing your AWS EKS cluster, follow these detailed steps:</p><ul><li><strong>Log into the EMP UI:</strong> Start by logging into the EMP user interface with your credentials.</li><li><strong>Create an EMP Instance:</strong> Follow the \"Create EMP\" wizard to set up your first instance of EMP.</li><li><strong>Select Cloud Credentials:</strong> Choose the cloud credentials that you have set up previously.</li><li><strong>Choose AWS Region:</strong> Select the AWS region where your EKS cluster is located.</li><li><strong>Select EKS Cluster:</strong> From the list provided, select the EKS cluster that you wish to optimize.</li><li><strong>Configure Security Groups:</strong> Set the security group configuration options to enable communication between the EKS control plane and the EMP-created worker nodes (EVMs) and between EVMs and non-EVM nodes.</li><li><strong>Select EC2 Instance Type:</strong> Choose the AWS EC2 bare metal instance type for creating a new bare metal pool. Ensure that it matches your existing EKS cluster\\'s instance family.</li><li><strong>Configure VPC:</strong> Select an existing VPC that your EKS cluster is part of.</li><li><strong>Create EVM Pool:</strong> Create one EVM pool for your EKS cluster by choosing the same EC2 instance type used for your current EKS cluster.</li><li><strong>Finalize and Create the EMP Instance:</strong> Complete the setup process and finalize the creation of the EMP instance, which may take up to 30 minutes.</li><li><strong>Monitor the Status:</strong> You can monitor the EMP instance status from the \\'Overview\\' screen in the EMP UI until it shows as <strong>Ready</strong>.</li><li><strong>View EVM Worker Nodes:</strong> After the EMP instance is ready, you will see the EVM worker nodes in your AWS EKS dashboard alongside your regular EC2 worker nodes.</li></ul><h2>Gotchas to Consider</h2><p><strong>Compatibility:</strong> Ensure that the EC2 instance type you select is compatible with your existing EKS cluster to avoid potential issues.</p><p><strong>Security Group Settings:</strong> Pay attention to security group settings to ensure proper communication between components.</p><p><strong>Time Consideration:</strong> The creation process may take up to 30 minutes, so plan accordingly to avoid disruptions in your workflow.</p><p>By following these steps, you can effectively configure EMP and start optimizing your Kubernetes costs while enhancing operational efficiency.</p>'}"
      ]
     },
     "execution_count": 499,
     "metadata": {},
     "output_type": "execute_result"
    }
   ],
   "source": [
    "result"
   ]
  },
  {
   "cell_type": "markdown",
   "metadata": {},
   "source": [
    "### Printing the final result( WOW, its pretty good)"
   ]
  },
  {
   "cell_type": "code",
   "execution_count": 191,
   "metadata": {},
   "outputs": [
    {
     "data": {
      "text/plain": [
       "'<h1>Exploring Burstable Machine Pools in Elastic Machine Pools</h1><h2>Introduction to Elastic Machine Pools (EMP)</h2><p>Elastic Machine Pools (EMP) is a Kubernetes cost optimization platform that focuses on enhancing the efficiency of public cloud native Kubernetes offerings. It enables organizations to reclaim over 70% of wasted Kubernetes compute resources that may otherwise remain idle, leading to significant reductions in Kubernetes cluster costs. Currently, EMP supports the AWS EKS Kubernetes service, with plans to extend support to Google Kubernetes Engine (GKE) and Azure Kubernetes Service (AKS) in the future.</p><h2>Understanding Burstable Machine Pools (BMP)</h2><p>Unfortunately, specific information regarding Burstable Machine Pools (BMP) within the context of Elastic Machine Pools (EMP) is not available at this time. For comprehensive insights, it is advisable to consult the official documentation or resources related to EMP.</p><h2>Steps to Get Started with EMP</h2><p>To create your first EMP instance and start optimizing costs, follow these steps:</p><ul><li>Log into the EMP UI and initiate the \"Create EMP\" wizard.</li><li>Select your cloud credentials and the AWS region where your EKS cluster is located.</li><li>Choose the EKS cluster you wish to optimize from the list provided.</li><li>Configure security group options to enable communication between the EKS control plane and EMP worker nodes.</li><li>Select the AWS EC2 bare metal instance type for your bare metal pool, ensuring it aligns with the instance family of your current EKS cluster.</li><li>Choose an existing VPC that your EKS cluster is part of.</li><li>Create an EVM pool, selecting the same EC2 instance type used for your EKS cluster.</li><li>Finalize and create the EMP instance, which may take up to 30 minutes to complete.</li></ul><p>Once your EMP instance is created, you can monitor its status from the \\'Overview\\' screen in the EMP UI, and view the EVM worker nodes in your AWS EKS dashboard alongside your regular EC2 worker nodes.</p>'"
      ]
     },
     "execution_count": 191,
     "metadata": {},
     "output_type": "execute_result"
    }
   ],
   "source": [
    "stripExtraSpaces(result[\"result\"])"
   ]
  },
  {
   "cell_type": "code",
   "execution_count": 192,
   "metadata": {},
   "outputs": [
    {
     "data": {
      "text/plain": [
       "[HumanMessage(content='What is BMP in EMP?'),\n",
       " AIMessage(content='<h1>Exploring Burstable Machine Pools in Elastic Machine Pools</h1>\\n<h2>Introduction to Elastic Machine Pools (EMP)</h2>\\n<p>Elastic Machine Pools (EMP) is a Kubernetes cost optimization platform that focuses on enhancing the efficiency of public cloud native Kubernetes offerings. It enables organizations to reclaim over 70% of wasted Kubernetes compute resources that may otherwise remain idle, leading to significant reductions in Kubernetes cluster costs. Currently, EMP supports the AWS EKS Kubernetes service, with plans to extend support to Google Kubernetes Engine (GKE) and Azure Kubernetes Service (AKS) in the future.</p>\\n<h2>Understanding Burstable Machine Pools (BMP)</h2>\\n<p>Unfortunately, specific information regarding Burstable Machine Pools (BMP) within the context of Elastic Machine Pools (EMP) is not available at this time. For comprehensive insights, it is advisable to consult the official documentation or resources related to EMP.</p>\\n<h2>Steps to Get Started with EMP</h2>\\n<p>To create your first EMP instance and start optimizing costs, follow these steps:</p>\\n<ul>\\n<li>Log into the EMP UI and initiate the \"Create EMP\" wizard.</li>\\n<li>Select your cloud credentials and the AWS region where your EKS cluster is located.</li>\\n<li>Choose the EKS cluster you wish to optimize from the list provided.</li>\\n<li>Configure security group options to enable communication between the EKS control plane and EMP worker nodes.</li>\\n<li>Select the AWS EC2 bare metal instance type for your bare metal pool, ensuring it aligns with the instance family of your current EKS cluster.</li>\\n<li>Choose an existing VPC that your EKS cluster is part of.</li>\\n<li>Create an EVM pool, selecting the same EC2 instance type used for your EKS cluster.</li>\\n<li>Finalize and create the EMP instance, which may take up to 30 minutes to complete.</li>\\n</ul>\\n<p>Once your EMP instance is created, you can monitor its status from the \\'Overview\\' screen in the EMP UI, and view the EVM worker nodes in your AWS EKS dashboard alongside your regular EC2 worker nodes.</p>')]"
      ]
     },
     "execution_count": 192,
     "metadata": {},
     "output_type": "execute_result"
    }
   ],
   "source": [
    "# memory.clear()\n",
    "memory.buffer_as_messages"
   ]
  },
  {
   "cell_type": "markdown",
   "metadata": {},
   "source": [
    "# Play with Agents"
   ]
  },
  {
   "cell_type": "code",
   "execution_count": 193,
   "metadata": {},
   "outputs": [],
   "source": [
    "from langchain.agents import initialize_agent, Tool\n",
    "from langchain.agents.agent_types import AgentType\n",
    "from langchain.chains import RetrievalQA\n",
    "\n"
   ]
  },
  {
   "cell_type": "code",
   "execution_count": 194,
   "metadata": {},
   "outputs": [],
   "source": [
    "retriever = vector_store.as_retriever()\n",
    "\n",
    "\n",
    "def query_tool(query: str) -> str:\n",
    "    system_message= \"\"\"\n",
    "    Role: \n",
    "    You are an expert support assistant for EMP (Elastic Machine Pools), helping users—ranging from first-time users to experienced system admins and DevOps personnel—navigate, understand, and troubleshoot the product.\n",
    "\n",
    "    Task: \n",
    "    Provide accurate, very coincise structured guidance to explain EMP features, guide users step-by-step through processes, and answer any product-related questions, especially regarding cost-saving on AWS EKS.\n",
    "\n",
    "    # DO NOT SUMMARISE , JUST PROVIDE A VERY ACCURATE AND COINCISE ANSWER TO THE QUESTION.\n",
    "    \"\"\"\n",
    "    user_message = \"The question is : {query}\"\n",
    "    qa_answer_prompt_template = ChatPromptTemplate.from_messages([\n",
    "        (\"system\", system_message),\n",
    "        (\"user\", user_message)\n",
    "    ])\n",
    "\n",
    "    stuff_qa_chain = RetrievalQA.from_chain_type(\n",
    "        llm=llm, \n",
    "        chain_type=\"stuff\", \n",
    "        retriever=vector_store.as_retriever(k=4), \n",
    "        verbose=True\n",
    "    )\n",
    "    return stuff_qa_chain.invoke(qa_answer_prompt_template.format(query=query))\n",
    "\n",
    "def summary_tool(query:str) -> str:\n",
    "    system_message= \"\"\"\n",
    "    Role: You are an expert support assistant for EMP (Elastic Machine Pools), helping users—ranging from first-time users to \\\n",
    "        experienced system admins and DevOps personnel—navigate, understand, and troubleshoot the product.\n",
    "        \"\"\"\n",
    "\n",
    "    user_message = \"\"\"\n",
    "    Extract key topics from the following query and then write a concise summary of each topic in detail for the product EMP.\n",
    "        \"Query : {query}\"\n",
    "    \"\"\"\n",
    "    prompt_template = ChatPromptTemplate.from_template( \"\"\":\n",
    "    \"Query : {query}\"\n",
    "    \"\"\")\n",
    "\n",
    "    stuff_summary_chain = RetrievalQA.from_chain_type(\n",
    "        llm=llm, \n",
    "        chain_type=\"stuff\", \n",
    "        retriever=vector_store.as_retriever(k=4), \n",
    "        verbose=True\n",
    "    )\n",
    "\n",
    "    return stuff_summary_chain.invoke(query)\n",
    "\n",
    "tools = [\n",
    "     Tool(\n",
    "        name=\"Search\",\n",
    "        func=query_tool,\n",
    "        description=\"This is the tool to get specific answers to the query.\"\n",
    "    ),\n",
    "    Tool(\n",
    "        name=\"Summarise\",\n",
    "        func=summary_tool,\n",
    "        description=\"Use this tool to summarise key topics in the query to create a more holistic answer\"\n",
    "    ),\n",
    "]"
   ]
  },
  {
   "cell_type": "code",
   "execution_count": 195,
   "metadata": {},
   "outputs": [],
   "source": [
    "agent= initialize_agent(\n",
    "    tools, \n",
    "    llm, \n",
    "    agent=AgentType.ZERO_SHOT_REACT_DESCRIPTION, \n",
    "    verbose=True,\n",
    "    max_iterations=10\n",
    ")"
   ]
  },
  {
   "cell_type": "code",
   "execution_count": 196,
   "metadata": {},
   "outputs": [
    {
     "name": "stdout",
     "output_type": "stream",
     "text": [
      "\n",
      "\n",
      "\u001b[1m> Entering new AgentExecutor chain...\u001b[0m\n",
      "\u001b[32;1m\u001b[1;3mI need to clarify what BMP refers to in the context of EMP. BMP could stand for various things, so I should search for its specific meaning in relation to EMP (which could refer to Environmental Management Plans or something else). \n",
      "Action: Search\n",
      "Action Input: \"BMP in EMP meaning\"\u001b[0m\n",
      "\n",
      "\u001b[1m> Entering new RetrievalQA chain...\u001b[0m\n",
      "\n",
      "\u001b[1m> Finished chain.\u001b[0m\n",
      "\n",
      "Observation: \u001b[36;1m\u001b[1;3m{'query': 'System: \\n    Role: \\n    You are an expert support assistant for EMP (Elastic Machine Pools), helping users—ranging from first-time users to experienced system admins and DevOps personnel—navigate, understand, and troubleshoot the product.\\n\\n    Task: \\n    Provide accurate, very coincise structured guidance to explain EMP features, guide users step-by-step through processes, and answer any product-related questions, especially regarding cost-saving on AWS EKS.\\n\\n    # DO NOT SUMMARISE , JUST PROVIDE A VERY ACCURATE AND COINCISE ANSWER TO THE QUESTION.\\n    \\nHuman: The question is : BMP in EMP meaning', 'result': 'BMP in EMP stands for Bare Metal Pool. It is a collection of one or more AWS bare metal servers used to create Elastic Virtual Machines (EVMs) that serve as worker nodes for EKS clusters.'}\u001b[0m\n",
      "Thought:\u001b[32;1m\u001b[1;3mI now know the final answer.  \n",
      "Final Answer: BMP in EMP stands for Bare Metal Pool, which is a collection of one or more AWS bare metal servers used to create Elastic Virtual Machines (EVMs) that serve as worker nodes for EKS clusters.\u001b[0m\n",
      "\n",
      "\u001b[1m> Finished chain.\u001b[0m\n"
     ]
    },
    {
     "data": {
      "text/plain": [
       "{'input': 'What are BMP in EMP?',\n",
       " 'output': 'BMP in EMP stands for Bare Metal Pool, which is a collection of one or more AWS bare metal servers used to create Elastic Virtual Machines (EVMs) that serve as worker nodes for EKS clusters.'}"
      ]
     },
     "execution_count": 196,
     "metadata": {},
     "output_type": "execute_result"
    }
   ],
   "source": [
    "agent(\"What are BMP in EMP?\")"
   ]
  },
  {
   "cell_type": "markdown",
   "metadata": {},
   "source": [
    "# Simple Retrieval QA Chain"
   ]
  },
  {
   "cell_type": "code",
   "execution_count": 189,
   "metadata": {},
   "outputs": [],
   "source": [
    "system_message = \"\"\"\n",
    "Role:\n",
    "You are an expert support assistant for EMP (Elastic Machine Pools), helping users—ranging from first-time users to experienced \\\n",
    "    system admins and DevOps personnel navigate, understand, and troubleshoot the product.\n",
    "\n",
    "Task:\n",
    "Provide accurate, concise and structured(rules given below in point no:7) responses to the queries of the users based on the below rules. Please  do  not explicitly list the thought process headers.\n",
    "\n",
    "Guidelines for Responses:\n",
    "\t1.Initial Understanding and Topic Identification:\n",
    "\t•\tFirst, identify the core aspects of the user’s query. Think through what the user is really asking. What 1-2 main search topics or key concepts are most relevant?\n",
    "\t\n",
    "    2.Topic Breakdown and Explanation:\n",
    "\t•\tAfter identifying the key topics, provide a concise and clear explanation of each one. Summarize each key concept and their relation(if any) that will help the user better understand EMP, AWS EKS, and how they relate to cost savings.\n",
    "\t•\tThink: “What does the user need to know to understand this topic fully?”\n",
    "\t•\tThink: \"Have I already covered these topics in the above conversation?\" If yes, then do not repeat.\n",
    "\t\n",
    "    3.Answer the Core Query:\n",
    "\t•\tAfter helping the user grasp the necessary concepts, think about the precise question the user has asked. What is the most direct and concise answer to their question? Avoid unnecessary details, and focus on clarity and brevity.\n",
    "\t•\tThink: “What’s the best way to answer this query succinctly while making sure the user understands the core of the solution?”\n",
    "\t\n",
    "    4.Provide Step-by-Step Instructions:\n",
    "\t•\tNow that the user understands the main concepts, think through the procedure they need to follow. Guide them with detailed, step-by-step instructions on how to configure or the above key topis in the application.\n",
    "\t•\tConsider the user’s experience level. If they are new, explain each step in greater detail. For seasoned users, focus on efficiency.\n",
    "\t•\tIf this procedure has already been discussed in the history, acknowledge that, and only provide new information or further details.\n",
    "\t\n",
    "    5.\tIdentify and Mention Gotchas or Caveats:\n",
    "\t•\tBefore finishing the response, think about any common issues or pitfalls that could arise when implementing the instructions. Include these gotchas or caveats to ensure the user is prepared for potential challenges.\n",
    "\t•\tAgain, check the conversation history to avoid repeating information that’s already been mentioned.\n",
    "    \n",
    "\t6.\tStructured and Readable Output:\n",
    "\t•\tOrganize your response logically using HTML tags for readability:\n",
    "\t•\t<h1> for main headings\n",
    "\t•\t<h2> for subheadings\n",
    "\t•\t<p> for text\n",
    "\t•\t<ul> and <li> for lists\n",
    "\t•\t<strong> for emphasis\n",
    "\t•\t<a href=\"#\"> for hyperlinks\n",
    "\t•\tEnsure clean, readable HTML code by avoiding unnecessary newlines between tags.\n",
    "    \n",
    "\tFinally, combine the above points  into a single coherent reponse for the user query.\n",
    "    Let's now welcome the user and start the conversation.\n",
    "\"\"\"\n",
    "user_message = \"The query is : {query}. Let's think step by step as directed in the sytem prompt.\"\n",
    "\n",
    "qa_answer_prompt_template = ChatPromptTemplate.from_messages([\n",
    "    (\"system\", system_message),\n",
    "    (\"user\", user_message)\n",
    "])\n",
    "\n",
    "stuff_qa_chain = RetrievalQA.from_chain_type(\n",
    "    llm=llm, \n",
    "    chain_type=\"stuff\", \n",
    "    retriever=vector_store.as_retriever(search_type=\"mmr\", search_kwargs={\"k\": 4, \"fetch_k\": 10}), \n",
    "    verbose=True\n",
    ")\n",
    "\n",
    "map_reduce_qa_chain = RetrievalQA.from_chain_type(\n",
    "    llm=llm, \n",
    "    chain_type=\"map_reduce\", \n",
    "    retriever=vector_store.as_retriever(search_type=\"mmr\", search_kwargs={\"k\": 4, \"fetch_k\": 10}), \n",
    "    verbose=True\n",
    ")\n",
    "\n",
    "refine_qa_chain = RetrievalQA.from_chain_type(\n",
    "    llm=llm, \n",
    "    chain_type=\"refine\", \n",
    "    retriever=vector_store.as_retriever(search_type=\"mmr\", search_kwargs={\"k\": 4, \"fetch_k\": 10}), \n",
    "    verbose=True\n",
    ")"
   ]
  },
  {
   "cell_type": "code",
   "execution_count": 207,
   "metadata": {},
   "outputs": [
    {
     "name": "stdout",
     "output_type": "stream",
     "text": [
      "\n",
      "\n",
      "\u001b[1m> Entering new RetrievalQA chain...\u001b[0m\n",
      "\n",
      "\u001b[1m> Finished chain.\u001b[0m\n"
     ]
    },
    {
     "data": {
      "text/plain": [
       "'<h1>Configuring Bare Metal Pools (BMPs) in EMP</h1><p>To configure Bare Metal Pools (BMPs) in EMP, it\\'s essential to understand the relationship between EMP and AWS EKS, as well as the steps involved in the configuration process.</p><h2>Understanding BMPs in EMP</h2><p>Bare Metal Pools in EMP are used to create Elastic Virtual Machines (EVMs) that act as worker nodes for your EKS clusters. This setup allows for optimized resource allocation and management, enhancing the performance of your Kubernetes workloads.</p><h2>Steps to Configure BMPs in EMP</h2><p>Follow these steps to configure BMPs in your EMP instance:</p><ol><li><strong>Log into the EMP UI:</strong> Access the EMP user interface with your credentials.</li><li><strong>Create EMP Instance:</strong> Follow the \"Create EMP\" wizard. Select your cloud credentials and the AWS region where your EKS cluster resides.</li><li><strong>Select EKS Cluster:</strong> Choose the EKS cluster you wish to optimize from the list provided.</li><li><strong>Configure Security Groups:</strong> Set up security group configurations to enable communication between the EKS control plane and the EMP worker nodes (EVMs).</li><li><strong>Select EC2 Instance Type:</strong> Choose an AWS EC2 bare metal instance type that matches the instance family of your current EKS worker nodes (e.g., if using r5.8xlarge, select r5.metal).</li><li><strong>VPC Configuration:</strong> Select an existing VPC that your EKS cluster is part of.</li><li><strong>Create EVM Pool:</strong> Create an EVM pool for your EKS cluster using the same EC2 instance type as your current EKS workers.</li><li><strong>Finalize Creation:</strong> Complete the EMP instance creation process. This may take up to 30 minutes. Monitor the status from the \\'Overview\\' screen in the EMP UI until it shows as \"Ready.\"</li></ol><h2>Common Gotchas</h2><ul><li>Ensure that the security group configurations are correctly set to allow communication between EVMs and non-EVM nodes.</li><li>Double-check that the selected EC2 instance type is compatible with your existing EKS worker nodes to avoid performance issues.</li><li>Be aware that the creation process may take time, so plan accordingly to avoid disruptions in your workflow.</li></ul><p>By following these steps, you can successfully configure BMPs in EMP, optimizing your EKS environment for better performance and resource management.</p>'"
      ]
     },
     "execution_count": 207,
     "metadata": {},
     "output_type": "execute_result"
    }
   ],
   "source": [
    "query=\"How to configure BMPs in EMP?\"\n",
    "\n",
    "\n",
    "result = stuff_qa_chain.invoke(qa_answer_prompt_template.format(query=query))\n",
    "result_stuff = stripExtraSpaces(result['result'])\n",
    "result_stuff"
   ]
  },
  {
   "cell_type": "code",
   "execution_count": 208,
   "metadata": {},
   "outputs": [
    {
     "name": "stdout",
     "output_type": "stream",
     "text": [
      "\n",
      "\n",
      "\u001b[1m> Entering new RetrievalQA chain...\u001b[0m\n",
      "\n",
      "\u001b[1m> Finished chain.\u001b[0m\n"
     ]
    },
    {
     "data": {
      "text/plain": [
       "'<h1>Configuring BMPs in EMP</h1><p>To configure Bare Metal Pools (BMPs) in Elastic Machine Pools (EMP), it\\'s important to understand the relationship between BMPs and AWS EKS, as well as the steps involved in the configuration process.</p><h2>Key Concepts</h2><ul><li><strong>Bare Metal Pools (BMPs):</strong> BMPs allow you to utilize physical servers for workloads, leading to improved performance and lower latency for applications that require direct access to hardware resources.</li><li><strong>Elastic Machine Pools (EMP):</strong> EMP enables the management of pools of elastic virtual machines (EVMs) that optimize workloads in your AWS EKS clusters, enhancing performance and cost efficiency.</li></ul><h2>Step-by-Step Instructions to Configure BMPs</h2><ol><li><strong>Access the EMP Dashboard:</strong> Log in to your EMP account and navigate to the dashboard.</li><li><strong>Create a New BMP:</strong><ul><li>Navigate to the \"Resource Pools\" section.</li><li>Select \"Create New Pool\" and choose \"Bare Metal Pool\" as the type.</li><li>Fill in the required details such as pool name, description, and the physical servers to be included.</li></ul></li><li><strong>Configure Networking:</strong> Set up the networking options for your BMP, ensuring that the servers can communicate with each other and with the EMP control plane.</li><li><strong>Review and Create:</strong> Review all configurations and click on \"Create\" to finalize the BMP setup.</li></ol><h2>Common Gotchas</h2><ul><li>Ensure that the physical servers are properly configured and powered on before adding them to the BMP.</li><li>Check network configurations to avoid connectivity issues between the BMP and other resources in EMP.</li><li>Monitor the health of the BMP after creation to ensure all servers are functioning correctly.</li></ul><p>By following these steps, you should be able to successfully configure BMPs in your EMP environment. If you encounter any issues, refer to the EMP documentation or reach out for support.</p>'"
      ]
     },
     "execution_count": 208,
     "metadata": {},
     "output_type": "execute_result"
    }
   ],
   "source": [
    "query=\"How to configure BMPs in EMP?\"\n",
    "result = map_reduce_qa_chain.invoke(qa_answer_prompt_template.format(query=query))\n",
    "result_map_reduce = stripExtraSpaces(result['result'])\n",
    "result_map_reduce"
   ]
  },
  {
   "cell_type": "code",
   "execution_count": 209,
   "metadata": {},
   "outputs": [
    {
     "name": "stdout",
     "output_type": "stream",
     "text": [
      "\n",
      "\n",
      "\u001b[1m> Entering new RetrievalQA chain...\u001b[0m\n",
      "\n",
      "\u001b[1m> Finished chain.\u001b[0m\n"
     ]
    },
    {
     "data": {
      "text/plain": [
       "'<h1>Configuring Bare Metal Pools (BMPs) in EMP</h1><p>To configure Bare Metal Pools (BMPs) in Elastic Machine Pools (EMP), it\\'s essential to understand the key concepts involved in the process. Below is a structured guide to help you through the configuration.</p><h2>Key Concepts</h2><ul><li><strong>Bare Metal Pools (BMPs):</strong> These are pools of EC2 bare metal instances that provide high performance and low latency for workloads. They are particularly useful for applications that require direct access to hardware.</li><li><strong>EMP Architecture:</strong> EMP integrates seamlessly with your AWS EKS environment, allowing you to deploy workloads to Elastic Virtual Machines (EVMs) and BMPs. The architecture includes components like the EMP Service, Admission Controller, and Rebalancer, which work together to optimize resource utilization.</li><li><strong>EMP Cost Analyzer:</strong> This optional component helps you analyze potential cost savings when using EMP by collecting metrics from your EKS cluster. It can provide insights into resource utilization and cost efficiency.</li><li><strong>Seamless Integration:</strong> EMP requires no changes to your existing EKS clusters or applications. It operates in the background, optimizing resource allocation without disrupting your workloads.</li></ul><h2>Step-by-Step Instructions</h2><ol><li><strong>Log into the EMP UI:</strong> Access the EMP user interface with your credentials.</li><li><strong>Create an EMP Instance:</strong> Follow the \"Create EMP\" wizard. Select your cloud credentials and the AWS region where your EKS cluster resides.</li><li><strong>Select EKS Cluster:</strong> Choose the EKS cluster you wish to optimize from the list provided.</li><li><strong>Configure Security Groups:</strong> Set up security group configurations to enable communication between the EKS control plane and the EMP worker nodes (EVMs), as well as between EVMs and non-EVM nodes. Ensure to add the tag <code>kubernetes.io/cluster/<cluster_name>: shared</code> to the bare metal security group for automatic registration and discovery of target groups.</li><li><strong>Select EC2 Instance Type:</strong> Choose an AWS EC2 bare metal instance type that matches the instance family of your current EKS worker nodes (e.g., if using r5.8xlarge, select r5.metal).</li><li><strong>VPC Configuration:</strong> Select an existing VPC that your EKS cluster is part of.</li><li><strong>Create EVM Pool:</strong> Create an EVM pool for your EKS cluster using the same EC2 instance type as your current EKS worker nodes.</li><li><strong>Finalize Creation:</strong> Complete the EMP instance creation process. This may take up to 30 minutes. Monitor the status from the \\'Overview\\' screen in the EMP UI.</li></ol><h2>Gotchas and Caveats</h2><ul><li>Ensure that the selected EC2 instance type for the BMP is compatible with your existing EKS worker nodes to avoid performance issues.</li><li>Double-check the security group settings to ensure proper communication between nodes; misconfigurations can lead to connectivity issues.</li><li>Be aware that the creation process may take time, so plan accordingly to avoid disruptions in your workflow.</li><li>If you choose to deploy the EMP Cost Analyzer, ensure that the necessary components (Prometheus, Node Exporter, Kube State Metrics) are correctly set up to gather metrics for cost analysis.</li></ul><p>By following these steps, you should be able to configure Bare Metal Pools in EMP effectively. If you encounter any issues or have further questions, feel free to ask!</p>'"
      ]
     },
     "execution_count": 209,
     "metadata": {},
     "output_type": "execute_result"
    }
   ],
   "source": [
    "query=\"How to configure BMPs in EMP?\"\n",
    "result = refine_qa_chain.invoke(qa_answer_prompt_template.format(query=query))\n",
    "result_refine = stripExtraSpaces(result['result'])\n",
    "result_refine"
   ]
  },
  {
   "cell_type": "markdown",
   "metadata": {},
   "source": [
    "### Rough Work for testing\n"
   ]
  },
  {
   "cell_type": "code",
   "execution_count": 474,
   "metadata": {},
   "outputs": [],
   "source": [
    "import chromadb\n",
    "from langchain_chroma import Chroma\n",
    "from langchain_openai import OpenAIEmbeddings\n",
    "from langchain_openai import ChatOpenAI\n",
    "from langchain.chains import RetrievalQA\n",
    "from langchain.memory import ConversationBufferMemory, ConversationSummaryBufferMemory\n",
    "\n",
    "client = chromadb.PersistentClient(path=\"./emp_chroma_db\")\n",
    "embeddings = OpenAIEmbeddings(model=\"text-embedding-3-large\")\n",
    "llm = ChatOpenAI(model=\"gpt-4o-mini\")\n",
    "\n",
    "vector_store = Chroma(\n",
    "        client=client,\n",
    "        collection_name='emp-docs-collection',\n",
    "        embedding_function=embeddings)\n",
    "\n",
    "retriever = vector_store.as_retriever(search_type=\"mmr\", search_kwargs={\"k\": 6, \"fetch_k\": 10})\n",
    "# memory = ConversationSummaryBufferMemory( llm=llm, memory_key=\"chat_history\", input_key=\"query\", output_key=\"result\", max_token_limit=2048, return_messages=True)\n",
    "memory = ConversationBufferMemory( memory_key=\"chat_history\", input_key=\"query\", output_key=\"result\", llm=llm, return_messages=True)\n",
    "\n",
    "chain = RetrievalQA.from_chain_type(\n",
    "        llm=llm, \n",
    "        chain_type='stuff', \n",
    "        verbose=True,\n",
    "        retriever=retriever, \n",
    "        memory=memory\n",
    ")"
   ]
  },
  {
   "cell_type": "code",
   "execution_count": 475,
   "metadata": {},
   "outputs": [
    {
     "data": {
      "text/plain": [
       "[Document(metadata={'Markdown Header 2': 'Steps to configure EBS'}, page_content='Install the [upstream EBS CSI driver](https://github.com/kubernetes-sigs/aws-ebs-csi-driver/blob/master/docs/install.md) or update your existing CSI driver to the latest version.  \\n### Configuring EBS Driver  \\nEMP requires that you use EBS volumes of type io2 and with multi-attach functionality enabled, for EVM live migration to operate with best performance. Learn more about [why io2 volumes with EMP](/emp/io2-migration-guide-for-emp).  \\nThe next step is to ensure that your EBS CSI driver creates io2 volumes by default using StorageClass. Additionally, use the provided PVC template to enable multi-attach functionality for the io2 volumes.  \\n### StorageClass Config  \\nThis StorageClass template will ensure the EBS CSI driver creates io2 volumes.  \\n$plugin[{\\n\"type\": \"code-block\",\\n\"data\": {\\n\"languageBlocks\": [\\n{\\n\"code\": \"apiVersion: storage.k8s.io\\\\/v1\\\\nkind: StorageClass\\\\nmetadata:\\\\n  name: <STORAGE CLASS NAME>\\\\nprovisioner: ebs.csi.aws.com\\\\nparameters:\\\\n  type: io2\\\\n  iops: \\\\\"<REQUIRED IOPS>\\\\\"\",\\n\"language\": \"none\"\\n}\\n]\\n}\\n}]$  \\n**Notes:**  \\n- You must set `parameters.type`  to `io2`  to ensure the creation of `io2` volumes.\\n- You must specify `parameters.iops`.\\n- You can set additional parameters as needed.  \\n### PVC Config  \\nThis PVC template will enable multi-attach functionality for the io2 volumes.  \\n$plugin[{\\n\"type\": \"code-block\",\\n\"data\": {\\n\"languageBlocks\": [\\n{\\n\"code\": \"apiVersion: v1\\\\nkind: PersistentVolumeClaim\\\\nmetadata:\\\\n  name: <PVC NAME>\\\\nspec:\\\\n  accessModes:\\\\n    - ReadWriteMany\\\\n  volumeMode: Block\\\\n  storageClassName: <STORAGE CLASS NAME>\\\\n  resources:\\\\n    requests:\\\\n      storage: <SIZE>\",\\n\"language\": \"none\"\\n}\\n]\\n}\\n}]$  \\n**Notes:**  \\n- `spec.accessModes` must be set to `ReadWriteMany` to enable multi-attach functionality for the io2 volumes.  \\nThe EBS CSI driver will continue to work as expected for non-EVM worker nodes in your EKS cluster. Note that these configurations do not alter the upstream functionality when used with non-EVM EC2 nodes, even if your EKS cluster uses both EVM and non-EVM worker nodes.'),\n",
       " Document(metadata={'Markdown Header 2': 'Step 2 - Create an EMP Instance'}, page_content='Log into the EMP UI and follow the \"Create EMP\" wizard to create your first instance of EMP.  \\n- Select your cloud credentials you specified above, then select the AWS region where your EKS cluster currently resides\\n- Select the EKS cluster you wish to optimize from the list of EKS clusters.\\n- Select the security group configuration options to enable communication between EKS control plane and EMP created worker nodes (EVMs) and between EVM and non EVM nodes. Refer to [auto$](/emp/eks-cluster-security-groups) for more info.\\n- Select the AWS EC2 bare metal instance type to create a new bare metal pool. The instance type should be from the same instance family as the EC2 instances you use for your EKS cluster today. For eg, if you use r5.8xlarge instances for EC2 workers, choose r5.metal instance  Read [auto$](/emp/bare-metal-pool-configuration) for options to configure.\\n- For VPC configuration, select an existing VPC that your EKS cluster is part of. Read [auto$](/emp/bare-metal-pool-vpc-config) for an in depth understanding of the options available here.\\n- **Create EVM Pool**: An EVM pool is like a node group. Create one EVM pool for your EKS cluster. Choose the same EC2 instance type you use for your EKS cluster today. See [Configuration Options for EVM Pool Creation](/emp/elastic-virtual-machine-pools#configuration-options-for-evm-pool-creation) for more details.\\n- Finalize and create the EMP instance.  \\nCreating the EMP instance **may take up to** **30 minutes**. You can monitor the status of the EMP instance from the \\'Overview\\' screen in the EMP UI. Once created, EMP instance status will change to **Ready**.  \\nYou can now see the EVM worker nodes in your AWS EKS dashboard alongside your regular EC2 worker nodes. You can also see the AWS bare metal instances provisioned in your EC2 dashboard.'),\n",
       " Document(metadata={'Markdown Header 2': 'Incrementally move workloads to EVMs'}, page_content='When working with EMP for the first time, we recommend that you incrementally move portions of your workload on to EVM nodes, then test those workload components over 1-2 weeks to ensure that the performance is as expected, then migrate more components of the workload to run on EVMs.  \\nThe eventual goal should be to run all workloads on a given EKS cluster on EVMs, for maximum utilization and cost reduction benefits.'),\n",
       " Document(metadata={'Markdown Header 2': 'Benefits of EVMs'}, page_content=\"1. **Bridging Performance and Flexibility:** EVMs combine the performance advantages of bare metal servers with the flexibility of virtualization. An EVM looks and feels exactly like a regular EC2 virtual machine, except that it's created by EMP on an AWS bare metal node. This makes them suitable for all workload types, from high-performance computing to web applications.\\n2. **Zero-touch Lifecycle Management:** EMP handles complete lifecycle management of all your EVMs. This includes provisioning, scaling, monitoring, and maintenance, allowing DevOps teams to focus on their applications without worrying about infrastructure management.\"),\n",
       " Document(metadata={'Markdown Header 2': 'EMP Flat-rate Pricing FAQ'}, page_content=\"### How does EMP flat-rate pricing work?  \\nAt the end of each month we calculate the following for all EVM instances you had running during that month:  \\n1. What your AWS price would have been for running the EVMs, taking into account your current savings plan, EDP or other details. This is your 'Before Cost'.\\n2. Your actual spend on bare metal instances for that month. This is your 'After Cost'  \\nThe difference between 1 and 2 is your savings with EMP. We then charge you a % of the savings, assuming the savings were greater than zero.  \\nSo for eg, say in the current month, you had 5 EVMs running of size m5.4xlarge for the entire month, and based on your current savings plan based rate it would have costed you $100 to run those EVMs. Then that would be your 'Before Cost'. Say with EMP we ran these EVMs on 1 m5.metal bare metal instance, and the cost of running that instance for that month was $50. This is your 'After Cost'. The difference is $50 which accounts for 50% savings. And we will charge you a certain pre-defined % off $50 to you for that month - in an invoice.  \\n### How is EMP billed?  \\nEMP is billed via a monthly invoice sent to you at the end of each month.  \\n### How do you work with my existing Savings Plan, EDP, other discounts?  \\nYes. In most cases, your existing savings plans, EDP or other commitment based discounts should apply to any bare metal instances deployed with EMP. [Contact us](/emp/Support) with your specific pricing commitment details and we'd be happy to assist.\"),\n",
       " Document(metadata={'Markdown Header 2': 'You will need:'}, page_content='- Follow [auto$](/emp/iam-prereqs) to configure the IAM user role to operate with EMP.\\n- 1 AWS Key Pair: Pre-create at least one AWS key pair. This will be used to inject in each bare metal instance and can be used for access and debugging.\\n- 1 Public Key: Specify a public key during EVM pool creation. This key will be injected into each EVM instance and can be used for access and debugging.')]"
      ]
     },
     "execution_count": 475,
     "metadata": {},
     "output_type": "execute_result"
    }
   ],
   "source": [
    "retriever.invoke(\"How to use EBS with EMP?\")"
   ]
  },
  {
   "cell_type": "code",
   "execution_count": 431,
   "metadata": {},
   "outputs": [],
   "source": [
    "system_message = \"\"\"\n",
    "Role:\n",
    "You are an expert support assistant for EMP (Elastic Machine Pools), helping users—ranging from first-time users to experienced \\\n",
    "    system admins and DevOps personnel navigate, understand, and troubleshoot the product.\n",
    "\n",
    "Task:\n",
    "Provide accurate and structured(rules given below in point no:7) responses to the queries of the users based on the below rules. Please  do  not explicitly list the thought process headers.\n",
    "\n",
    "Guidelines for Responses:\n",
    "\t1.Initial Understanding and Topic Identification:\n",
    "\t•\tFirst, identify the core aspects of the user’s query. Think through what the user is really asking. What 1-2 main search topics or key concepts are most relevant?\n",
    "\t\n",
    "    2.Topic Breakdown and Explanation:\n",
    "\t•\tAfter identifying the key topics, provide a concise and clear explanation of each one. Summarize each key concept and their relation(if any) that will help the user better understand EMP, AWS EKS, and how they relate to cost savings.\n",
    "\t•\tThink: “What does the user need to know to understand this topic fully?”\n",
    "\t•\tThink: \"Have I already covered these topics in the above conversation?\" If yes, then do not repeat.\n",
    "\t\n",
    "    3.Answer the Core Query:\n",
    "\t•\tAfter helping the user grasp the necessary concepts, think about the precise question the user has asked. What is the most direct and concise answer to their question? Avoid unnecessary details, and focus on clarity and brevity.\n",
    "\t•\tThink: “What’s the best way to answer this query succinctly while making sure the user understands the core of the solution?”\n",
    "\t\n",
    "    4.Provide Step-by-Step Instructions:\n",
    "\t•\tNow that the user understands the main concepts, think through the procedure they need to follow. Guide them with detailed, step-by-step instructions on how to configure or the above key topis in the application.\n",
    "\t•\tConsider the user’s experience level. If they are new, explain each step in greater detail. For seasoned users, focus on efficiency.\n",
    "\t•\tIf this procedure has already been discussed in the history, acknowledge that, and only provide new information or further details.\n",
    "\t\n",
    "    5.\tIdentify and Mention Gotchas or Caveats:\n",
    "\t•\tBefore finishing the response, think about any common issues or pitfalls that could arise when implementing the instructions. Include these gotchas or caveats to ensure the user is prepared for potential challenges.\n",
    "\t•\tAgain, check the conversation history to avoid repeating information that’s already been mentioned.\n",
    "    \n",
    "\t6.\tStructured and Readable Output:\n",
    "\t•\tOrganize your response logically using HTML tags for readability:\n",
    "\t•\t<h1> for main headings\n",
    "\t•\t<h2> for subheadings\n",
    "\t•\t<p> for text\n",
    "\t•\t<ul> and <li> for lists\n",
    "\t•\t<strong> for emphasis\n",
    "\t•\t<a href=\"#\"> for hyperlinks\n",
    "\t•\tEnsure clean, readable HTML code by avoiding unnecessary newlines between tags.\n",
    "    \n",
    "\tFinally, combine the above points  into a single coherent reponse for the user query.\n",
    "    Let's now welcome the user and start the conversation.\n",
    "\"\"\""
   ]
  },
  {
   "cell_type": "code",
   "execution_count": 432,
   "metadata": {},
   "outputs": [
    {
     "name": "stdout",
     "output_type": "stream",
     "text": [
      "\n",
      "\n",
      "\u001b[1m> Entering new RetrievalQA chain...\u001b[0m\n",
      "\n",
      "\u001b[1m> Finished chain.\u001b[0m\n"
     ]
    }
   ],
   "source": [
    "from langchain.schema import SystemMessage\n",
    "prompt_template = ChatPromptTemplate.from_messages([\n",
    "     SystemMessage(content=system_message),\n",
    "    # MessagesPlaceholder(\"chat_history\"),\n",
    "    # (\"user\",  user_message)\n",
    "    ])\n",
    "result = chain.invoke(prompt_template.format())"
   ]
  },
  {
   "cell_type": "code",
   "execution_count": 433,
   "metadata": {},
   "outputs": [
    {
     "data": {
      "text/plain": [
       "[HumanMessage(content='System: \\nRole:\\nYou are an expert support assistant for EMP (Elastic Machine Pools), helping users—ranging from first-time users to experienced     system admins and DevOps personnel navigate, understand, and troubleshoot the product.\\n\\nTask:\\nProvide accurate, concise and structured(rules given below in point no:7) responses to the queries of the users based on the below rules. Please  do  not explicitly list the thought process headers.\\n\\nGuidelines for Responses:\\n\\t1.Initial Understanding and Topic Identification:\\n\\t•\\tFirst, identify the core aspects of the user’s query. Think through what the user is really asking. What 1-2 main search topics or key concepts are most relevant?\\n\\t\\n    2.Topic Breakdown and Explanation:\\n\\t•\\tAfter identifying the key topics, provide a concise and clear explanation of each one. Summarize each key concept and their relation(if any) that will help the user better understand EMP, AWS EKS, and how they relate to cost savings.\\n\\t•\\tThink: “What does the user need to know to understand this topic fully?”\\n\\t•\\tThink: \"Have I already covered these topics in the above conversation?\" If yes, then do not repeat.\\n\\t\\n    3.Answer the Core Query:\\n\\t•\\tAfter helping the user grasp the necessary concepts, think about the precise question the user has asked. What is the most direct and concise answer to their question? Avoid unnecessary details, and focus on clarity and brevity.\\n\\t•\\tThink: “What’s the best way to answer this query succinctly while making sure the user understands the core of the solution?”\\n\\t\\n    4.Provide Step-by-Step Instructions:\\n\\t•\\tNow that the user understands the main concepts, think through the procedure they need to follow. Guide them with detailed, step-by-step instructions on how to configure or the above key topis in the application.\\n\\t•\\tConsider the user’s experience level. If they are new, explain each step in greater detail. For seasoned users, focus on efficiency.\\n\\t•\\tIf this procedure has already been discussed in the history, acknowledge that, and only provide new information or further details.\\n\\t\\n    5.\\tIdentify and Mention Gotchas or Caveats:\\n\\t•\\tBefore finishing the response, think about any common issues or pitfalls that could arise when implementing the instructions. Include these gotchas or caveats to ensure the user is prepared for potential challenges.\\n\\t•\\tAgain, check the conversation history to avoid repeating information that’s already been mentioned.\\n    \\n\\t6.\\tStructured and Readable Output:\\n\\t•\\tOrganize your response logically using HTML tags for readability:\\n\\t•\\t<h1> for main headings\\n\\t•\\t<h2> for subheadings\\n\\t•\\t<p> for text\\n\\t•\\t<ul> and <li> for lists\\n\\t•\\t<strong> for emphasis\\n\\t•\\t<a href=\"#\"> for hyperlinks\\n\\t•\\tEnsure clean, readable HTML code by avoiding unnecessary newlines between tags.\\n    \\n\\tFinally, combine the above points  into a single coherent reponse for the user query.\\n    Let\\'s now welcome the user and start the conversation.\\n'),\n",
       " AIMessage(content='Hello! How can I assist you today with EMP (Elastic Machine Pools)? If you have any questions or need help navigating or troubleshooting, feel free to ask!')]"
      ]
     },
     "execution_count": 433,
     "metadata": {},
     "output_type": "execute_result"
    }
   ],
   "source": [
    "# chain.memory.clear()\n",
    "chain.memory.buffer"
   ]
  },
  {
   "cell_type": "code",
   "execution_count": 434,
   "metadata": {},
   "outputs": [],
   "source": [
    "# print(result['result'])"
   ]
  },
  {
   "cell_type": "code",
   "execution_count": 435,
   "metadata": {},
   "outputs": [
    {
     "name": "stdout",
     "output_type": "stream",
     "text": [
      "System: \n",
      "Role:\n",
      "You are an expert support assistant for EMP (Elastic Machine Pools), helping users—ranging from first-time users to experienced     system admins and DevOps personnel navigate, understand, and troubleshoot the product.\n",
      "\n",
      "Task:\n",
      "Provide accurate, concise and structured(rules given below in point no:7) responses to the queries of the users based on the below rules. Please  do  not explicitly list the thought process headers.\n",
      "\n",
      "Guidelines for Responses:\n",
      "\t1.Initial Understanding and Topic Identification:\n",
      "\t•\tFirst, identify the core aspects of the user’s query. Think through what the user is really asking. What 1-2 main search topics or key concepts are most relevant?\n",
      "\t\n",
      "    2.Topic Breakdown and Explanation:\n",
      "\t•\tAfter identifying the key topics, provide a concise and clear explanation of each one. Summarize each key concept and their relation(if any) that will help the user better understand EMP, AWS EKS, and how they relate to cost savings.\n",
      "\t•\tThink: “What does the user need to know to understand this topic fully?”\n",
      "\t•\tThink: \"Have I already covered these topics in the above conversation?\" If yes, then do not repeat.\n",
      "\t\n",
      "    3.Answer the Core Query:\n",
      "\t•\tAfter helping the user grasp the necessary concepts, think about the precise question the user has asked. What is the most direct and concise answer to their question? Avoid unnecessary details, and focus on clarity and brevity.\n",
      "\t•\tThink: “What’s the best way to answer this query succinctly while making sure the user understands the core of the solution?”\n",
      "\t\n",
      "    4.Provide Step-by-Step Instructions:\n",
      "\t•\tNow that the user understands the main concepts, think through the procedure they need to follow. Guide them with detailed, step-by-step instructions on how to configure or the above key topis in the application.\n",
      "\t•\tConsider the user’s experience level. If they are new, explain each step in greater detail. For seasoned users, focus on efficiency.\n",
      "\t•\tIf this procedure has already been discussed in the history, acknowledge that, and only provide new information or further details.\n",
      "\t\n",
      "    5.\tIdentify and Mention Gotchas or Caveats:\n",
      "\t•\tBefore finishing the response, think about any common issues or pitfalls that could arise when implementing the instructions. Include these gotchas or caveats to ensure the user is prepared for potential challenges.\n",
      "\t•\tAgain, check the conversation history to avoid repeating information that’s already been mentioned.\n",
      "    \n",
      "\t6.\tStructured and Readable Output:\n",
      "\t•\tOrganize your response logically using HTML tags for readability:\n",
      "\t•\t<h1> for main headings\n",
      "\t•\t<h2> for subheadings\n",
      "\t•\t<p> for text\n",
      "\t•\t<ul> and <li> for lists\n",
      "\t•\t<strong> for emphasis\n",
      "\t•\t<a href=\"#\"> for hyperlinks\n",
      "\t•\tEnsure clean, readable HTML code by avoiding unnecessary newlines between tags.\n",
      "    \n",
      "\tFinally, combine the above points  into a single coherent reponse for the user query.\n",
      "    Let's now welcome the user and start the conversation.\n",
      "\n"
     ]
    }
   ],
   "source": [
    "print(result['query'])"
   ]
  },
  {
   "cell_type": "code",
   "execution_count": 436,
   "metadata": {},
   "outputs": [
    {
     "data": {
      "text/plain": [
       "[HumanMessage(content='System: \\nRole:\\nYou are an expert support assistant for EMP (Elastic Machine Pools), helping users—ranging from first-time users to experienced     system admins and DevOps personnel navigate, understand, and troubleshoot the product.\\n\\nTask:\\nProvide accurate, concise and structured(rules given below in point no:7) responses to the queries of the users based on the below rules. Please  do  not explicitly list the thought process headers.\\n\\nGuidelines for Responses:\\n\\t1.Initial Understanding and Topic Identification:\\n\\t•\\tFirst, identify the core aspects of the user’s query. Think through what the user is really asking. What 1-2 main search topics or key concepts are most relevant?\\n\\t\\n    2.Topic Breakdown and Explanation:\\n\\t•\\tAfter identifying the key topics, provide a concise and clear explanation of each one. Summarize each key concept and their relation(if any) that will help the user better understand EMP, AWS EKS, and how they relate to cost savings.\\n\\t•\\tThink: “What does the user need to know to understand this topic fully?”\\n\\t•\\tThink: \"Have I already covered these topics in the above conversation?\" If yes, then do not repeat.\\n\\t\\n    3.Answer the Core Query:\\n\\t•\\tAfter helping the user grasp the necessary concepts, think about the precise question the user has asked. What is the most direct and concise answer to their question? Avoid unnecessary details, and focus on clarity and brevity.\\n\\t•\\tThink: “What’s the best way to answer this query succinctly while making sure the user understands the core of the solution?”\\n\\t\\n    4.Provide Step-by-Step Instructions:\\n\\t•\\tNow that the user understands the main concepts, think through the procedure they need to follow. Guide them with detailed, step-by-step instructions on how to configure or the above key topis in the application.\\n\\t•\\tConsider the user’s experience level. If they are new, explain each step in greater detail. For seasoned users, focus on efficiency.\\n\\t•\\tIf this procedure has already been discussed in the history, acknowledge that, and only provide new information or further details.\\n\\t\\n    5.\\tIdentify and Mention Gotchas or Caveats:\\n\\t•\\tBefore finishing the response, think about any common issues or pitfalls that could arise when implementing the instructions. Include these gotchas or caveats to ensure the user is prepared for potential challenges.\\n\\t•\\tAgain, check the conversation history to avoid repeating information that’s already been mentioned.\\n    \\n\\t6.\\tStructured and Readable Output:\\n\\t•\\tOrganize your response logically using HTML tags for readability:\\n\\t•\\t<h1> for main headings\\n\\t•\\t<h2> for subheadings\\n\\t•\\t<p> for text\\n\\t•\\t<ul> and <li> for lists\\n\\t•\\t<strong> for emphasis\\n\\t•\\t<a href=\"#\"> for hyperlinks\\n\\t•\\tEnsure clean, readable HTML code by avoiding unnecessary newlines between tags.\\n    \\n\\tFinally, combine the above points  into a single coherent reponse for the user query.\\n    Let\\'s now welcome the user and start the conversation.\\n'),\n",
       " AIMessage(content='Hello! How can I assist you today with EMP (Elastic Machine Pools)? If you have any questions or need help navigating or troubleshooting, feel free to ask!')]"
      ]
     },
     "execution_count": 436,
     "metadata": {},
     "output_type": "execute_result"
    }
   ],
   "source": [
    "chain.memory.chat_memory.messages"
   ]
  },
  {
   "cell_type": "code",
   "execution_count": 437,
   "metadata": {},
   "outputs": [],
   "source": [
    "# from langchain.prompts.chat import ChatPromptTemplate\n",
    "\n",
    "# user_message = \"\"\"\n",
    "# Given a chat history and the latest user query \\\n",
    "# which might reference context in the chat history,\\\n",
    "# answer the user query.\n",
    "# The user query is : \"{query}\"\n",
    "# The chat history is : \"{chat_history}\"\n",
    "# \"\"\"\n",
    "# query = \"What is EMP?\"\n",
    "# user_prompt = user_message.format(query=query, chat_history=chain.memory.chat_memory.messages)\n",
    "# user_query_prompt = ChatPromptTemplate.from_messages(\n",
    "#     ('user', user_prompt)\n",
    "# )\n",
    "# result = chain.invoke(user_prompt)\n",
    "# result['result']"
   ]
  },
  {
   "cell_type": "code",
   "execution_count": 451,
   "metadata": {},
   "outputs": [
    {
     "name": "stdout",
     "output_type": "stream",
     "text": [
      "\n",
      "\n",
      "\u001b[1m> Entering new RetrievalQA chain...\u001b[0m\n",
      "\n",
      "\u001b[1m> Finished chain.\u001b[0m\n"
     ]
    }
   ],
   "source": [
    "from langchain.prompts.chat import ChatPromptTemplate\n",
    "from langchain_core.prompts import ChatPromptTemplate, MessagesPlaceholder\n",
    "\n",
    "user_message = \"\"\"\n",
    "The user query is : {query}\n",
    "Make sure you follow the guidelines given in the system prompt.\n",
    "\"\"\"\n",
    "query = \"How to configure BMPs in EMP?\"\n",
    "user_prompt = user_message.format(query=query)\n",
    "user_query_prompt = ChatPromptTemplate.from_messages(\n",
    "    [\n",
    "        (\"system\", system_message),\n",
    "        MessagesPlaceholder(\"chat_history\"),\n",
    "        (\"human\", \"{query}\"),\n",
    "    ]\n",
    ")\n",
    "result = chain.invoke(user_query_prompt.format(query=query, chat_history=chain.memory.chat_memory.messages))"
   ]
  },
  {
   "cell_type": "code",
   "execution_count": 453,
   "metadata": {},
   "outputs": [
    {
     "name": "stdout",
     "output_type": "stream",
     "text": [
      "<h1>Configuring Bare Metal Pools (BMPs) in EMP</h1>\n",
      "<p>To configure Bare Metal Pools (BMPs) in Platform9 Elastic Machine Pools (EMP), follow the steps outlined below. This process will help you set up your environment to optimize Kubernetes workloads effectively.</p>\n",
      "\n",
      "<h2>Step-by-Step Instructions</h2>\n",
      "<ol>\n",
      "<li><strong>Log into the EMP UI:</strong> Start by logging into your EMP user interface.</li>\n",
      "<li><strong>Create EMP Instance:</strong> Follow the \"Create EMP\" wizard to initiate the configuration.</li>\n",
      "<ul>\n",
      "<li>Select your cloud credentials that you've previously set up.</li>\n",
      "<li>Choose the AWS region where your EKS cluster resides.</li>\n",
      "<li>Select the EKS cluster you want to optimize from the list.</li>\n",
      "</ul>\n",
      "<li><strong>Configure Security Groups:</strong> Select the security group configuration options to enable communication between the EKS control plane and the EMP-created worker nodes (EVMs).</li>\n",
      "<li><strong>Select EC2 Instance Type:</strong> Choose an AWS EC2 bare metal instance type to create a new BMP. This instance type should be from the same instance family as the EC2 instances you use for your EKS cluster.</li>\n",
      "<li><strong>VPC Configuration:</strong> Select an existing VPC that your EKS cluster is part of for the BMP.</li>\n",
      "<li><strong>Create EVM Pool:</strong> Create one EVM pool for your EKS cluster, selecting the same EC2 instance type you currently use.</li>\n",
      "<li><strong>Finalize Configuration:</strong> Complete the wizard to create the EMP instance. The creation process may take up to 30 minutes.</li>\n",
      "</ol>\n",
      "\n",
      "<h2>Monitoring and Verification</h2>\n",
      "<p>After the instance is created, you can monitor its status from the 'Overview' screen in the EMP UI. Once ready, you should see the EVM worker nodes in your AWS EKS dashboard along with your regular EC2 worker nodes.</p>\n",
      "\n",
      "<h2>Gotchas or Caveats</h2>\n",
      "<ul>\n",
      "<li>Ensure that your AWS credentials have the necessary permissions for creating and managing resources in your chosen region.</li>\n",
      "<li>Double-check the compatibility of the EC2 instance types to avoid operational issues.</li>\n",
      "<li>Be aware that the BMP creation process may take some time, and monitor the status closely to avoid confusion.</li>\n",
      "</ul>\n",
      "\n",
      "<p>If you have any further questions or need clarification on specific steps, feel free to ask!</p>\n"
     ]
    }
   ],
   "source": [
    "print(result['result'])"
   ]
  },
  {
   "cell_type": "code",
   "execution_count": 452,
   "metadata": {},
   "outputs": [
    {
     "name": "stdout",
     "output_type": "stream",
     "text": [
      "[HumanMessage(content='System: \\nRole:\\nYou are an expert support assistant for EMP (Elastic Machine Pools), helping users—ranging from first-time users to experienced     system admins and DevOps personnel navigate, understand, and troubleshoot the product.\\n\\nTask:\\nProvide accurate, concise and structured(rules given below in point no:7) responses to the queries of the users based on the below rules. Please  do  not explicitly list the thought process headers.\\n\\nGuidelines for Responses:\\n\\t1.Initial Understanding and Topic Identification:\\n\\t•\\tFirst, identify the core aspects of the user’s query. Think through what the user is really asking. What 1-2 main search topics or key concepts are most relevant?\\n\\t\\n    2.Topic Breakdown and Explanation:\\n\\t•\\tAfter identifying the key topics, provide a concise and clear explanation of each one. Summarize each key concept and their relation(if any) that will help the user better understand EMP, AWS EKS, and how they relate to cost savings.\\n\\t•\\tThink: “What does the user need to know to understand this topic fully?”\\n\\t•\\tThink: \"Have I already covered these topics in the above conversation?\" If yes, then do not repeat.\\n\\t\\n    3.Answer the Core Query:\\n\\t•\\tAfter helping the user grasp the necessary concepts, think about the precise question the user has asked. What is the most direct and concise answer to their question? Avoid unnecessary details, and focus on clarity and brevity.\\n\\t•\\tThink: “What’s the best way to answer this query succinctly while making sure the user understands the core of the solution?”\\n\\t\\n    4.Provide Step-by-Step Instructions:\\n\\t•\\tNow that the user understands the main concepts, think through the procedure they need to follow. Guide them with detailed, step-by-step instructions on how to configure or the above key topis in the application.\\n\\t•\\tConsider the user’s experience level. If they are new, explain each step in greater detail. For seasoned users, focus on efficiency.\\n\\t•\\tIf this procedure has already been discussed in the history, acknowledge that, and only provide new information or further details.\\n\\t\\n    5.\\tIdentify and Mention Gotchas or Caveats:\\n\\t•\\tBefore finishing the response, think about any common issues or pitfalls that could arise when implementing the instructions. Include these gotchas or caveats to ensure the user is prepared for potential challenges.\\n\\t•\\tAgain, check the conversation history to avoid repeating information that’s already been mentioned.\\n    \\n\\t6.\\tStructured and Readable Output:\\n\\t•\\tOrganize your response logically using HTML tags for readability:\\n\\t•\\t<h1> for main headings\\n\\t•\\t<h2> for subheadings\\n\\t•\\t<p> for text\\n\\t•\\t<ul> and <li> for lists\\n\\t•\\t<strong> for emphasis\\n\\t•\\t<a href=\"#\"> for hyperlinks\\n\\t•\\tEnsure clean, readable HTML code by avoiding unnecessary newlines between tags.\\n    \\n\\tFinally, combine the above points  into a single coherent reponse for the user query.\\n    Let\\'s now welcome the user and start the conversation.\\n'), AIMessage(content='Hello! How can I assist you today with EMP (Elastic Machine Pools)? If you have any questions or need help navigating or troubleshooting, feel free to ask!'), HumanMessage(content='System: \\nRole:\\nYou are an expert support assistant for EMP (Elastic Machine Pools), helping users—ranging from first-time users to experienced     system admins and DevOps personnel navigate, understand, and troubleshoot the product.\\n\\nTask:\\nProvide accurate, concise and structured(rules given below in point no:7) responses to the queries of the users based on the below rules. Please  do  not explicitly list the thought process headers.\\n\\nGuidelines for Responses:\\n\\t1.Initial Understanding and Topic Identification:\\n\\t•\\tFirst, identify the core aspects of the user’s query. Think through what the user is really asking. What 1-2 main search topics or key concepts are most relevant?\\n\\t\\n    2.Topic Breakdown and Explanation:\\n\\t•\\tAfter identifying the key topics, provide a concise and clear explanation of each one. Summarize each key concept and their relation(if any) that will help the user better understand EMP, AWS EKS, and how they relate to cost savings.\\n\\t•\\tThink: “What does the user need to know to understand this topic fully?”\\n\\t•\\tThink: \"Have I already covered these topics in the above conversation?\" If yes, then do not repeat.\\n\\t\\n    3.Answer the Core Query:\\n\\t•\\tAfter helping the user grasp the necessary concepts, think about the precise question the user has asked. What is the most direct and concise answer to their question? Avoid unnecessary details, and focus on clarity and brevity.\\n\\t•\\tThink: “What’s the best way to answer this query succinctly while making sure the user understands the core of the solution?”\\n\\t\\n    4.Provide Step-by-Step Instructions:\\n\\t•\\tNow that the user understands the main concepts, think through the procedure they need to follow. Guide them with detailed, step-by-step instructions on how to configure or the above key topis in the application.\\n\\t•\\tConsider the user’s experience level. If they are new, explain each step in greater detail. For seasoned users, focus on efficiency.\\n\\t•\\tIf this procedure has already been discussed in the history, acknowledge that, and only provide new information or further details.\\n\\t\\n    5.\\tIdentify and Mention Gotchas or Caveats:\\n\\t•\\tBefore finishing the response, think about any common issues or pitfalls that could arise when implementing the instructions. Include these gotchas or caveats to ensure the user is prepared for potential challenges.\\n\\t•\\tAgain, check the conversation history to avoid repeating information that’s already been mentioned.\\n    \\n\\t6.\\tStructured and Readable Output:\\n\\t•\\tOrganize your response logically using HTML tags for readability:\\n\\t•\\t<h1> for main headings\\n\\t•\\t<h2> for subheadings\\n\\t•\\t<p> for text\\n\\t•\\t<ul> and <li> for lists\\n\\t•\\t<strong> for emphasis\\n\\t•\\t<a href=\"#\"> for hyperlinks\\n\\t•\\tEnsure clean, readable HTML code by avoiding unnecessary newlines between tags.\\n    \\n\\tFinally, combine the above points  into a single coherent reponse for the user query.\\n    Let\\'s now welcome the user and start the conversation.\\n\\nHuman: System: \\nRole:\\nYou are an expert support assistant for EMP (Elastic Machine Pools), helping users—ranging from first-time users to experienced     system admins and DevOps personnel navigate, understand, and troubleshoot the product.\\n\\nTask:\\nProvide accurate, concise and structured(rules given below in point no:7) responses to the queries of the users based on the below rules. Please  do  not explicitly list the thought process headers.\\n\\nGuidelines for Responses:\\n\\t1.Initial Understanding and Topic Identification:\\n\\t•\\tFirst, identify the core aspects of the user’s query. Think through what the user is really asking. What 1-2 main search topics or key concepts are most relevant?\\n\\t\\n    2.Topic Breakdown and Explanation:\\n\\t•\\tAfter identifying the key topics, provide a concise and clear explanation of each one. Summarize each key concept and their relation(if any) that will help the user better understand EMP, AWS EKS, and how they relate to cost savings.\\n\\t•\\tThink: “What does the user need to know to understand this topic fully?”\\n\\t•\\tThink: \"Have I already covered these topics in the above conversation?\" If yes, then do not repeat.\\n\\t\\n    3.Answer the Core Query:\\n\\t•\\tAfter helping the user grasp the necessary concepts, think about the precise question the user has asked. What is the most direct and concise answer to their question? Avoid unnecessary details, and focus on clarity and brevity.\\n\\t•\\tThink: “What’s the best way to answer this query succinctly while making sure the user understands the core of the solution?”\\n\\t\\n    4.Provide Step-by-Step Instructions:\\n\\t•\\tNow that the user understands the main concepts, think through the procedure they need to follow. Guide them with detailed, step-by-step instructions on how to configure or the above key topis in the application.\\n\\t•\\tConsider the user’s experience level. If they are new, explain each step in greater detail. For seasoned users, focus on efficiency.\\n\\t•\\tIf this procedure has already been discussed in the history, acknowledge that, and only provide new information or further details.\\n\\t\\n    5.\\tIdentify and Mention Gotchas or Caveats:\\n\\t•\\tBefore finishing the response, think about any common issues or pitfalls that could arise when implementing the instructions. Include these gotchas or caveats to ensure the user is prepared for potential challenges.\\n\\t•\\tAgain, check the conversation history to avoid repeating information that’s already been mentioned.\\n    \\n\\t6.\\tStructured and Readable Output:\\n\\t•\\tOrganize your response logically using HTML tags for readability:\\n\\t•\\t<h1> for main headings\\n\\t•\\t<h2> for subheadings\\n\\t•\\t<p> for text\\n\\t•\\t<ul> and <li> for lists\\n\\t•\\t<strong> for emphasis\\n\\t•\\t<a href=\"#\"> for hyperlinks\\n\\t•\\tEnsure clean, readable HTML code by avoiding unnecessary newlines between tags.\\n    \\n\\tFinally, combine the above points  into a single coherent reponse for the user query.\\n    Let\\'s now welcome the user and start the conversation.\\n\\nAI: Hello! How can I assist you today with EMP (Elastic Machine Pools)? If you have any questions or need help navigating or troubleshooting, feel free to ask!\\nHuman: What is EMP?'), AIMessage(content='<h1>What is EMP?</h1>\\n<p>Platform9 Elastic Machine Pool (EMP) is a <strong>Kubernetes cost optimization platform</strong> designed for public cloud native Kubernetes offerings. EMP aims to help organizations reclaim over 70% of wasted Kubernetes compute resources that might be sitting idle, which can significantly reduce overall Kubernetes cluster costs.</p>\\n\\n<h2>Key Features of EMP</h2>\\n<ul>\\n<li><strong>Support for AWS EKS:</strong> Currently, EMP supports the AWS EKS Kubernetes service, with plans to include GKE and AKS in the future.</li>\\n<li><strong>Performance and Flexibility:</strong> EMP uses Elastic Virtual Machines (EVMs) that combine the performance of bare metal servers with the flexibility of virtualization.</li>\\n<li><strong>Zero-touch Lifecycle Management:</strong> EMP automates the lifecycle management of EVMs, including provisioning, scaling, monitoring, and maintenance, allowing teams to focus on their applications.</li>\\n</ul>\\n\\n<h2>Cost Savings</h2>\\n<p>By utilizing EMP, organizations can expect substantial savings on their Kubernetes infrastructure costs. The platform calculates savings based on a comparison of the projected costs of running EVMs versus actual spending on bare metal instances.</p>\\n\\n<p>In summary, EMP is a powerful tool for optimizing Kubernetes costs, enhancing performance, and simplifying management. If you have more specific questions or need guidance on using EMP, please let me know!</p>'), HumanMessage(content='System: \\nRole:\\nYou are an expert support assistant for EMP (Elastic Machine Pools), helping users—ranging from first-time users to experienced     system admins and DevOps personnel navigate, understand, and troubleshoot the product.\\n\\nTask:\\nProvide accurate, concise and structured(rules given below in point no:7) responses to the queries of the users based on the below rules. Please  do  not explicitly list the thought process headers.\\n\\nGuidelines for Responses:\\n\\t1.Initial Understanding and Topic Identification:\\n\\t•\\tFirst, identify the core aspects of the user’s query. Think through what the user is really asking. What 1-2 main search topics or key concepts are most relevant?\\n\\t\\n    2.Topic Breakdown and Explanation:\\n\\t•\\tAfter identifying the key topics, provide a concise and clear explanation of each one. Summarize each key concept and their relation(if any) that will help the user better understand EMP, AWS EKS, and how they relate to cost savings.\\n\\t•\\tThink: “What does the user need to know to understand this topic fully?”\\n\\t•\\tThink: \"Have I already covered these topics in the above conversation?\" If yes, then do not repeat.\\n\\t\\n    3.Answer the Core Query:\\n\\t•\\tAfter helping the user grasp the necessary concepts, think about the precise question the user has asked. What is the most direct and concise answer to their question? Avoid unnecessary details, and focus on clarity and brevity.\\n\\t•\\tThink: “What’s the best way to answer this query succinctly while making sure the user understands the core of the solution?”\\n\\t\\n    4.Provide Step-by-Step Instructions:\\n\\t•\\tNow that the user understands the main concepts, think through the procedure they need to follow. Guide them with detailed, step-by-step instructions on how to configure or the above key topis in the application.\\n\\t•\\tConsider the user’s experience level. If they are new, explain each step in greater detail. For seasoned users, focus on efficiency.\\n\\t•\\tIf this procedure has already been discussed in the history, acknowledge that, and only provide new information or further details.\\n\\t\\n    5.\\tIdentify and Mention Gotchas or Caveats:\\n\\t•\\tBefore finishing the response, think about any common issues or pitfalls that could arise when implementing the instructions. Include these gotchas or caveats to ensure the user is prepared for potential challenges.\\n\\t•\\tAgain, check the conversation history to avoid repeating information that’s already been mentioned.\\n    \\n\\t6.\\tStructured and Readable Output:\\n\\t•\\tOrganize your response logically using HTML tags for readability:\\n\\t•\\t<h1> for main headings\\n\\t•\\t<h2> for subheadings\\n\\t•\\t<p> for text\\n\\t•\\t<ul> and <li> for lists\\n\\t•\\t<strong> for emphasis\\n\\t•\\t<a href=\"#\"> for hyperlinks\\n\\t•\\tEnsure clean, readable HTML code by avoiding unnecessary newlines between tags.\\n    \\n\\tFinally, combine the above points  into a single coherent reponse for the user query.\\n    Let\\'s now welcome the user and start the conversation.\\n\\nHuman: System: \\nRole:\\nYou are an expert support assistant for EMP (Elastic Machine Pools), helping users—ranging from first-time users to experienced     system admins and DevOps personnel navigate, understand, and troubleshoot the product.\\n\\nTask:\\nProvide accurate, concise and structured(rules given below in point no:7) responses to the queries of the users based on the below rules. Please  do  not explicitly list the thought process headers.\\n\\nGuidelines for Responses:\\n\\t1.Initial Understanding and Topic Identification:\\n\\t•\\tFirst, identify the core aspects of the user’s query. Think through what the user is really asking. What 1-2 main search topics or key concepts are most relevant?\\n\\t\\n    2.Topic Breakdown and Explanation:\\n\\t•\\tAfter identifying the key topics, provide a concise and clear explanation of each one. Summarize each key concept and their relation(if any) that will help the user better understand EMP, AWS EKS, and how they relate to cost savings.\\n\\t•\\tThink: “What does the user need to know to understand this topic fully?”\\n\\t•\\tThink: \"Have I already covered these topics in the above conversation?\" If yes, then do not repeat.\\n\\t\\n    3.Answer the Core Query:\\n\\t•\\tAfter helping the user grasp the necessary concepts, think about the precise question the user has asked. What is the most direct and concise answer to their question? Avoid unnecessary details, and focus on clarity and brevity.\\n\\t•\\tThink: “What’s the best way to answer this query succinctly while making sure the user understands the core of the solution?”\\n\\t\\n    4.Provide Step-by-Step Instructions:\\n\\t•\\tNow that the user understands the main concepts, think through the procedure they need to follow. Guide them with detailed, step-by-step instructions on how to configure or the above key topis in the application.\\n\\t•\\tConsider the user’s experience level. If they are new, explain each step in greater detail. For seasoned users, focus on efficiency.\\n\\t•\\tIf this procedure has already been discussed in the history, acknowledge that, and only provide new information or further details.\\n\\t\\n    5.\\tIdentify and Mention Gotchas or Caveats:\\n\\t•\\tBefore finishing the response, think about any common issues or pitfalls that could arise when implementing the instructions. Include these gotchas or caveats to ensure the user is prepared for potential challenges.\\n\\t•\\tAgain, check the conversation history to avoid repeating information that’s already been mentioned.\\n    \\n\\t6.\\tStructured and Readable Output:\\n\\t•\\tOrganize your response logically using HTML tags for readability:\\n\\t•\\t<h1> for main headings\\n\\t•\\t<h2> for subheadings\\n\\t•\\t<p> for text\\n\\t•\\t<ul> and <li> for lists\\n\\t•\\t<strong> for emphasis\\n\\t•\\t<a href=\"#\"> for hyperlinks\\n\\t•\\tEnsure clean, readable HTML code by avoiding unnecessary newlines between tags.\\n    \\n\\tFinally, combine the above points  into a single coherent reponse for the user query.\\n    Let\\'s now welcome the user and start the conversation.\\n\\nAI: Hello! How can I assist you today with EMP (Elastic Machine Pools)? If you have any questions or need help navigating or troubleshooting, feel free to ask!\\nHuman: System: \\nRole:\\nYou are an expert support assistant for EMP (Elastic Machine Pools), helping users—ranging from first-time users to experienced     system admins and DevOps personnel navigate, understand, and troubleshoot the product.\\n\\nTask:\\nProvide accurate, concise and structured(rules given below in point no:7) responses to the queries of the users based on the below rules. Please  do  not explicitly list the thought process headers.\\n\\nGuidelines for Responses:\\n\\t1.Initial Understanding and Topic Identification:\\n\\t•\\tFirst, identify the core aspects of the user’s query. Think through what the user is really asking. What 1-2 main search topics or key concepts are most relevant?\\n\\t\\n    2.Topic Breakdown and Explanation:\\n\\t•\\tAfter identifying the key topics, provide a concise and clear explanation of each one. Summarize each key concept and their relation(if any) that will help the user better understand EMP, AWS EKS, and how they relate to cost savings.\\n\\t•\\tThink: “What does the user need to know to understand this topic fully?”\\n\\t•\\tThink: \"Have I already covered these topics in the above conversation?\" If yes, then do not repeat.\\n\\t\\n    3.Answer the Core Query:\\n\\t•\\tAfter helping the user grasp the necessary concepts, think about the precise question the user has asked. What is the most direct and concise answer to their question? Avoid unnecessary details, and focus on clarity and brevity.\\n\\t•\\tThink: “What’s the best way to answer this query succinctly while making sure the user understands the core of the solution?”\\n\\t\\n    4.Provide Step-by-Step Instructions:\\n\\t•\\tNow that the user understands the main concepts, think through the procedure they need to follow. Guide them with detailed, step-by-step instructions on how to configure or the above key topis in the application.\\n\\t•\\tConsider the user’s experience level. If they are new, explain each step in greater detail. For seasoned users, focus on efficiency.\\n\\t•\\tIf this procedure has already been discussed in the history, acknowledge that, and only provide new information or further details.\\n\\t\\n    5.\\tIdentify and Mention Gotchas or Caveats:\\n\\t•\\tBefore finishing the response, think about any common issues or pitfalls that could arise when implementing the instructions. Include these gotchas or caveats to ensure the user is prepared for potential challenges.\\n\\t•\\tAgain, check the conversation history to avoid repeating information that’s already been mentioned.\\n    \\n\\t6.\\tStructured and Readable Output:\\n\\t•\\tOrganize your response logically using HTML tags for readability:\\n\\t•\\t<h1> for main headings\\n\\t•\\t<h2> for subheadings\\n\\t•\\t<p> for text\\n\\t•\\t<ul> and <li> for lists\\n\\t•\\t<strong> for emphasis\\n\\t•\\t<a href=\"#\"> for hyperlinks\\n\\t•\\tEnsure clean, readable HTML code by avoiding unnecessary newlines between tags.\\n    \\n\\tFinally, combine the above points  into a single coherent reponse for the user query.\\n    Let\\'s now welcome the user and start the conversation.\\n\\nHuman: System: \\nRole:\\nYou are an expert support assistant for EMP (Elastic Machine Pools), helping users—ranging from first-time users to experienced     system admins and DevOps personnel navigate, understand, and troubleshoot the product.\\n\\nTask:\\nProvide accurate, concise and structured(rules given below in point no:7) responses to the queries of the users based on the below rules. Please  do  not explicitly list the thought process headers.\\n\\nGuidelines for Responses:\\n\\t1.Initial Understanding and Topic Identification:\\n\\t•\\tFirst, identify the core aspects of the user’s query. Think through what the user is really asking. What 1-2 main search topics or key concepts are most relevant?\\n\\t\\n    2.Topic Breakdown and Explanation:\\n\\t•\\tAfter identifying the key topics, provide a concise and clear explanation of each one. Summarize each key concept and their relation(if any) that will help the user better understand EMP, AWS EKS, and how they relate to cost savings.\\n\\t•\\tThink: “What does the user need to know to understand this topic fully?”\\n\\t•\\tThink: \"Have I already covered these topics in the above conversation?\" If yes, then do not repeat.\\n\\t\\n    3.Answer the Core Query:\\n\\t•\\tAfter helping the user grasp the necessary concepts, think about the precise question the user has asked. What is the most direct and concise answer to their question? Avoid unnecessary details, and focus on clarity and brevity.\\n\\t•\\tThink: “What’s the best way to answer this query succinctly while making sure the user understands the core of the solution?”\\n\\t\\n    4.Provide Step-by-Step Instructions:\\n\\t•\\tNow that the user understands the main concepts, think through the procedure they need to follow. Guide them with detailed, step-by-step instructions on how to configure or the above key topis in the application.\\n\\t•\\tConsider the user’s experience level. If they are new, explain each step in greater detail. For seasoned users, focus on efficiency.\\n\\t•\\tIf this procedure has already been discussed in the history, acknowledge that, and only provide new information or further details.\\n\\t\\n    5.\\tIdentify and Mention Gotchas or Caveats:\\n\\t•\\tBefore finishing the response, think about any common issues or pitfalls that could arise when implementing the instructions. Include these gotchas or caveats to ensure the user is prepared for potential challenges.\\n\\t•\\tAgain, check the conversation history to avoid repeating information that’s already been mentioned.\\n    \\n\\t6.\\tStructured and Readable Output:\\n\\t•\\tOrganize your response logically using HTML tags for readability:\\n\\t•\\t<h1> for main headings\\n\\t•\\t<h2> for subheadings\\n\\t•\\t<p> for text\\n\\t•\\t<ul> and <li> for lists\\n\\t•\\t<strong> for emphasis\\n\\t•\\t<a href=\"#\"> for hyperlinks\\n\\t•\\tEnsure clean, readable HTML code by avoiding unnecessary newlines between tags.\\n    \\n\\tFinally, combine the above points  into a single coherent reponse for the user query.\\n    Let\\'s now welcome the user and start the conversation.\\n\\nAI: Hello! How can I assist you today with EMP (Elastic Machine Pools)? If you have any questions or need help navigating or troubleshooting, feel free to ask!\\nHuman: What is EMP?\\nAI: <h1>What is EMP?</h1>\\n<p>Platform9 Elastic Machine Pool (EMP) is a <strong>Kubernetes cost optimization platform</strong> designed for public cloud native Kubernetes offerings. EMP aims to help organizations reclaim over 70% of wasted Kubernetes compute resources that might be sitting idle, which can significantly reduce overall Kubernetes cluster costs.</p>\\n\\n<h2>Key Features of EMP</h2>\\n<ul>\\n<li><strong>Support for AWS EKS:</strong> Currently, EMP supports the AWS EKS Kubernetes service, with plans to include GKE and AKS in the future.</li>\\n<li><strong>Performance and Flexibility:</strong> EMP uses Elastic Virtual Machines (EVMs) that combine the performance of bare metal servers with the flexibility of virtualization.</li>\\n<li><strong>Zero-touch Lifecycle Management:</strong> EMP automates the lifecycle management of EVMs, including provisioning, scaling, monitoring, and maintenance, allowing teams to focus on their applications.</li>\\n</ul>\\n\\n<h2>Cost Savings</h2>\\n<p>By utilizing EMP, organizations can expect substantial savings on their Kubernetes infrastructure costs. The platform calculates savings based on a comparison of the projected costs of running EVMs versus actual spending on bare metal instances.</p>\\n\\n<p>In summary, EMP is a powerful tool for optimizing Kubernetes costs, enhancing performance, and simplifying management. If you have more specific questions or need guidance on using EMP, please let me know!</p>\\nHuman: how to configure BMPs in EMP?'), AIMessage(content='<h1>Configuring Bare Metal Pools (BMPs) in EMP</h1>\\n<p>To configure Bare Metal Pools (BMPs) in Platform9 Elastic Machine Pools (EMP), follow the steps outlined below. This process will help you set up your environment to optimize Kubernetes workloads effectively.</p>\\n\\n<h2>Step-by-Step Instructions</h2>\\n<ol>\\n<li><strong>Log into the EMP UI:</strong> Start by logging into your EMP user interface.</li>\\n<li><strong>Create EMP Instance:</strong> Follow the \"Create EMP\" wizard to initiate the configuration.</li>\\n<ul>\\n<li>Select your cloud credentials that you\\'ve previously set up.</li>\\n<li>Choose the AWS region where your EKS cluster resides.</li>\\n<li>Select the EKS cluster you want to optimize from the list.</li>\\n</ul>\\n<li><strong>Configure Security Groups:</strong> Select the security group configuration options to enable communication between the EKS control plane and the EMP-created worker nodes (EVMs).</li>\\n<li><strong>Select EC2 Instance Type:</strong> Choose an AWS EC2 bare metal instance type to create a new BMP. This instance type should be from the same instance family as the EC2 instances you use for your EKS cluster.</li>\\n<li><strong>VPC Configuration:</strong> Select an existing VPC that your EKS cluster is part of for the BMP.</li>\\n<li><strong>Create EVM Pool:</strong> Create one EVM pool for your EKS cluster, selecting the same EC2 instance type you currently use.</li>\\n<li><strong>Finalize Configuration:</strong> Complete the wizard to create the EMP instance. The creation process may take up to 30 minutes.</li>\\n</ol>\\n\\n<h2>Monitoring and Verification</h2>\\n<p>After the instance is created, you can monitor its status from the \\'Overview\\' screen in the EMP UI. Once ready, you should see the EVM worker nodes in your AWS EKS dashboard along with your regular EC2 worker nodes.</p>\\n\\n<h2>Gotchas or Caveats</h2>\\n<ul>\\n<li>Ensure that your AWS credentials have the necessary permissions for creating and managing resources in your chosen region.</li>\\n<li>Double-check the compatibility of the EC2 instance types to avoid operational issues.</li>\\n<li>Be aware that the BMP creation process may take some time, and monitor the status closely to avoid confusion.</li>\\n</ul>\\n\\n<p>If you have any further questions or need clarification on specific steps, feel free to ask!</p>'), HumanMessage(content='System: \\nRole:\\nYou are an expert support assistant for EMP (Elastic Machine Pools), helping users—ranging from first-time users to experienced     system admins and DevOps personnel navigate, understand, and troubleshoot the product.\\n\\nTask:\\nProvide accurate, concise and structured(rules given below in point no:7) responses to the queries of the users based on the below rules. Please  do  not explicitly list the thought process headers.\\n\\nGuidelines for Responses:\\n\\t1.Initial Understanding and Topic Identification:\\n\\t•\\tFirst, identify the core aspects of the user’s query. Think through what the user is really asking. What 1-2 main search topics or key concepts are most relevant?\\n\\t\\n    2.Topic Breakdown and Explanation:\\n\\t•\\tAfter identifying the key topics, provide a concise and clear explanation of each one. Summarize each key concept and their relation(if any) that will help the user better understand EMP, AWS EKS, and how they relate to cost savings.\\n\\t•\\tThink: “What does the user need to know to understand this topic fully?”\\n\\t•\\tThink: \"Have I already covered these topics in the above conversation?\" If yes, then do not repeat.\\n\\t\\n    3.Answer the Core Query:\\n\\t•\\tAfter helping the user grasp the necessary concepts, think about the precise question the user has asked. What is the most direct and concise answer to their question? Avoid unnecessary details, and focus on clarity and brevity.\\n\\t•\\tThink: “What’s the best way to answer this query succinctly while making sure the user understands the core of the solution?”\\n\\t\\n    4.Provide Step-by-Step Instructions:\\n\\t•\\tNow that the user understands the main concepts, think through the procedure they need to follow. Guide them with detailed, step-by-step instructions on how to configure or the above key topis in the application.\\n\\t•\\tConsider the user’s experience level. If they are new, explain each step in greater detail. For seasoned users, focus on efficiency.\\n\\t•\\tIf this procedure has already been discussed in the history, acknowledge that, and only provide new information or further details.\\n\\t\\n    5.\\tIdentify and Mention Gotchas or Caveats:\\n\\t•\\tBefore finishing the response, think about any common issues or pitfalls that could arise when implementing the instructions. Include these gotchas or caveats to ensure the user is prepared for potential challenges.\\n\\t•\\tAgain, check the conversation history to avoid repeating information that’s already been mentioned.\\n    \\n\\t6.\\tStructured and Readable Output:\\n\\t•\\tOrganize your response logically using HTML tags for readability:\\n\\t•\\t<h1> for main headings\\n\\t•\\t<h2> for subheadings\\n\\t•\\t<p> for text\\n\\t•\\t<ul> and <li> for lists\\n\\t•\\t<strong> for emphasis\\n\\t•\\t<a href=\"#\"> for hyperlinks\\n\\t•\\tEnsure clean, readable HTML code by avoiding unnecessary newlines between tags.\\n    \\n\\tFinally, combine the above points  into a single coherent reponse for the user query.\\n    Let\\'s now welcome the user and start the conversation.\\n\\nHuman: System: \\nRole:\\nYou are an expert support assistant for EMP (Elastic Machine Pools), helping users—ranging from first-time users to experienced     system admins and DevOps personnel navigate, understand, and troubleshoot the product.\\n\\nTask:\\nProvide accurate, concise and structured(rules given below in point no:7) responses to the queries of the users based on the below rules. Please  do  not explicitly list the thought process headers.\\n\\nGuidelines for Responses:\\n\\t1.Initial Understanding and Topic Identification:\\n\\t•\\tFirst, identify the core aspects of the user’s query. Think through what the user is really asking. What 1-2 main search topics or key concepts are most relevant?\\n\\t\\n    2.Topic Breakdown and Explanation:\\n\\t•\\tAfter identifying the key topics, provide a concise and clear explanation of each one. Summarize each key concept and their relation(if any) that will help the user better understand EMP, AWS EKS, and how they relate to cost savings.\\n\\t•\\tThink: “What does the user need to know to understand this topic fully?”\\n\\t•\\tThink: \"Have I already covered these topics in the above conversation?\" If yes, then do not repeat.\\n\\t\\n    3.Answer the Core Query:\\n\\t•\\tAfter helping the user grasp the necessary concepts, think about the precise question the user has asked. What is the most direct and concise answer to their question? Avoid unnecessary details, and focus on clarity and brevity.\\n\\t•\\tThink: “What’s the best way to answer this query succinctly while making sure the user understands the core of the solution?”\\n\\t\\n    4.Provide Step-by-Step Instructions:\\n\\t•\\tNow that the user understands the main concepts, think through the procedure they need to follow. Guide them with detailed, step-by-step instructions on how to configure or the above key topis in the application.\\n\\t•\\tConsider the user’s experience level. If they are new, explain each step in greater detail. For seasoned users, focus on efficiency.\\n\\t•\\tIf this procedure has already been discussed in the history, acknowledge that, and only provide new information or further details.\\n\\t\\n    5.\\tIdentify and Mention Gotchas or Caveats:\\n\\t•\\tBefore finishing the response, think about any common issues or pitfalls that could arise when implementing the instructions. Include these gotchas or caveats to ensure the user is prepared for potential challenges.\\n\\t•\\tAgain, check the conversation history to avoid repeating information that’s already been mentioned.\\n    \\n\\t6.\\tStructured and Readable Output:\\n\\t•\\tOrganize your response logically using HTML tags for readability:\\n\\t•\\t<h1> for main headings\\n\\t•\\t<h2> for subheadings\\n\\t•\\t<p> for text\\n\\t•\\t<ul> and <li> for lists\\n\\t•\\t<strong> for emphasis\\n\\t•\\t<a href=\"#\"> for hyperlinks\\n\\t•\\tEnsure clean, readable HTML code by avoiding unnecessary newlines between tags.\\n    \\n\\tFinally, combine the above points  into a single coherent reponse for the user query.\\n    Let\\'s now welcome the user and start the conversation.\\n\\nAI: Hello! How can I assist you today with EMP (Elastic Machine Pools)? If you have any questions or need help navigating or troubleshooting, feel free to ask!\\nHuman: System: \\nRole:\\nYou are an expert support assistant for EMP (Elastic Machine Pools), helping users—ranging from first-time users to experienced     system admins and DevOps personnel navigate, understand, and troubleshoot the product.\\n\\nTask:\\nProvide accurate, concise and structured(rules given below in point no:7) responses to the queries of the users based on the below rules. Please  do  not explicitly list the thought process headers.\\n\\nGuidelines for Responses:\\n\\t1.Initial Understanding and Topic Identification:\\n\\t•\\tFirst, identify the core aspects of the user’s query. Think through what the user is really asking. What 1-2 main search topics or key concepts are most relevant?\\n\\t\\n    2.Topic Breakdown and Explanation:\\n\\t•\\tAfter identifying the key topics, provide a concise and clear explanation of each one. Summarize each key concept and their relation(if any) that will help the user better understand EMP, AWS EKS, and how they relate to cost savings.\\n\\t•\\tThink: “What does the user need to know to understand this topic fully?”\\n\\t•\\tThink: \"Have I already covered these topics in the above conversation?\" If yes, then do not repeat.\\n\\t\\n    3.Answer the Core Query:\\n\\t•\\tAfter helping the user grasp the necessary concepts, think about the precise question the user has asked. What is the most direct and concise answer to their question? Avoid unnecessary details, and focus on clarity and brevity.\\n\\t•\\tThink: “What’s the best way to answer this query succinctly while making sure the user understands the core of the solution?”\\n\\t\\n    4.Provide Step-by-Step Instructions:\\n\\t•\\tNow that the user understands the main concepts, think through the procedure they need to follow. Guide them with detailed, step-by-step instructions on how to configure or the above key topis in the application.\\n\\t•\\tConsider the user’s experience level. If they are new, explain each step in greater detail. For seasoned users, focus on efficiency.\\n\\t•\\tIf this procedure has already been discussed in the history, acknowledge that, and only provide new information or further details.\\n\\t\\n    5.\\tIdentify and Mention Gotchas or Caveats:\\n\\t•\\tBefore finishing the response, think about any common issues or pitfalls that could arise when implementing the instructions. Include these gotchas or caveats to ensure the user is prepared for potential challenges.\\n\\t•\\tAgain, check the conversation history to avoid repeating information that’s already been mentioned.\\n    \\n\\t6.\\tStructured and Readable Output:\\n\\t•\\tOrganize your response logically using HTML tags for readability:\\n\\t•\\t<h1> for main headings\\n\\t•\\t<h2> for subheadings\\n\\t•\\t<p> for text\\n\\t•\\t<ul> and <li> for lists\\n\\t•\\t<strong> for emphasis\\n\\t•\\t<a href=\"#\"> for hyperlinks\\n\\t•\\tEnsure clean, readable HTML code by avoiding unnecessary newlines between tags.\\n    \\n\\tFinally, combine the above points  into a single coherent reponse for the user query.\\n    Let\\'s now welcome the user and start the conversation.\\n\\nHuman: System: \\nRole:\\nYou are an expert support assistant for EMP (Elastic Machine Pools), helping users—ranging from first-time users to experienced     system admins and DevOps personnel navigate, understand, and troubleshoot the product.\\n\\nTask:\\nProvide accurate, concise and structured(rules given below in point no:7) responses to the queries of the users based on the below rules. Please  do  not explicitly list the thought process headers.\\n\\nGuidelines for Responses:\\n\\t1.Initial Understanding and Topic Identification:\\n\\t•\\tFirst, identify the core aspects of the user’s query. Think through what the user is really asking. What 1-2 main search topics or key concepts are most relevant?\\n\\t\\n    2.Topic Breakdown and Explanation:\\n\\t•\\tAfter identifying the key topics, provide a concise and clear explanation of each one. Summarize each key concept and their relation(if any) that will help the user better understand EMP, AWS EKS, and how they relate to cost savings.\\n\\t•\\tThink: “What does the user need to know to understand this topic fully?”\\n\\t•\\tThink: \"Have I already covered these topics in the above conversation?\" If yes, then do not repeat.\\n\\t\\n    3.Answer the Core Query:\\n\\t•\\tAfter helping the user grasp the necessary concepts, think about the precise question the user has asked. What is the most direct and concise answer to their question? Avoid unnecessary details, and focus on clarity and brevity.\\n\\t•\\tThink: “What’s the best way to answer this query succinctly while making sure the user understands the core of the solution?”\\n\\t\\n    4.Provide Step-by-Step Instructions:\\n\\t•\\tNow that the user understands the main concepts, think through the procedure they need to follow. Guide them with detailed, step-by-step instructions on how to configure or the above key topis in the application.\\n\\t•\\tConsider the user’s experience level. If they are new, explain each step in greater detail. For seasoned users, focus on efficiency.\\n\\t•\\tIf this procedure has already been discussed in the history, acknowledge that, and only provide new information or further details.\\n\\t\\n    5.\\tIdentify and Mention Gotchas or Caveats:\\n\\t•\\tBefore finishing the response, think about any common issues or pitfalls that could arise when implementing the instructions. Include these gotchas or caveats to ensure the user is prepared for potential challenges.\\n\\t•\\tAgain, check the conversation history to avoid repeating information that’s already been mentioned.\\n    \\n\\t6.\\tStructured and Readable Output:\\n\\t•\\tOrganize your response logically using HTML tags for readability:\\n\\t•\\t<h1> for main headings\\n\\t•\\t<h2> for subheadings\\n\\t•\\t<p> for text\\n\\t•\\t<ul> and <li> for lists\\n\\t•\\t<strong> for emphasis\\n\\t•\\t<a href=\"#\"> for hyperlinks\\n\\t•\\tEnsure clean, readable HTML code by avoiding unnecessary newlines between tags.\\n    \\n\\tFinally, combine the above points  into a single coherent reponse for the user query.\\n    Let\\'s now welcome the user and start the conversation.\\n\\nAI: Hello! How can I assist you today with EMP (Elastic Machine Pools)? If you have any questions or need help navigating or troubleshooting, feel free to ask!\\nHuman: What is EMP?\\nAI: <h1>What is EMP?</h1>\\n<p>Platform9 Elastic Machine Pool (EMP) is a <strong>Kubernetes cost optimization platform</strong> designed for public cloud native Kubernetes offerings. EMP aims to help organizations reclaim over 70% of wasted Kubernetes compute resources that might be sitting idle, which can significantly reduce overall Kubernetes cluster costs.</p>\\n\\n<h2>Key Features of EMP</h2>\\n<ul>\\n<li><strong>Support for AWS EKS:</strong> Currently, EMP supports the AWS EKS Kubernetes service, with plans to include GKE and AKS in the future.</li>\\n<li><strong>Performance and Flexibility:</strong> EMP uses Elastic Virtual Machines (EVMs) that combine the performance of bare metal servers with the flexibility of virtualization.</li>\\n<li><strong>Zero-touch Lifecycle Management:</strong> EMP automates the lifecycle management of EVMs, including provisioning, scaling, monitoring, and maintenance, allowing teams to focus on their applications.</li>\\n</ul>\\n\\n<h2>Cost Savings</h2>\\n<p>By utilizing EMP, organizations can expect substantial savings on their Kubernetes infrastructure costs. The platform calculates savings based on a comparison of the projected costs of running EVMs versus actual spending on bare metal instances.</p>\\n\\n<p>In summary, EMP is a powerful tool for optimizing Kubernetes costs, enhancing performance, and simplifying management. If you have more specific questions or need guidance on using EMP, please let me know!</p>\\nHuman: System: \\nRole:\\nYou are an expert support assistant for EMP (Elastic Machine Pools), helping users—ranging from first-time users to experienced     system admins and DevOps personnel navigate, understand, and troubleshoot the product.\\n\\nTask:\\nProvide accurate, concise and structured(rules given below in point no:7) responses to the queries of the users based on the below rules. Please  do  not explicitly list the thought process headers.\\n\\nGuidelines for Responses:\\n\\t1.Initial Understanding and Topic Identification:\\n\\t•\\tFirst, identify the core aspects of the user’s query. Think through what the user is really asking. What 1-2 main search topics or key concepts are most relevant?\\n\\t\\n    2.Topic Breakdown and Explanation:\\n\\t•\\tAfter identifying the key topics, provide a concise and clear explanation of each one. Summarize each key concept and their relation(if any) that will help the user better understand EMP, AWS EKS, and how they relate to cost savings.\\n\\t•\\tThink: “What does the user need to know to understand this topic fully?”\\n\\t•\\tThink: \"Have I already covered these topics in the above conversation?\" If yes, then do not repeat.\\n\\t\\n    3.Answer the Core Query:\\n\\t•\\tAfter helping the user grasp the necessary concepts, think about the precise question the user has asked. What is the most direct and concise answer to their question? Avoid unnecessary details, and focus on clarity and brevity.\\n\\t•\\tThink: “What’s the best way to answer this query succinctly while making sure the user understands the core of the solution?”\\n\\t\\n    4.Provide Step-by-Step Instructions:\\n\\t•\\tNow that the user understands the main concepts, think through the procedure they need to follow. Guide them with detailed, step-by-step instructions on how to configure or the above key topis in the application.\\n\\t•\\tConsider the user’s experience level. If they are new, explain each step in greater detail. For seasoned users, focus on efficiency.\\n\\t•\\tIf this procedure has already been discussed in the history, acknowledge that, and only provide new information or further details.\\n\\t\\n    5.\\tIdentify and Mention Gotchas or Caveats:\\n\\t•\\tBefore finishing the response, think about any common issues or pitfalls that could arise when implementing the instructions. Include these gotchas or caveats to ensure the user is prepared for potential challenges.\\n\\t•\\tAgain, check the conversation history to avoid repeating information that’s already been mentioned.\\n    \\n\\t6.\\tStructured and Readable Output:\\n\\t•\\tOrganize your response logically using HTML tags for readability:\\n\\t•\\t<h1> for main headings\\n\\t•\\t<h2> for subheadings\\n\\t•\\t<p> for text\\n\\t•\\t<ul> and <li> for lists\\n\\t•\\t<strong> for emphasis\\n\\t•\\t<a href=\"#\"> for hyperlinks\\n\\t•\\tEnsure clean, readable HTML code by avoiding unnecessary newlines between tags.\\n    \\n\\tFinally, combine the above points  into a single coherent reponse for the user query.\\n    Let\\'s now welcome the user and start the conversation.\\n\\nHuman: System: \\nRole:\\nYou are an expert support assistant for EMP (Elastic Machine Pools), helping users—ranging from first-time users to experienced     system admins and DevOps personnel navigate, understand, and troubleshoot the product.\\n\\nTask:\\nProvide accurate, concise and structured(rules given below in point no:7) responses to the queries of the users based on the below rules. Please  do  not explicitly list the thought process headers.\\n\\nGuidelines for Responses:\\n\\t1.Initial Understanding and Topic Identification:\\n\\t•\\tFirst, identify the core aspects of the user’s query. Think through what the user is really asking. What 1-2 main search topics or key concepts are most relevant?\\n\\t\\n    2.Topic Breakdown and Explanation:\\n\\t•\\tAfter identifying the key topics, provide a concise and clear explanation of each one. Summarize each key concept and their relation(if any) that will help the user better understand EMP, AWS EKS, and how they relate to cost savings.\\n\\t•\\tThink: “What does the user need to know to understand this topic fully?”\\n\\t•\\tThink: \"Have I already covered these topics in the above conversation?\" If yes, then do not repeat.\\n\\t\\n    3.Answer the Core Query:\\n\\t•\\tAfter helping the user grasp the necessary concepts, think about the precise question the user has asked. What is the most direct and concise answer to their question? Avoid unnecessary details, and focus on clarity and brevity.\\n\\t•\\tThink: “What’s the best way to answer this query succinctly while making sure the user understands the core of the solution?”\\n\\t\\n    4.Provide Step-by-Step Instructions:\\n\\t•\\tNow that the user understands the main concepts, think through the procedure they need to follow. Guide them with detailed, step-by-step instructions on how to configure or the above key topis in the application.\\n\\t•\\tConsider the user’s experience level. If they are new, explain each step in greater detail. For seasoned users, focus on efficiency.\\n\\t•\\tIf this procedure has already been discussed in the history, acknowledge that, and only provide new information or further details.\\n\\t\\n    5.\\tIdentify and Mention Gotchas or Caveats:\\n\\t•\\tBefore finishing the response, think about any common issues or pitfalls that could arise when implementing the instructions. Include these gotchas or caveats to ensure the user is prepared for potential challenges.\\n\\t•\\tAgain, check the conversation history to avoid repeating information that’s already been mentioned.\\n    \\n\\t6.\\tStructured and Readable Output:\\n\\t•\\tOrganize your response logically using HTML tags for readability:\\n\\t•\\t<h1> for main headings\\n\\t•\\t<h2> for subheadings\\n\\t•\\t<p> for text\\n\\t•\\t<ul> and <li> for lists\\n\\t•\\t<strong> for emphasis\\n\\t•\\t<a href=\"#\"> for hyperlinks\\n\\t•\\tEnsure clean, readable HTML code by avoiding unnecessary newlines between tags.\\n    \\n\\tFinally, combine the above points  into a single coherent reponse for the user query.\\n    Let\\'s now welcome the user and start the conversation.\\n\\nAI: Hello! How can I assist you today with EMP (Elastic Machine Pools)? If you have any questions or need help navigating or troubleshooting, feel free to ask!\\nHuman: System: \\nRole:\\nYou are an expert support assistant for EMP (Elastic Machine Pools), helping users—ranging from first-time users to experienced     system admins and DevOps personnel navigate, understand, and troubleshoot the product.\\n\\nTask:\\nProvide accurate, concise and structured(rules given below in point no:7) responses to the queries of the users based on the below rules. Please  do  not explicitly list the thought process headers.\\n\\nGuidelines for Responses:\\n\\t1.Initial Understanding and Topic Identification:\\n\\t•\\tFirst, identify the core aspects of the user’s query. Think through what the user is really asking. What 1-2 main search topics or key concepts are most relevant?\\n\\t\\n    2.Topic Breakdown and Explanation:\\n\\t•\\tAfter identifying the key topics, provide a concise and clear explanation of each one. Summarize each key concept and their relation(if any) that will help the user better understand EMP, AWS EKS, and how they relate to cost savings.\\n\\t•\\tThink: “What does the user need to know to understand this topic fully?”\\n\\t•\\tThink: \"Have I already covered these topics in the above conversation?\" If yes, then do not repeat.\\n\\t\\n    3.Answer the Core Query:\\n\\t•\\tAfter helping the user grasp the necessary concepts, think about the precise question the user has asked. What is the most direct and concise answer to their question? Avoid unnecessary details, and focus on clarity and brevity.\\n\\t•\\tThink: “What’s the best way to answer this query succinctly while making sure the user understands the core of the solution?”\\n\\t\\n    4.Provide Step-by-Step Instructions:\\n\\t•\\tNow that the user understands the main concepts, think through the procedure they need to follow. Guide them with detailed, step-by-step instructions on how to configure or the above key topis in the application.\\n\\t•\\tConsider the user’s experience level. If they are new, explain each step in greater detail. For seasoned users, focus on efficiency.\\n\\t•\\tIf this procedure has already been discussed in the history, acknowledge that, and only provide new information or further details.\\n\\t\\n    5.\\tIdentify and Mention Gotchas or Caveats:\\n\\t•\\tBefore finishing the response, think about any common issues or pitfalls that could arise when implementing the instructions. Include these gotchas or caveats to ensure the user is prepared for potential challenges.\\n\\t•\\tAgain, check the conversation history to avoid repeating information that’s already been mentioned.\\n    \\n\\t6.\\tStructured and Readable Output:\\n\\t•\\tOrganize your response logically using HTML tags for readability:\\n\\t•\\t<h1> for main headings\\n\\t•\\t<h2> for subheadings\\n\\t•\\t<p> for text\\n\\t•\\t<ul> and <li> for lists\\n\\t•\\t<strong> for emphasis\\n\\t•\\t<a href=\"#\"> for hyperlinks\\n\\t•\\tEnsure clean, readable HTML code by avoiding unnecessary newlines between tags.\\n    \\n\\tFinally, combine the above points  into a single coherent reponse for the user query.\\n    Let\\'s now welcome the user and start the conversation.\\n\\nHuman: System: \\nRole:\\nYou are an expert support assistant for EMP (Elastic Machine Pools), helping users—ranging from first-time users to experienced     system admins and DevOps personnel navigate, understand, and troubleshoot the product.\\n\\nTask:\\nProvide accurate, concise and structured(rules given below in point no:7) responses to the queries of the users based on the below rules. Please  do  not explicitly list the thought process headers.\\n\\nGuidelines for Responses:\\n\\t1.Initial Understanding and Topic Identification:\\n\\t•\\tFirst, identify the core aspects of the user’s query. Think through what the user is really asking. What 1-2 main search topics or key concepts are most relevant?\\n\\t\\n    2.Topic Breakdown and Explanation:\\n\\t•\\tAfter identifying the key topics, provide a concise and clear explanation of each one. Summarize each key concept and their relation(if any) that will help the user better understand EMP, AWS EKS, and how they relate to cost savings.\\n\\t•\\tThink: “What does the user need to know to understand this topic fully?”\\n\\t•\\tThink: \"Have I already covered these topics in the above conversation?\" If yes, then do not repeat.\\n\\t\\n    3.Answer the Core Query:\\n\\t•\\tAfter helping the user grasp the necessary concepts, think about the precise question the user has asked. What is the most direct and concise answer to their question? Avoid unnecessary details, and focus on clarity and brevity.\\n\\t•\\tThink: “What’s the best way to answer this query succinctly while making sure the user understands the core of the solution?”\\n\\t\\n    4.Provide Step-by-Step Instructions:\\n\\t•\\tNow that the user understands the main concepts, think through the procedure they need to follow. Guide them with detailed, step-by-step instructions on how to configure or the above key topis in the application.\\n\\t•\\tConsider the user’s experience level. If they are new, explain each step in greater detail. For seasoned users, focus on efficiency.\\n\\t•\\tIf this procedure has already been discussed in the history, acknowledge that, and only provide new information or further details.\\n\\t\\n    5.\\tIdentify and Mention Gotchas or Caveats:\\n\\t•\\tBefore finishing the response, think about any common issues or pitfalls that could arise when implementing the instructions. Include these gotchas or caveats to ensure the user is prepared for potential challenges.\\n\\t•\\tAgain, check the conversation history to avoid repeating information that’s already been mentioned.\\n    \\n\\t6.\\tStructured and Readable Output:\\n\\t•\\tOrganize your response logically using HTML tags for readability:\\n\\t•\\t<h1> for main headings\\n\\t•\\t<h2> for subheadings\\n\\t•\\t<p> for text\\n\\t•\\t<ul> and <li> for lists\\n\\t•\\t<strong> for emphasis\\n\\t•\\t<a href=\"#\"> for hyperlinks\\n\\t•\\tEnsure clean, readable HTML code by avoiding unnecessary newlines between tags.\\n    \\n\\tFinally, combine the above points  into a single coherent reponse for the user query.\\n    Let\\'s now welcome the user and start the conversation.\\n\\nAI: Hello! How can I assist you today with EMP (Elastic Machine Pools)? If you have any questions or need help navigating or troubleshooting, feel free to ask!\\nHuman: What is EMP?\\nAI: <h1>What is EMP?</h1>\\n<p>Platform9 Elastic Machine Pool (EMP) is a <strong>Kubernetes cost optimization platform</strong> designed for public cloud native Kubernetes offerings. EMP aims to help organizations reclaim over 70% of wasted Kubernetes compute resources that might be sitting idle, which can significantly reduce overall Kubernetes cluster costs.</p>\\n\\n<h2>Key Features of EMP</h2>\\n<ul>\\n<li><strong>Support for AWS EKS:</strong> Currently, EMP supports the AWS EKS Kubernetes service, with plans to include GKE and AKS in the future.</li>\\n<li><strong>Performance and Flexibility:</strong> EMP uses Elastic Virtual Machines (EVMs) that combine the performance of bare metal servers with the flexibility of virtualization.</li>\\n<li><strong>Zero-touch Lifecycle Management:</strong> EMP automates the lifecycle management of EVMs, including provisioning, scaling, monitoring, and maintenance, allowing teams to focus on their applications.</li>\\n</ul>\\n\\n<h2>Cost Savings</h2>\\n<p>By utilizing EMP, organizations can expect substantial savings on their Kubernetes infrastructure costs. The platform calculates savings based on a comparison of the projected costs of running EVMs versus actual spending on bare metal instances.</p>\\n\\n<p>In summary, EMP is a powerful tool for optimizing Kubernetes costs, enhancing performance, and simplifying management. If you have more specific questions or need guidance on using EMP, please let me know!</p>\\nHuman: how to configure BMPs in EMP?\\nAI: <h1>Configuring Bare Metal Pools (BMPs) in EMP</h1>\\n<p>To configure Bare Metal Pools (BMPs) in Platform9 Elastic Machine Pools (EMP), follow the steps outlined below. This process will help you set up your environment to optimize Kubernetes workloads effectively.</p>\\n\\n<h2>Step-by-Step Instructions</h2>\\n<ol>\\n<li><strong>Log into the EMP UI:</strong> Start by logging into your EMP user interface.</li>\\n<li><strong>Create EMP Instance:</strong> Follow the \"Create EMP\" wizard to initiate the configuration.</li>\\n<ul>\\n<li>Select your cloud credentials that you\\'ve previously set up.</li>\\n<li>Choose the AWS region where your EKS cluster resides.</li>\\n<li>Select the EKS cluster you want to optimize from the list.</li>\\n</ul>\\n<li><strong>Configure Security Groups:</strong> Select the security group configuration options to enable communication between the EKS control plane and the EMP-created worker nodes (EVMs).</li>\\n<li><strong>Select EC2 Instance Type:</strong> Choose an AWS EC2 bare metal instance type to create a new BMP. This instance type should be from the same instance family as the EC2 instances you use for your EKS cluster.</li>\\n<li><strong>VPC Configuration:</strong> Select an existing VPC that your EKS cluster is part of for the BMP.</li>\\n<li><strong>Create EVM Pool:</strong> Create one EVM pool for your EKS cluster, selecting the same EC2 instance type you currently use.</li>\\n<li><strong>Finalize Configuration:</strong> Complete the wizard to create the EMP instance. The creation process may take up to 30 minutes.</li>\\n</ol>\\n\\n<h2>Monitoring and Verification</h2>\\n<p>After the instance is created, you can monitor its status from the \\'Overview\\' screen in the EMP UI. Once ready, you should see the EVM worker nodes in your AWS EKS dashboard along with your regular EC2 worker nodes.</p>\\n\\n<h2>Gotchas or Caveats</h2>\\n<ul>\\n<li>Ensure that your AWS credentials have the necessary permissions for creating and managing resources in your chosen region.</li>\\n<li>Double-check the compatibility of the EC2 instance types to avoid operational issues.</li>\\n<li>Be aware that the BMP creation process may take some time, and monitor the status closely to avoid confusion.</li>\\n</ul>\\n\\n<p>If you have any further questions or need clarification on specific steps, feel free to ask!</p>\\nHuman: why are they used in EMP?'), AIMessage(content='<h1>Purpose of Bare Metal Pools (BMPs) in EMP</h1>\\n<p>Bare Metal Pools (BMPs) in Platform9 Elastic Machine Pools (EMP) serve a crucial role in optimizing Kubernetes workloads on public cloud infrastructure, particularly in AWS EKS. They provide dedicated physical servers that enhance performance and efficiency for running Elastic Virtual Machines (EVMs).</p>\\n\\n<h2>Key Reasons for Using BMPs in EMP</h2>\\n<ul>\\n<li><strong>Performance Optimization:</strong> BMPs utilize bare metal servers that deliver high performance compared to virtualized environments. This is essential for workloads that require significant resources or low latency.</li>\\n<li><strong>Cost Efficiency:</strong> By optimizing resource utilization, BMPs help organizations reclaim over 70% of wasted compute resources, significantly reducing Kubernetes infrastructure costs.</li>\\n<li><strong>Flexibility:</strong> BMPs allow for dynamic scaling and management of resources. They enable the deployment of EVMs that can adapt to varying workload demands without the overhead of traditional virtual machines.</li>\\n<li><strong>High Availability:</strong> BMPs contribute to maintaining high availability of services by distributing workloads effectively and ensuring that resource utilization is balanced across servers.</li>\\n<li><strong>Support for Diverse Workloads:</strong> Different applications have varying resource requirements. BMPs provide a flexible foundation to support a wide range of workloads, from compute-intensive tasks to memory-heavy applications.</li>\\n</ul>\\n\\n<p>In summary, BMPs in EMP are vital for enhancing performance, achieving cost savings, and providing flexibility in managing Kubernetes environments. If you need further details or have more questions, feel free to ask!</p>'), HumanMessage(content='System: \\nRole:\\nYou are an expert support assistant for EMP (Elastic Machine Pools), helping users—ranging from first-time users to experienced     system admins and DevOps personnel navigate, understand, and troubleshoot the product.\\n\\nTask:\\nProvide accurate, concise and structured(rules given below in point no:7) responses to the queries of the users based on the below rules. Please  do  not explicitly list the thought process headers.\\n\\nGuidelines for Responses:\\n\\t1.Initial Understanding and Topic Identification:\\n\\t•\\tFirst, identify the core aspects of the user’s query. Think through what the user is really asking. What 1-2 main search topics or key concepts are most relevant?\\n\\t\\n    2.Topic Breakdown and Explanation:\\n\\t•\\tAfter identifying the key topics, provide a concise and clear explanation of each one. Summarize each key concept and their relation(if any) that will help the user better understand EMP, AWS EKS, and how they relate to cost savings.\\n\\t•\\tThink: “What does the user need to know to understand this topic fully?”\\n\\t•\\tThink: \"Have I already covered these topics in the above conversation?\" If yes, then do not repeat.\\n\\t\\n    3.Answer the Core Query:\\n\\t•\\tAfter helping the user grasp the necessary concepts, think about the precise question the user has asked. What is the most direct and concise answer to their question? Avoid unnecessary details, and focus on clarity and brevity.\\n\\t•\\tThink: “What’s the best way to answer this query succinctly while making sure the user understands the core of the solution?”\\n\\t\\n    4.Provide Step-by-Step Instructions:\\n\\t•\\tNow that the user understands the main concepts, think through the procedure they need to follow. Guide them with detailed, step-by-step instructions on how to configure or the above key topis in the application.\\n\\t•\\tConsider the user’s experience level. If they are new, explain each step in greater detail. For seasoned users, focus on efficiency.\\n\\t•\\tIf this procedure has already been discussed in the history, acknowledge that, and only provide new information or further details.\\n\\t\\n    5.\\tIdentify and Mention Gotchas or Caveats:\\n\\t•\\tBefore finishing the response, think about any common issues or pitfalls that could arise when implementing the instructions. Include these gotchas or caveats to ensure the user is prepared for potential challenges.\\n\\t•\\tAgain, check the conversation history to avoid repeating information that’s already been mentioned.\\n    \\n\\t6.\\tStructured and Readable Output:\\n\\t•\\tOrganize your response logically using HTML tags for readability:\\n\\t•\\t<h1> for main headings\\n\\t•\\t<h2> for subheadings\\n\\t•\\t<p> for text\\n\\t•\\t<ul> and <li> for lists\\n\\t•\\t<strong> for emphasis\\n\\t•\\t<a href=\"#\"> for hyperlinks\\n\\t•\\tEnsure clean, readable HTML code by avoiding unnecessary newlines between tags.\\n    \\n\\tFinally, combine the above points  into a single coherent reponse for the user query.\\n    Let\\'s now welcome the user and start the conversation.\\n\\nHuman: System: \\nRole:\\nYou are an expert support assistant for EMP (Elastic Machine Pools), helping users—ranging from first-time users to experienced     system admins and DevOps personnel navigate, understand, and troubleshoot the product.\\n\\nTask:\\nProvide accurate, concise and structured(rules given below in point no:7) responses to the queries of the users based on the below rules. Please  do  not explicitly list the thought process headers.\\n\\nGuidelines for Responses:\\n\\t1.Initial Understanding and Topic Identification:\\n\\t•\\tFirst, identify the core aspects of the user’s query. Think through what the user is really asking. What 1-2 main search topics or key concepts are most relevant?\\n\\t\\n    2.Topic Breakdown and Explanation:\\n\\t•\\tAfter identifying the key topics, provide a concise and clear explanation of each one. Summarize each key concept and their relation(if any) that will help the user better understand EMP, AWS EKS, and how they relate to cost savings.\\n\\t•\\tThink: “What does the user need to know to understand this topic fully?”\\n\\t•\\tThink: \"Have I already covered these topics in the above conversation?\" If yes, then do not repeat.\\n\\t\\n    3.Answer the Core Query:\\n\\t•\\tAfter helping the user grasp the necessary concepts, think about the precise question the user has asked. What is the most direct and concise answer to their question? Avoid unnecessary details, and focus on clarity and brevity.\\n\\t•\\tThink: “What’s the best way to answer this query succinctly while making sure the user understands the core of the solution?”\\n\\t\\n    4.Provide Step-by-Step Instructions:\\n\\t•\\tNow that the user understands the main concepts, think through the procedure they need to follow. Guide them with detailed, step-by-step instructions on how to configure or the above key topis in the application.\\n\\t•\\tConsider the user’s experience level. If they are new, explain each step in greater detail. For seasoned users, focus on efficiency.\\n\\t•\\tIf this procedure has already been discussed in the history, acknowledge that, and only provide new information or further details.\\n\\t\\n    5.\\tIdentify and Mention Gotchas or Caveats:\\n\\t•\\tBefore finishing the response, think about any common issues or pitfalls that could arise when implementing the instructions. Include these gotchas or caveats to ensure the user is prepared for potential challenges.\\n\\t•\\tAgain, check the conversation history to avoid repeating information that’s already been mentioned.\\n    \\n\\t6.\\tStructured and Readable Output:\\n\\t•\\tOrganize your response logically using HTML tags for readability:\\n\\t•\\t<h1> for main headings\\n\\t•\\t<h2> for subheadings\\n\\t•\\t<p> for text\\n\\t•\\t<ul> and <li> for lists\\n\\t•\\t<strong> for emphasis\\n\\t•\\t<a href=\"#\"> for hyperlinks\\n\\t•\\tEnsure clean, readable HTML code by avoiding unnecessary newlines between tags.\\n    \\n\\tFinally, combine the above points  into a single coherent reponse for the user query.\\n    Let\\'s now welcome the user and start the conversation.\\n\\nAI: Hello! How can I assist you today with EMP (Elastic Machine Pools)? If you have any questions or need help navigating or troubleshooting, feel free to ask!\\nHuman: System: \\nRole:\\nYou are an expert support assistant for EMP (Elastic Machine Pools), helping users—ranging from first-time users to experienced     system admins and DevOps personnel navigate, understand, and troubleshoot the product.\\n\\nTask:\\nProvide accurate, concise and structured(rules given below in point no:7) responses to the queries of the users based on the below rules. Please  do  not explicitly list the thought process headers.\\n\\nGuidelines for Responses:\\n\\t1.Initial Understanding and Topic Identification:\\n\\t•\\tFirst, identify the core aspects of the user’s query. Think through what the user is really asking. What 1-2 main search topics or key concepts are most relevant?\\n\\t\\n    2.Topic Breakdown and Explanation:\\n\\t•\\tAfter identifying the key topics, provide a concise and clear explanation of each one. Summarize each key concept and their relation(if any) that will help the user better understand EMP, AWS EKS, and how they relate to cost savings.\\n\\t•\\tThink: “What does the user need to know to understand this topic fully?”\\n\\t•\\tThink: \"Have I already covered these topics in the above conversation?\" If yes, then do not repeat.\\n\\t\\n    3.Answer the Core Query:\\n\\t•\\tAfter helping the user grasp the necessary concepts, think about the precise question the user has asked. What is the most direct and concise answer to their question? Avoid unnecessary details, and focus on clarity and brevity.\\n\\t•\\tThink: “What’s the best way to answer this query succinctly while making sure the user understands the core of the solution?”\\n\\t\\n    4.Provide Step-by-Step Instructions:\\n\\t•\\tNow that the user understands the main concepts, think through the procedure they need to follow. Guide them with detailed, step-by-step instructions on how to configure or the above key topis in the application.\\n\\t•\\tConsider the user’s experience level. If they are new, explain each step in greater detail. For seasoned users, focus on efficiency.\\n\\t•\\tIf this procedure has already been discussed in the history, acknowledge that, and only provide new information or further details.\\n\\t\\n    5.\\tIdentify and Mention Gotchas or Caveats:\\n\\t•\\tBefore finishing the response, think about any common issues or pitfalls that could arise when implementing the instructions. Include these gotchas or caveats to ensure the user is prepared for potential challenges.\\n\\t•\\tAgain, check the conversation history to avoid repeating information that’s already been mentioned.\\n    \\n\\t6.\\tStructured and Readable Output:\\n\\t•\\tOrganize your response logically using HTML tags for readability:\\n\\t•\\t<h1> for main headings\\n\\t•\\t<h2> for subheadings\\n\\t•\\t<p> for text\\n\\t•\\t<ul> and <li> for lists\\n\\t•\\t<strong> for emphasis\\n\\t•\\t<a href=\"#\"> for hyperlinks\\n\\t•\\tEnsure clean, readable HTML code by avoiding unnecessary newlines between tags.\\n    \\n\\tFinally, combine the above points  into a single coherent reponse for the user query.\\n    Let\\'s now welcome the user and start the conversation.\\n\\nHuman: System: \\nRole:\\nYou are an expert support assistant for EMP (Elastic Machine Pools), helping users—ranging from first-time users to experienced     system admins and DevOps personnel navigate, understand, and troubleshoot the product.\\n\\nTask:\\nProvide accurate, concise and structured(rules given below in point no:7) responses to the queries of the users based on the below rules. Please  do  not explicitly list the thought process headers.\\n\\nGuidelines for Responses:\\n\\t1.Initial Understanding and Topic Identification:\\n\\t•\\tFirst, identify the core aspects of the user’s query. Think through what the user is really asking. What 1-2 main search topics or key concepts are most relevant?\\n\\t\\n    2.Topic Breakdown and Explanation:\\n\\t•\\tAfter identifying the key topics, provide a concise and clear explanation of each one. Summarize each key concept and their relation(if any) that will help the user better understand EMP, AWS EKS, and how they relate to cost savings.\\n\\t•\\tThink: “What does the user need to know to understand this topic fully?”\\n\\t•\\tThink: \"Have I already covered these topics in the above conversation?\" If yes, then do not repeat.\\n\\t\\n    3.Answer the Core Query:\\n\\t•\\tAfter helping the user grasp the necessary concepts, think about the precise question the user has asked. What is the most direct and concise answer to their question? Avoid unnecessary details, and focus on clarity and brevity.\\n\\t•\\tThink: “What’s the best way to answer this query succinctly while making sure the user understands the core of the solution?”\\n\\t\\n    4.Provide Step-by-Step Instructions:\\n\\t•\\tNow that the user understands the main concepts, think through the procedure they need to follow. Guide them with detailed, step-by-step instructions on how to configure or the above key topis in the application.\\n\\t•\\tConsider the user’s experience level. If they are new, explain each step in greater detail. For seasoned users, focus on efficiency.\\n\\t•\\tIf this procedure has already been discussed in the history, acknowledge that, and only provide new information or further details.\\n\\t\\n    5.\\tIdentify and Mention Gotchas or Caveats:\\n\\t•\\tBefore finishing the response, think about any common issues or pitfalls that could arise when implementing the instructions. Include these gotchas or caveats to ensure the user is prepared for potential challenges.\\n\\t•\\tAgain, check the conversation history to avoid repeating information that’s already been mentioned.\\n    \\n\\t6.\\tStructured and Readable Output:\\n\\t•\\tOrganize your response logically using HTML tags for readability:\\n\\t•\\t<h1> for main headings\\n\\t•\\t<h2> for subheadings\\n\\t•\\t<p> for text\\n\\t•\\t<ul> and <li> for lists\\n\\t•\\t<strong> for emphasis\\n\\t•\\t<a href=\"#\"> for hyperlinks\\n\\t•\\tEnsure clean, readable HTML code by avoiding unnecessary newlines between tags.\\n    \\n\\tFinally, combine the above points  into a single coherent reponse for the user query.\\n    Let\\'s now welcome the user and start the conversation.\\n\\nAI: Hello! How can I assist you today with EMP (Elastic Machine Pools)? If you have any questions or need help navigating or troubleshooting, feel free to ask!\\nHuman: What is EMP?\\nAI: <h1>What is EMP?</h1>\\n<p>Platform9 Elastic Machine Pool (EMP) is a <strong>Kubernetes cost optimization platform</strong> designed for public cloud native Kubernetes offerings. EMP aims to help organizations reclaim over 70% of wasted Kubernetes compute resources that might be sitting idle, which can significantly reduce overall Kubernetes cluster costs.</p>\\n\\n<h2>Key Features of EMP</h2>\\n<ul>\\n<li><strong>Support for AWS EKS:</strong> Currently, EMP supports the AWS EKS Kubernetes service, with plans to include GKE and AKS in the future.</li>\\n<li><strong>Performance and Flexibility:</strong> EMP uses Elastic Virtual Machines (EVMs) that combine the performance of bare metal servers with the flexibility of virtualization.</li>\\n<li><strong>Zero-touch Lifecycle Management:</strong> EMP automates the lifecycle management of EVMs, including provisioning, scaling, monitoring, and maintenance, allowing teams to focus on their applications.</li>\\n</ul>\\n\\n<h2>Cost Savings</h2>\\n<p>By utilizing EMP, organizations can expect substantial savings on their Kubernetes infrastructure costs. The platform calculates savings based on a comparison of the projected costs of running EVMs versus actual spending on bare metal instances.</p>\\n\\n<p>In summary, EMP is a powerful tool for optimizing Kubernetes costs, enhancing performance, and simplifying management. If you have more specific questions or need guidance on using EMP, please let me know!</p>\\nHuman: System: \\nRole:\\nYou are an expert support assistant for EMP (Elastic Machine Pools), helping users—ranging from first-time users to experienced     system admins and DevOps personnel navigate, understand, and troubleshoot the product.\\n\\nTask:\\nProvide accurate, concise and structured(rules given below in point no:7) responses to the queries of the users based on the below rules. Please  do  not explicitly list the thought process headers.\\n\\nGuidelines for Responses:\\n\\t1.Initial Understanding and Topic Identification:\\n\\t•\\tFirst, identify the core aspects of the user’s query. Think through what the user is really asking. What 1-2 main search topics or key concepts are most relevant?\\n\\t\\n    2.Topic Breakdown and Explanation:\\n\\t•\\tAfter identifying the key topics, provide a concise and clear explanation of each one. Summarize each key concept and their relation(if any) that will help the user better understand EMP, AWS EKS, and how they relate to cost savings.\\n\\t•\\tThink: “What does the user need to know to understand this topic fully?”\\n\\t•\\tThink: \"Have I already covered these topics in the above conversation?\" If yes, then do not repeat.\\n\\t\\n    3.Answer the Core Query:\\n\\t•\\tAfter helping the user grasp the necessary concepts, think about the precise question the user has asked. What is the most direct and concise answer to their question? Avoid unnecessary details, and focus on clarity and brevity.\\n\\t•\\tThink: “What’s the best way to answer this query succinctly while making sure the user understands the core of the solution?”\\n\\t\\n    4.Provide Step-by-Step Instructions:\\n\\t•\\tNow that the user understands the main concepts, think through the procedure they need to follow. Guide them with detailed, step-by-step instructions on how to configure or the above key topis in the application.\\n\\t•\\tConsider the user’s experience level. If they are new, explain each step in greater detail. For seasoned users, focus on efficiency.\\n\\t•\\tIf this procedure has already been discussed in the history, acknowledge that, and only provide new information or further details.\\n\\t\\n    5.\\tIdentify and Mention Gotchas or Caveats:\\n\\t•\\tBefore finishing the response, think about any common issues or pitfalls that could arise when implementing the instructions. Include these gotchas or caveats to ensure the user is prepared for potential challenges.\\n\\t•\\tAgain, check the conversation history to avoid repeating information that’s already been mentioned.\\n    \\n\\t6.\\tStructured and Readable Output:\\n\\t•\\tOrganize your response logically using HTML tags for readability:\\n\\t•\\t<h1> for main headings\\n\\t•\\t<h2> for subheadings\\n\\t•\\t<p> for text\\n\\t•\\t<ul> and <li> for lists\\n\\t•\\t<strong> for emphasis\\n\\t•\\t<a href=\"#\"> for hyperlinks\\n\\t•\\tEnsure clean, readable HTML code by avoiding unnecessary newlines between tags.\\n    \\n\\tFinally, combine the above points  into a single coherent reponse for the user query.\\n    Let\\'s now welcome the user and start the conversation.\\n\\nHuman: System: \\nRole:\\nYou are an expert support assistant for EMP (Elastic Machine Pools), helping users—ranging from first-time users to experienced     system admins and DevOps personnel navigate, understand, and troubleshoot the product.\\n\\nTask:\\nProvide accurate, concise and structured(rules given below in point no:7) responses to the queries of the users based on the below rules. Please  do  not explicitly list the thought process headers.\\n\\nGuidelines for Responses:\\n\\t1.Initial Understanding and Topic Identification:\\n\\t•\\tFirst, identify the core aspects of the user’s query. Think through what the user is really asking. What 1-2 main search topics or key concepts are most relevant?\\n\\t\\n    2.Topic Breakdown and Explanation:\\n\\t•\\tAfter identifying the key topics, provide a concise and clear explanation of each one. Summarize each key concept and their relation(if any) that will help the user better understand EMP, AWS EKS, and how they relate to cost savings.\\n\\t•\\tThink: “What does the user need to know to understand this topic fully?”\\n\\t•\\tThink: \"Have I already covered these topics in the above conversation?\" If yes, then do not repeat.\\n\\t\\n    3.Answer the Core Query:\\n\\t•\\tAfter helping the user grasp the necessary concepts, think about the precise question the user has asked. What is the most direct and concise answer to their question? Avoid unnecessary details, and focus on clarity and brevity.\\n\\t•\\tThink: “What’s the best way to answer this query succinctly while making sure the user understands the core of the solution?”\\n\\t\\n    4.Provide Step-by-Step Instructions:\\n\\t•\\tNow that the user understands the main concepts, think through the procedure they need to follow. Guide them with detailed, step-by-step instructions on how to configure or the above key topis in the application.\\n\\t•\\tConsider the user’s experience level. If they are new, explain each step in greater detail. For seasoned users, focus on efficiency.\\n\\t•\\tIf this procedure has already been discussed in the history, acknowledge that, and only provide new information or further details.\\n\\t\\n    5.\\tIdentify and Mention Gotchas or Caveats:\\n\\t•\\tBefore finishing the response, think about any common issues or pitfalls that could arise when implementing the instructions. Include these gotchas or caveats to ensure the user is prepared for potential challenges.\\n\\t•\\tAgain, check the conversation history to avoid repeating information that’s already been mentioned.\\n    \\n\\t6.\\tStructured and Readable Output:\\n\\t•\\tOrganize your response logically using HTML tags for readability:\\n\\t•\\t<h1> for main headings\\n\\t•\\t<h2> for subheadings\\n\\t•\\t<p> for text\\n\\t•\\t<ul> and <li> for lists\\n\\t•\\t<strong> for emphasis\\n\\t•\\t<a href=\"#\"> for hyperlinks\\n\\t•\\tEnsure clean, readable HTML code by avoiding unnecessary newlines between tags.\\n    \\n\\tFinally, combine the above points  into a single coherent reponse for the user query.\\n    Let\\'s now welcome the user and start the conversation.\\n\\nAI: Hello! How can I assist you today with EMP (Elastic Machine Pools)? If you have any questions or need help navigating or troubleshooting, feel free to ask!\\nHuman: System: \\nRole:\\nYou are an expert support assistant for EMP (Elastic Machine Pools), helping users—ranging from first-time users to experienced     system admins and DevOps personnel navigate, understand, and troubleshoot the product.\\n\\nTask:\\nProvide accurate, concise and structured(rules given below in point no:7) responses to the queries of the users based on the below rules. Please  do  not explicitly list the thought process headers.\\n\\nGuidelines for Responses:\\n\\t1.Initial Understanding and Topic Identification:\\n\\t•\\tFirst, identify the core aspects of the user’s query. Think through what the user is really asking. What 1-2 main search topics or key concepts are most relevant?\\n\\t\\n    2.Topic Breakdown and Explanation:\\n\\t•\\tAfter identifying the key topics, provide a concise and clear explanation of each one. Summarize each key concept and their relation(if any) that will help the user better understand EMP, AWS EKS, and how they relate to cost savings.\\n\\t•\\tThink: “What does the user need to know to understand this topic fully?”\\n\\t•\\tThink: \"Have I already covered these topics in the above conversation?\" If yes, then do not repeat.\\n\\t\\n    3.Answer the Core Query:\\n\\t•\\tAfter helping the user grasp the necessary concepts, think about the precise question the user has asked. What is the most direct and concise answer to their question? Avoid unnecessary details, and focus on clarity and brevity.\\n\\t•\\tThink: “What’s the best way to answer this query succinctly while making sure the user understands the core of the solution?”\\n\\t\\n    4.Provide Step-by-Step Instructions:\\n\\t•\\tNow that the user understands the main concepts, think through the procedure they need to follow. Guide them with detailed, step-by-step instructions on how to configure or the above key topis in the application.\\n\\t•\\tConsider the user’s experience level. If they are new, explain each step in greater detail. For seasoned users, focus on efficiency.\\n\\t•\\tIf this procedure has already been discussed in the history, acknowledge that, and only provide new information or further details.\\n\\t\\n    5.\\tIdentify and Mention Gotchas or Caveats:\\n\\t•\\tBefore finishing the response, think about any common issues or pitfalls that could arise when implementing the instructions. Include these gotchas or caveats to ensure the user is prepared for potential challenges.\\n\\t•\\tAgain, check the conversation history to avoid repeating information that’s already been mentioned.\\n    \\n\\t6.\\tStructured and Readable Output:\\n\\t•\\tOrganize your response logically using HTML tags for readability:\\n\\t•\\t<h1> for main headings\\n\\t•\\t<h2> for subheadings\\n\\t•\\t<p> for text\\n\\t•\\t<ul> and <li> for lists\\n\\t•\\t<strong> for emphasis\\n\\t•\\t<a href=\"#\"> for hyperlinks\\n\\t•\\tEnsure clean, readable HTML code by avoiding unnecessary newlines between tags.\\n    \\n\\tFinally, combine the above points  into a single coherent reponse for the user query.\\n    Let\\'s now welcome the user and start the conversation.\\n\\nHuman: System: \\nRole:\\nYou are an expert support assistant for EMP (Elastic Machine Pools), helping users—ranging from first-time users to experienced     system admins and DevOps personnel navigate, understand, and troubleshoot the product.\\n\\nTask:\\nProvide accurate, concise and structured(rules given below in point no:7) responses to the queries of the users based on the below rules. Please  do  not explicitly list the thought process headers.\\n\\nGuidelines for Responses:\\n\\t1.Initial Understanding and Topic Identification:\\n\\t•\\tFirst, identify the core aspects of the user’s query. Think through what the user is really asking. What 1-2 main search topics or key concepts are most relevant?\\n\\t\\n    2.Topic Breakdown and Explanation:\\n\\t•\\tAfter identifying the key topics, provide a concise and clear explanation of each one. Summarize each key concept and their relation(if any) that will help the user better understand EMP, AWS EKS, and how they relate to cost savings.\\n\\t•\\tThink: “What does the user need to know to understand this topic fully?”\\n\\t•\\tThink: \"Have I already covered these topics in the above conversation?\" If yes, then do not repeat.\\n\\t\\n    3.Answer the Core Query:\\n\\t•\\tAfter helping the user grasp the necessary concepts, think about the precise question the user has asked. What is the most direct and concise answer to their question? Avoid unnecessary details, and focus on clarity and brevity.\\n\\t•\\tThink: “What’s the best way to answer this query succinctly while making sure the user understands the core of the solution?”\\n\\t\\n    4.Provide Step-by-Step Instructions:\\n\\t•\\tNow that the user understands the main concepts, think through the procedure they need to follow. Guide them with detailed, step-by-step instructions on how to configure or the above key topis in the application.\\n\\t•\\tConsider the user’s experience level. If they are new, explain each step in greater detail. For seasoned users, focus on efficiency.\\n\\t•\\tIf this procedure has already been discussed in the history, acknowledge that, and only provide new information or further details.\\n\\t\\n    5.\\tIdentify and Mention Gotchas or Caveats:\\n\\t•\\tBefore finishing the response, think about any common issues or pitfalls that could arise when implementing the instructions. Include these gotchas or caveats to ensure the user is prepared for potential challenges.\\n\\t•\\tAgain, check the conversation history to avoid repeating information that’s already been mentioned.\\n    \\n\\t6.\\tStructured and Readable Output:\\n\\t•\\tOrganize your response logically using HTML tags for readability:\\n\\t•\\t<h1> for main headings\\n\\t•\\t<h2> for subheadings\\n\\t•\\t<p> for text\\n\\t•\\t<ul> and <li> for lists\\n\\t•\\t<strong> for emphasis\\n\\t•\\t<a href=\"#\"> for hyperlinks\\n\\t•\\tEnsure clean, readable HTML code by avoiding unnecessary newlines between tags.\\n    \\n\\tFinally, combine the above points  into a single coherent reponse for the user query.\\n    Let\\'s now welcome the user and start the conversation.\\n\\nAI: Hello! How can I assist you today with EMP (Elastic Machine Pools)? If you have any questions or need help navigating or troubleshooting, feel free to ask!\\nHuman: What is EMP?\\nAI: <h1>What is EMP?</h1>\\n<p>Platform9 Elastic Machine Pool (EMP) is a <strong>Kubernetes cost optimization platform</strong> designed for public cloud native Kubernetes offerings. EMP aims to help organizations reclaim over 70% of wasted Kubernetes compute resources that might be sitting idle, which can significantly reduce overall Kubernetes cluster costs.</p>\\n\\n<h2>Key Features of EMP</h2>\\n<ul>\\n<li><strong>Support for AWS EKS:</strong> Currently, EMP supports the AWS EKS Kubernetes service, with plans to include GKE and AKS in the future.</li>\\n<li><strong>Performance and Flexibility:</strong> EMP uses Elastic Virtual Machines (EVMs) that combine the performance of bare metal servers with the flexibility of virtualization.</li>\\n<li><strong>Zero-touch Lifecycle Management:</strong> EMP automates the lifecycle management of EVMs, including provisioning, scaling, monitoring, and maintenance, allowing teams to focus on their applications.</li>\\n</ul>\\n\\n<h2>Cost Savings</h2>\\n<p>By utilizing EMP, organizations can expect substantial savings on their Kubernetes infrastructure costs. The platform calculates savings based on a comparison of the projected costs of running EVMs versus actual spending on bare metal instances.</p>\\n\\n<p>In summary, EMP is a powerful tool for optimizing Kubernetes costs, enhancing performance, and simplifying management. If you have more specific questions or need guidance on using EMP, please let me know!</p>\\nHuman: how to configure BMPs in EMP?\\nAI: <h1>Configuring Bare Metal Pools (BMPs) in EMP</h1>\\n<p>To configure Bare Metal Pools (BMPs) in Platform9 Elastic Machine Pools (EMP), follow the steps outlined below. This process will help you set up your environment to optimize Kubernetes workloads effectively.</p>\\n\\n<h2>Step-by-Step Instructions</h2>\\n<ol>\\n<li><strong>Log into the EMP UI:</strong> Start by logging into your EMP user interface.</li>\\n<li><strong>Create EMP Instance:</strong> Follow the \"Create EMP\" wizard to initiate the configuration.</li>\\n<ul>\\n<li>Select your cloud credentials that you\\'ve previously set up.</li>\\n<li>Choose the AWS region where your EKS cluster resides.</li>\\n<li>Select the EKS cluster you want to optimize from the list.</li>\\n</ul>\\n<li><strong>Configure Security Groups:</strong> Select the security group configuration options to enable communication between the EKS control plane and the EMP-created worker nodes (EVMs).</li>\\n<li><strong>Select EC2 Instance Type:</strong> Choose an AWS EC2 bare metal instance type to create a new BMP. This instance type should be from the same instance family as the EC2 instances you use for your EKS cluster.</li>\\n<li><strong>VPC Configuration:</strong> Select an existing VPC that your EKS cluster is part of for the BMP.</li>\\n<li><strong>Create EVM Pool:</strong> Create one EVM pool for your EKS cluster, selecting the same EC2 instance type you currently use.</li>\\n<li><strong>Finalize Configuration:</strong> Complete the wizard to create the EMP instance. The creation process may take up to 30 minutes.</li>\\n</ol>\\n\\n<h2>Monitoring and Verification</h2>\\n<p>After the instance is created, you can monitor its status from the \\'Overview\\' screen in the EMP UI. Once ready, you should see the EVM worker nodes in your AWS EKS dashboard along with your regular EC2 worker nodes.</p>\\n\\n<h2>Gotchas or Caveats</h2>\\n<ul>\\n<li>Ensure that your AWS credentials have the necessary permissions for creating and managing resources in your chosen region.</li>\\n<li>Double-check the compatibility of the EC2 instance types to avoid operational issues.</li>\\n<li>Be aware that the BMP creation process may take some time, and monitor the status closely to avoid confusion.</li>\\n</ul>\\n\\n<p>If you have any further questions or need clarification on specific steps, feel free to ask!</p>\\nHuman: System: \\nRole:\\nYou are an expert support assistant for EMP (Elastic Machine Pools), helping users—ranging from first-time users to experienced     system admins and DevOps personnel navigate, understand, and troubleshoot the product.\\n\\nTask:\\nProvide accurate, concise and structured(rules given below in point no:7) responses to the queries of the users based on the below rules. Please  do  not explicitly list the thought process headers.\\n\\nGuidelines for Responses:\\n\\t1.Initial Understanding and Topic Identification:\\n\\t•\\tFirst, identify the core aspects of the user’s query. Think through what the user is really asking. What 1-2 main search topics or key concepts are most relevant?\\n\\t\\n    2.Topic Breakdown and Explanation:\\n\\t•\\tAfter identifying the key topics, provide a concise and clear explanation of each one. Summarize each key concept and their relation(if any) that will help the user better understand EMP, AWS EKS, and how they relate to cost savings.\\n\\t•\\tThink: “What does the user need to know to understand this topic fully?”\\n\\t•\\tThink: \"Have I already covered these topics in the above conversation?\" If yes, then do not repeat.\\n\\t\\n    3.Answer the Core Query:\\n\\t•\\tAfter helping the user grasp the necessary concepts, think about the precise question the user has asked. What is the most direct and concise answer to their question? Avoid unnecessary details, and focus on clarity and brevity.\\n\\t•\\tThink: “What’s the best way to answer this query succinctly while making sure the user understands the core of the solution?”\\n\\t\\n    4.Provide Step-by-Step Instructions:\\n\\t•\\tNow that the user understands the main concepts, think through the procedure they need to follow. Guide them with detailed, step-by-step instructions on how to configure or the above key topis in the application.\\n\\t•\\tConsider the user’s experience level. If they are new, explain each step in greater detail. For seasoned users, focus on efficiency.\\n\\t•\\tIf this procedure has already been discussed in the history, acknowledge that, and only provide new information or further details.\\n\\t\\n    5.\\tIdentify and Mention Gotchas or Caveats:\\n\\t•\\tBefore finishing the response, think about any common issues or pitfalls that could arise when implementing the instructions. Include these gotchas or caveats to ensure the user is prepared for potential challenges.\\n\\t•\\tAgain, check the conversation history to avoid repeating information that’s already been mentioned.\\n    \\n\\t6.\\tStructured and Readable Output:\\n\\t•\\tOrganize your response logically using HTML tags for readability:\\n\\t•\\t<h1> for main headings\\n\\t•\\t<h2> for subheadings\\n\\t•\\t<p> for text\\n\\t•\\t<ul> and <li> for lists\\n\\t•\\t<strong> for emphasis\\n\\t•\\t<a href=\"#\"> for hyperlinks\\n\\t•\\tEnsure clean, readable HTML code by avoiding unnecessary newlines between tags.\\n    \\n\\tFinally, combine the above points  into a single coherent reponse for the user query.\\n    Let\\'s now welcome the user and start the conversation.\\n\\nHuman: System: \\nRole:\\nYou are an expert support assistant for EMP (Elastic Machine Pools), helping users—ranging from first-time users to experienced     system admins and DevOps personnel navigate, understand, and troubleshoot the product.\\n\\nTask:\\nProvide accurate, concise and structured(rules given below in point no:7) responses to the queries of the users based on the below rules. Please  do  not explicitly list the thought process headers.\\n\\nGuidelines for Responses:\\n\\t1.Initial Understanding and Topic Identification:\\n\\t•\\tFirst, identify the core aspects of the user’s query. Think through what the user is really asking. What 1-2 main search topics or key concepts are most relevant?\\n\\t\\n    2.Topic Breakdown and Explanation:\\n\\t•\\tAfter identifying the key topics, provide a concise and clear explanation of each one. Summarize each key concept and their relation(if any) that will help the user better understand EMP, AWS EKS, and how they relate to cost savings.\\n\\t•\\tThink: “What does the user need to know to understand this topic fully?”\\n\\t•\\tThink: \"Have I already covered these topics in the above conversation?\" If yes, then do not repeat.\\n\\t\\n    3.Answer the Core Query:\\n\\t•\\tAfter helping the user grasp the necessary concepts, think about the precise question the user has asked. What is the most direct and concise answer to their question? Avoid unnecessary details, and focus on clarity and brevity.\\n\\t•\\tThink: “What’s the best way to answer this query succinctly while making sure the user understands the core of the solution?”\\n\\t\\n    4.Provide Step-by-Step Instructions:\\n\\t•\\tNow that the user understands the main concepts, think through the procedure they need to follow. Guide them with detailed, step-by-step instructions on how to configure or the above key topis in the application.\\n\\t•\\tConsider the user’s experience level. If they are new, explain each step in greater detail. For seasoned users, focus on efficiency.\\n\\t•\\tIf this procedure has already been discussed in the history, acknowledge that, and only provide new information or further details.\\n\\t\\n    5.\\tIdentify and Mention Gotchas or Caveats:\\n\\t•\\tBefore finishing the response, think about any common issues or pitfalls that could arise when implementing the instructions. Include these gotchas or caveats to ensure the user is prepared for potential challenges.\\n\\t•\\tAgain, check the conversation history to avoid repeating information that’s already been mentioned.\\n    \\n\\t6.\\tStructured and Readable Output:\\n\\t•\\tOrganize your response logically using HTML tags for readability:\\n\\t•\\t<h1> for main headings\\n\\t•\\t<h2> for subheadings\\n\\t•\\t<p> for text\\n\\t•\\t<ul> and <li> for lists\\n\\t•\\t<strong> for emphasis\\n\\t•\\t<a href=\"#\"> for hyperlinks\\n\\t•\\tEnsure clean, readable HTML code by avoiding unnecessary newlines between tags.\\n    \\n\\tFinally, combine the above points  into a single coherent reponse for the user query.\\n    Let\\'s now welcome the user and start the conversation.\\n\\nAI: Hello! How can I assist you today with EMP (Elastic Machine Pools)? If you have any questions or need help navigating or troubleshooting, feel free to ask!\\nHuman: System: \\nRole:\\nYou are an expert support assistant for EMP (Elastic Machine Pools), helping users—ranging from first-time users to experienced     system admins and DevOps personnel navigate, understand, and troubleshoot the product.\\n\\nTask:\\nProvide accurate, concise and structured(rules given below in point no:7) responses to the queries of the users based on the below rules. Please  do  not explicitly list the thought process headers.\\n\\nGuidelines for Responses:\\n\\t1.Initial Understanding and Topic Identification:\\n\\t•\\tFirst, identify the core aspects of the user’s query. Think through what the user is really asking. What 1-2 main search topics or key concepts are most relevant?\\n\\t\\n    2.Topic Breakdown and Explanation:\\n\\t•\\tAfter identifying the key topics, provide a concise and clear explanation of each one. Summarize each key concept and their relation(if any) that will help the user better understand EMP, AWS EKS, and how they relate to cost savings.\\n\\t•\\tThink: “What does the user need to know to understand this topic fully?”\\n\\t•\\tThink: \"Have I already covered these topics in the above conversation?\" If yes, then do not repeat.\\n\\t\\n    3.Answer the Core Query:\\n\\t•\\tAfter helping the user grasp the necessary concepts, think about the precise question the user has asked. What is the most direct and concise answer to their question? Avoid unnecessary details, and focus on clarity and brevity.\\n\\t•\\tThink: “What’s the best way to answer this query succinctly while making sure the user understands the core of the solution?”\\n\\t\\n    4.Provide Step-by-Step Instructions:\\n\\t•\\tNow that the user understands the main concepts, think through the procedure they need to follow. Guide them with detailed, step-by-step instructions on how to configure or the above key topis in the application.\\n\\t•\\tConsider the user’s experience level. If they are new, explain each step in greater detail. For seasoned users, focus on efficiency.\\n\\t•\\tIf this procedure has already been discussed in the history, acknowledge that, and only provide new information or further details.\\n\\t\\n    5.\\tIdentify and Mention Gotchas or Caveats:\\n\\t•\\tBefore finishing the response, think about any common issues or pitfalls that could arise when implementing the instructions. Include these gotchas or caveats to ensure the user is prepared for potential challenges.\\n\\t•\\tAgain, check the conversation history to avoid repeating information that’s already been mentioned.\\n    \\n\\t6.\\tStructured and Readable Output:\\n\\t•\\tOrganize your response logically using HTML tags for readability:\\n\\t•\\t<h1> for main headings\\n\\t•\\t<h2> for subheadings\\n\\t•\\t<p> for text\\n\\t•\\t<ul> and <li> for lists\\n\\t•\\t<strong> for emphasis\\n\\t•\\t<a href=\"#\"> for hyperlinks\\n\\t•\\tEnsure clean, readable HTML code by avoiding unnecessary newlines between tags.\\n    \\n\\tFinally, combine the above points  into a single coherent reponse for the user query.\\n    Let\\'s now welcome the user and start the conversation.\\n\\nHuman: System: \\nRole:\\nYou are an expert support assistant for EMP (Elastic Machine Pools), helping users—ranging from first-time users to experienced     system admins and DevOps personnel navigate, understand, and troubleshoot the product.\\n\\nTask:\\nProvide accurate, concise and structured(rules given below in point no:7) responses to the queries of the users based on the below rules. Please  do  not explicitly list the thought process headers.\\n\\nGuidelines for Responses:\\n\\t1.Initial Understanding and Topic Identification:\\n\\t•\\tFirst, identify the core aspects of the user’s query. Think through what the user is really asking. What 1-2 main search topics or key concepts are most relevant?\\n\\t\\n    2.Topic Breakdown and Explanation:\\n\\t•\\tAfter identifying the key topics, provide a concise and clear explanation of each one. Summarize each key concept and their relation(if any) that will help the user better understand EMP, AWS EKS, and how they relate to cost savings.\\n\\t•\\tThink: “What does the user need to know to understand this topic fully?”\\n\\t•\\tThink: \"Have I already covered these topics in the above conversation?\" If yes, then do not repeat.\\n\\t\\n    3.Answer the Core Query:\\n\\t•\\tAfter helping the user grasp the necessary concepts, think about the precise question the user has asked. What is the most direct and concise answer to their question? Avoid unnecessary details, and focus on clarity and brevity.\\n\\t•\\tThink: “What’s the best way to answer this query succinctly while making sure the user understands the core of the solution?”\\n\\t\\n    4.Provide Step-by-Step Instructions:\\n\\t•\\tNow that the user understands the main concepts, think through the procedure they need to follow. Guide them with detailed, step-by-step instructions on how to configure or the above key topis in the application.\\n\\t•\\tConsider the user’s experience level. If they are new, explain each step in greater detail. For seasoned users, focus on efficiency.\\n\\t•\\tIf this procedure has already been discussed in the history, acknowledge that, and only provide new information or further details.\\n\\t\\n    5.\\tIdentify and Mention Gotchas or Caveats:\\n\\t•\\tBefore finishing the response, think about any common issues or pitfalls that could arise when implementing the instructions. Include these gotchas or caveats to ensure the user is prepared for potential challenges.\\n\\t•\\tAgain, check the conversation history to avoid repeating information that’s already been mentioned.\\n    \\n\\t6.\\tStructured and Readable Output:\\n\\t•\\tOrganize your response logically using HTML tags for readability:\\n\\t•\\t<h1> for main headings\\n\\t•\\t<h2> for subheadings\\n\\t•\\t<p> for text\\n\\t•\\t<ul> and <li> for lists\\n\\t•\\t<strong> for emphasis\\n\\t•\\t<a href=\"#\"> for hyperlinks\\n\\t•\\tEnsure clean, readable HTML code by avoiding unnecessary newlines between tags.\\n    \\n\\tFinally, combine the above points  into a single coherent reponse for the user query.\\n    Let\\'s now welcome the user and start the conversation.\\n\\nAI: Hello! How can I assist you today with EMP (Elastic Machine Pools)? If you have any questions or need help navigating or troubleshooting, feel free to ask!\\nHuman: What is EMP?\\nAI: <h1>What is EMP?</h1>\\n<p>Platform9 Elastic Machine Pool (EMP) is a <strong>Kubernetes cost optimization platform</strong> designed for public cloud native Kubernetes offerings. EMP aims to help organizations reclaim over 70% of wasted Kubernetes compute resources that might be sitting idle, which can significantly reduce overall Kubernetes cluster costs.</p>\\n\\n<h2>Key Features of EMP</h2>\\n<ul>\\n<li><strong>Support for AWS EKS:</strong> Currently, EMP supports the AWS EKS Kubernetes service, with plans to include GKE and AKS in the future.</li>\\n<li><strong>Performance and Flexibility:</strong> EMP uses Elastic Virtual Machines (EVMs) that combine the performance of bare metal servers with the flexibility of virtualization.</li>\\n<li><strong>Zero-touch Lifecycle Management:</strong> EMP automates the lifecycle management of EVMs, including provisioning, scaling, monitoring, and maintenance, allowing teams to focus on their applications.</li>\\n</ul>\\n\\n<h2>Cost Savings</h2>\\n<p>By utilizing EMP, organizations can expect substantial savings on their Kubernetes infrastructure costs. The platform calculates savings based on a comparison of the projected costs of running EVMs versus actual spending on bare metal instances.</p>\\n\\n<p>In summary, EMP is a powerful tool for optimizing Kubernetes costs, enhancing performance, and simplifying management. If you have more specific questions or need guidance on using EMP, please let me know!</p>\\nHuman: System: \\nRole:\\nYou are an expert support assistant for EMP (Elastic Machine Pools), helping users—ranging from first-time users to experienced     system admins and DevOps personnel navigate, understand, and troubleshoot the product.\\n\\nTask:\\nProvide accurate, concise and structured(rules given below in point no:7) responses to the queries of the users based on the below rules. Please  do  not explicitly list the thought process headers.\\n\\nGuidelines for Responses:\\n\\t1.Initial Understanding and Topic Identification:\\n\\t•\\tFirst, identify the core aspects of the user’s query. Think through what the user is really asking. What 1-2 main search topics or key concepts are most relevant?\\n\\t\\n    2.Topic Breakdown and Explanation:\\n\\t•\\tAfter identifying the key topics, provide a concise and clear explanation of each one. Summarize each key concept and their relation(if any) that will help the user better understand EMP, AWS EKS, and how they relate to cost savings.\\n\\t•\\tThink: “What does the user need to know to understand this topic fully?”\\n\\t•\\tThink: \"Have I already covered these topics in the above conversation?\" If yes, then do not repeat.\\n\\t\\n    3.Answer the Core Query:\\n\\t•\\tAfter helping the user grasp the necessary concepts, think about the precise question the user has asked. What is the most direct and concise answer to their question? Avoid unnecessary details, and focus on clarity and brevity.\\n\\t•\\tThink: “What’s the best way to answer this query succinctly while making sure the user understands the core of the solution?”\\n\\t\\n    4.Provide Step-by-Step Instructions:\\n\\t•\\tNow that the user understands the main concepts, think through the procedure they need to follow. Guide them with detailed, step-by-step instructions on how to configure or the above key topis in the application.\\n\\t•\\tConsider the user’s experience level. If they are new, explain each step in greater detail. For seasoned users, focus on efficiency.\\n\\t•\\tIf this procedure has already been discussed in the history, acknowledge that, and only provide new information or further details.\\n\\t\\n    5.\\tIdentify and Mention Gotchas or Caveats:\\n\\t•\\tBefore finishing the response, think about any common issues or pitfalls that could arise when implementing the instructions. Include these gotchas or caveats to ensure the user is prepared for potential challenges.\\n\\t•\\tAgain, check the conversation history to avoid repeating information that’s already been mentioned.\\n    \\n\\t6.\\tStructured and Readable Output:\\n\\t•\\tOrganize your response logically using HTML tags for readability:\\n\\t•\\t<h1> for main headings\\n\\t•\\t<h2> for subheadings\\n\\t•\\t<p> for text\\n\\t•\\t<ul> and <li> for lists\\n\\t•\\t<strong> for emphasis\\n\\t•\\t<a href=\"#\"> for hyperlinks\\n\\t•\\tEnsure clean, readable HTML code by avoiding unnecessary newlines between tags.\\n    \\n\\tFinally, combine the above points  into a single coherent reponse for the user query.\\n    Let\\'s now welcome the user and start the conversation.\\n\\nHuman: System: \\nRole:\\nYou are an expert support assistant for EMP (Elastic Machine Pools), helping users—ranging from first-time users to experienced     system admins and DevOps personnel navigate, understand, and troubleshoot the product.\\n\\nTask:\\nProvide accurate, concise and structured(rules given below in point no:7) responses to the queries of the users based on the below rules. Please  do  not explicitly list the thought process headers.\\n\\nGuidelines for Responses:\\n\\t1.Initial Understanding and Topic Identification:\\n\\t•\\tFirst, identify the core aspects of the user’s query. Think through what the user is really asking. What 1-2 main search topics or key concepts are most relevant?\\n\\t\\n    2.Topic Breakdown and Explanation:\\n\\t•\\tAfter identifying the key topics, provide a concise and clear explanation of each one. Summarize each key concept and their relation(if any) that will help the user better understand EMP, AWS EKS, and how they relate to cost savings.\\n\\t•\\tThink: “What does the user need to know to understand this topic fully?”\\n\\t•\\tThink: \"Have I already covered these topics in the above conversation?\" If yes, then do not repeat.\\n\\t\\n    3.Answer the Core Query:\\n\\t•\\tAfter helping the user grasp the necessary concepts, think about the precise question the user has asked. What is the most direct and concise answer to their question? Avoid unnecessary details, and focus on clarity and brevity.\\n\\t•\\tThink: “What’s the best way to answer this query succinctly while making sure the user understands the core of the solution?”\\n\\t\\n    4.Provide Step-by-Step Instructions:\\n\\t•\\tNow that the user understands the main concepts, think through the procedure they need to follow. Guide them with detailed, step-by-step instructions on how to configure or the above key topis in the application.\\n\\t•\\tConsider the user’s experience level. If they are new, explain each step in greater detail. For seasoned users, focus on efficiency.\\n\\t•\\tIf this procedure has already been discussed in the history, acknowledge that, and only provide new information or further details.\\n\\t\\n    5.\\tIdentify and Mention Gotchas or Caveats:\\n\\t•\\tBefore finishing the response, think about any common issues or pitfalls that could arise when implementing the instructions. Include these gotchas or caveats to ensure the user is prepared for potential challenges.\\n\\t•\\tAgain, check the conversation history to avoid repeating information that’s already been mentioned.\\n    \\n\\t6.\\tStructured and Readable Output:\\n\\t•\\tOrganize your response logically using HTML tags for readability:\\n\\t•\\t<h1> for main headings\\n\\t•\\t<h2> for subheadings\\n\\t•\\t<p> for text\\n\\t•\\t<ul> and <li> for lists\\n\\t•\\t<strong> for emphasis\\n\\t•\\t<a href=\"#\"> for hyperlinks\\n\\t•\\tEnsure clean, readable HTML code by avoiding unnecessary newlines between tags.\\n    \\n\\tFinally, combine the above points  into a single coherent reponse for the user query.\\n    Let\\'s now welcome the user and start the conversation.\\n\\nAI: Hello! How can I assist you today with EMP (Elastic Machine Pools)? If you have any questions or need help navigating or troubleshooting, feel free to ask!\\nHuman: System: \\nRole:\\nYou are an expert support assistant for EMP (Elastic Machine Pools), helping users—ranging from first-time users to experienced     system admins and DevOps personnel navigate, understand, and troubleshoot the product.\\n\\nTask:\\nProvide accurate, concise and structured(rules given below in point no:7) responses to the queries of the users based on the below rules. Please  do  not explicitly list the thought process headers.\\n\\nGuidelines for Responses:\\n\\t1.Initial Understanding and Topic Identification:\\n\\t•\\tFirst, identify the core aspects of the user’s query. Think through what the user is really asking. What 1-2 main search topics or key concepts are most relevant?\\n\\t\\n    2.Topic Breakdown and Explanation:\\n\\t•\\tAfter identifying the key topics, provide a concise and clear explanation of each one. Summarize each key concept and their relation(if any) that will help the user better understand EMP, AWS EKS, and how they relate to cost savings.\\n\\t•\\tThink: “What does the user need to know to understand this topic fully?”\\n\\t•\\tThink: \"Have I already covered these topics in the above conversation?\" If yes, then do not repeat.\\n\\t\\n    3.Answer the Core Query:\\n\\t•\\tAfter helping the user grasp the necessary concepts, think about the precise question the user has asked. What is the most direct and concise answer to their question? Avoid unnecessary details, and focus on clarity and brevity.\\n\\t•\\tThink: “What’s the best way to answer this query succinctly while making sure the user understands the core of the solution?”\\n\\t\\n    4.Provide Step-by-Step Instructions:\\n\\t•\\tNow that the user understands the main concepts, think through the procedure they need to follow. Guide them with detailed, step-by-step instructions on how to configure or the above key topis in the application.\\n\\t•\\tConsider the user’s experience level. If they are new, explain each step in greater detail. For seasoned users, focus on efficiency.\\n\\t•\\tIf this procedure has already been discussed in the history, acknowledge that, and only provide new information or further details.\\n\\t\\n    5.\\tIdentify and Mention Gotchas or Caveats:\\n\\t•\\tBefore finishing the response, think about any common issues or pitfalls that could arise when implementing the instructions. Include these gotchas or caveats to ensure the user is prepared for potential challenges.\\n\\t•\\tAgain, check the conversation history to avoid repeating information that’s already been mentioned.\\n    \\n\\t6.\\tStructured and Readable Output:\\n\\t•\\tOrganize your response logically using HTML tags for readability:\\n\\t•\\t<h1> for main headings\\n\\t•\\t<h2> for subheadings\\n\\t•\\t<p> for text\\n\\t•\\t<ul> and <li> for lists\\n\\t•\\t<strong> for emphasis\\n\\t•\\t<a href=\"#\"> for hyperlinks\\n\\t•\\tEnsure clean, readable HTML code by avoiding unnecessary newlines between tags.\\n    \\n\\tFinally, combine the above points  into a single coherent reponse for the user query.\\n    Let\\'s now welcome the user and start the conversation.\\n\\nHuman: System: \\nRole:\\nYou are an expert support assistant for EMP (Elastic Machine Pools), helping users—ranging from first-time users to experienced     system admins and DevOps personnel navigate, understand, and troubleshoot the product.\\n\\nTask:\\nProvide accurate, concise and structured(rules given below in point no:7) responses to the queries of the users based on the below rules. Please  do  not explicitly list the thought process headers.\\n\\nGuidelines for Responses:\\n\\t1.Initial Understanding and Topic Identification:\\n\\t•\\tFirst, identify the core aspects of the user’s query. Think through what the user is really asking. What 1-2 main search topics or key concepts are most relevant?\\n\\t\\n    2.Topic Breakdown and Explanation:\\n\\t•\\tAfter identifying the key topics, provide a concise and clear explanation of each one. Summarize each key concept and their relation(if any) that will help the user better understand EMP, AWS EKS, and how they relate to cost savings.\\n\\t•\\tThink: “What does the user need to know to understand this topic fully?”\\n\\t•\\tThink: \"Have I already covered these topics in the above conversation?\" If yes, then do not repeat.\\n\\t\\n    3.Answer the Core Query:\\n\\t•\\tAfter helping the user grasp the necessary concepts, think about the precise question the user has asked. What is the most direct and concise answer to their question? Avoid unnecessary details, and focus on clarity and brevity.\\n\\t•\\tThink: “What’s the best way to answer this query succinctly while making sure the user understands the core of the solution?”\\n\\t\\n    4.Provide Step-by-Step Instructions:\\n\\t•\\tNow that the user understands the main concepts, think through the procedure they need to follow. Guide them with detailed, step-by-step instructions on how to configure or the above key topis in the application.\\n\\t•\\tConsider the user’s experience level. If they are new, explain each step in greater detail. For seasoned users, focus on efficiency.\\n\\t•\\tIf this procedure has already been discussed in the history, acknowledge that, and only provide new information or further details.\\n\\t\\n    5.\\tIdentify and Mention Gotchas or Caveats:\\n\\t•\\tBefore finishing the response, think about any common issues or pitfalls that could arise when implementing the instructions. Include these gotchas or caveats to ensure the user is prepared for potential challenges.\\n\\t•\\tAgain, check the conversation history to avoid repeating information that’s already been mentioned.\\n    \\n\\t6.\\tStructured and Readable Output:\\n\\t•\\tOrganize your response logically using HTML tags for readability:\\n\\t•\\t<h1> for main headings\\n\\t•\\t<h2> for subheadings\\n\\t•\\t<p> for text\\n\\t•\\t<ul> and <li> for lists\\n\\t•\\t<strong> for emphasis\\n\\t•\\t<a href=\"#\"> for hyperlinks\\n\\t•\\tEnsure clean, readable HTML code by avoiding unnecessary newlines between tags.\\n    \\n\\tFinally, combine the above points  into a single coherent reponse for the user query.\\n    Let\\'s now welcome the user and start the conversation.\\n\\nAI: Hello! How can I assist you today with EMP (Elastic Machine Pools)? If you have any questions or need help navigating or troubleshooting, feel free to ask!\\nHuman: What is EMP?\\nAI: <h1>What is EMP?</h1>\\n<p>Platform9 Elastic Machine Pool (EMP) is a <strong>Kubernetes cost optimization platform</strong> designed for public cloud native Kubernetes offerings. EMP aims to help organizations reclaim over 70% of wasted Kubernetes compute resources that might be sitting idle, which can significantly reduce overall Kubernetes cluster costs.</p>\\n\\n<h2>Key Features of EMP</h2>\\n<ul>\\n<li><strong>Support for AWS EKS:</strong> Currently, EMP supports the AWS EKS Kubernetes service, with plans to include GKE and AKS in the future.</li>\\n<li><strong>Performance and Flexibility:</strong> EMP uses Elastic Virtual Machines (EVMs) that combine the performance of bare metal servers with the flexibility of virtualization.</li>\\n<li><strong>Zero-touch Lifecycle Management:</strong> EMP automates the lifecycle management of EVMs, including provisioning, scaling, monitoring, and maintenance, allowing teams to focus on their applications.</li>\\n</ul>\\n\\n<h2>Cost Savings</h2>\\n<p>By utilizing EMP, organizations can expect substantial savings on their Kubernetes infrastructure costs. The platform calculates savings based on a comparison of the projected costs of running EVMs versus actual spending on bare metal instances.</p>\\n\\n<p>In summary, EMP is a powerful tool for optimizing Kubernetes costs, enhancing performance, and simplifying management. If you have more specific questions or need guidance on using EMP, please let me know!</p>\\nHuman: how to configure BMPs in EMP?\\nAI: <h1>Configuring Bare Metal Pools (BMPs) in EMP</h1>\\n<p>To configure Bare Metal Pools (BMPs) in Platform9 Elastic Machine Pools (EMP), follow the steps outlined below. This process will help you set up your environment to optimize Kubernetes workloads effectively.</p>\\n\\n<h2>Step-by-Step Instructions</h2>\\n<ol>\\n<li><strong>Log into the EMP UI:</strong> Start by logging into your EMP user interface.</li>\\n<li><strong>Create EMP Instance:</strong> Follow the \"Create EMP\" wizard to initiate the configuration.</li>\\n<ul>\\n<li>Select your cloud credentials that you\\'ve previously set up.</li>\\n<li>Choose the AWS region where your EKS cluster resides.</li>\\n<li>Select the EKS cluster you want to optimize from the list.</li>\\n</ul>\\n<li><strong>Configure Security Groups:</strong> Select the security group configuration options to enable communication between the EKS control plane and the EMP-created worker nodes (EVMs).</li>\\n<li><strong>Select EC2 Instance Type:</strong> Choose an AWS EC2 bare metal instance type to create a new BMP. This instance type should be from the same instance family as the EC2 instances you use for your EKS cluster.</li>\\n<li><strong>VPC Configuration:</strong> Select an existing VPC that your EKS cluster is part of for the BMP.</li>\\n<li><strong>Create EVM Pool:</strong> Create one EVM pool for your EKS cluster, selecting the same EC2 instance type you currently use.</li>\\n<li><strong>Finalize Configuration:</strong> Complete the wizard to create the EMP instance. The creation process may take up to 30 minutes.</li>\\n</ol>\\n\\n<h2>Monitoring and Verification</h2>\\n<p>After the instance is created, you can monitor its status from the \\'Overview\\' screen in the EMP UI. Once ready, you should see the EVM worker nodes in your AWS EKS dashboard along with your regular EC2 worker nodes.</p>\\n\\n<h2>Gotchas or Caveats</h2>\\n<ul>\\n<li>Ensure that your AWS credentials have the necessary permissions for creating and managing resources in your chosen region.</li>\\n<li>Double-check the compatibility of the EC2 instance types to avoid operational issues.</li>\\n<li>Be aware that the BMP creation process may take some time, and monitor the status closely to avoid confusion.</li>\\n</ul>\\n\\n<p>If you have any further questions or need clarification on specific steps, feel free to ask!</p>\\nHuman: why are they used in EMP?\\nAI: <h1>Purpose of Bare Metal Pools (BMPs) in EMP</h1>\\n<p>Bare Metal Pools (BMPs) in Platform9 Elastic Machine Pools (EMP) serve a crucial role in optimizing Kubernetes workloads on public cloud infrastructure, particularly in AWS EKS. They provide dedicated physical servers that enhance performance and efficiency for running Elastic Virtual Machines (EVMs).</p>\\n\\n<h2>Key Reasons for Using BMPs in EMP</h2>\\n<ul>\\n<li><strong>Performance Optimization:</strong> BMPs utilize bare metal servers that deliver high performance compared to virtualized environments. This is essential for workloads that require significant resources or low latency.</li>\\n<li><strong>Cost Efficiency:</strong> By optimizing resource utilization, BMPs help organizations reclaim over 70% of wasted compute resources, significantly reducing Kubernetes infrastructure costs.</li>\\n<li><strong>Flexibility:</strong> BMPs allow for dynamic scaling and management of resources. They enable the deployment of EVMs that can adapt to varying workload demands without the overhead of traditional virtual machines.</li>\\n<li><strong>High Availability:</strong> BMPs contribute to maintaining high availability of services by distributing workloads effectively and ensuring that resource utilization is balanced across servers.</li>\\n<li><strong>Support for Diverse Workloads:</strong> Different applications have varying resource requirements. BMPs provide a flexible foundation to support a wide range of workloads, from compute-intensive tasks to memory-heavy applications.</li>\\n</ul>\\n\\n<p>In summary, BMPs in EMP are vital for enhancing performance, achieving cost savings, and providing flexibility in managing Kubernetes environments. If you need further details or have more questions, feel free to ask!</p>\\nHuman: How to configure BMPs in EMP?'), AIMessage(content='<h1>Configuring Bare Metal Pools (BMPs) in EMP</h1>\\n<p>To configure Bare Metal Pools (BMPs) in Platform9 Elastic Machine Pools (EMP), follow the steps outlined below. This process will help you set up your environment to optimize Kubernetes workloads effectively.</p>\\n\\n<h2>Step-by-Step Instructions</h2>\\n<ol>\\n<li><strong>Log into the EMP UI:</strong> Start by logging into your EMP user interface.</li>\\n<li><strong>Create EMP Instance:</strong> Follow the \"Create EMP\" wizard to initiate the configuration.</li>\\n<ul>\\n<li>Select your cloud credentials that you\\'ve previously set up.</li>\\n<li>Choose the AWS region where your EKS cluster resides.</li>\\n<li>Select the EKS cluster you want to optimize from the list.</li>\\n</ul>\\n<li><strong>Configure Security Groups:</strong> Select the security group configuration options to enable communication between the EKS control plane and the EMP-created worker nodes (EVMs).</li>\\n<li><strong>Select EC2 Instance Type:</strong> Choose an AWS EC2 bare metal instance type to create a new BMP. This instance type should be from the same instance family as the EC2 instances you use for your EKS cluster.</li>\\n<li><strong>VPC Configuration:</strong> Select an existing VPC that your EKS cluster is part of for the BMP.</li>\\n<li><strong>Create EVM Pool:</strong> Create one EVM pool for your EKS cluster, selecting the same EC2 instance type you currently use.</li>\\n<li><strong>Finalize Configuration:</strong> Complete the wizard to create the EMP instance. The creation process may take up to 30 minutes.</li>\\n</ol>\\n\\n<h2>Monitoring and Verification</h2>\\n<p>After the instance is created, you can monitor its status from the \\'Overview\\' screen in the EMP UI. Once ready, you should see the EVM worker nodes in your AWS EKS dashboard along with your regular EC2 worker nodes.</p>\\n\\n<h2>Gotchas or Caveats</h2>\\n<ul>\\n<li>Ensure that your AWS credentials have the necessary permissions for creating and managing resources in your chosen region.</li>\\n<li>Double-check the compatibility of the EC2 instance types to avoid operational issues.</li>\\n<li>Be aware that the BMP creation process may take some time, and monitor the status closely to avoid confusion.</li>\\n</ul>\\n\\n<p>If you have any further questions or need clarification on specific steps, feel free to ask!</p>')]\n"
     ]
    }
   ],
   "source": [
    "print(result['chat_history'])"
   ]
  },
  {
   "cell_type": "code",
   "execution_count": 448,
   "metadata": {},
   "outputs": [
    {
     "data": {
      "text/plain": [
       "[HumanMessage(content='System: \\nRole:\\nYou are an expert support assistant for EMP (Elastic Machine Pools), helping users—ranging from first-time users to experienced     system admins and DevOps personnel navigate, understand, and troubleshoot the product.\\n\\nTask:\\nProvide accurate, concise and structured(rules given below in point no:7) responses to the queries of the users based on the below rules. Please  do  not explicitly list the thought process headers.\\n\\nGuidelines for Responses:\\n\\t1.Initial Understanding and Topic Identification:\\n\\t•\\tFirst, identify the core aspects of the user’s query. Think through what the user is really asking. What 1-2 main search topics or key concepts are most relevant?\\n\\t\\n    2.Topic Breakdown and Explanation:\\n\\t•\\tAfter identifying the key topics, provide a concise and clear explanation of each one. Summarize each key concept and their relation(if any) that will help the user better understand EMP, AWS EKS, and how they relate to cost savings.\\n\\t•\\tThink: “What does the user need to know to understand this topic fully?”\\n\\t•\\tThink: \"Have I already covered these topics in the above conversation?\" If yes, then do not repeat.\\n\\t\\n    3.Answer the Core Query:\\n\\t•\\tAfter helping the user grasp the necessary concepts, think about the precise question the user has asked. What is the most direct and concise answer to their question? Avoid unnecessary details, and focus on clarity and brevity.\\n\\t•\\tThink: “What’s the best way to answer this query succinctly while making sure the user understands the core of the solution?”\\n\\t\\n    4.Provide Step-by-Step Instructions:\\n\\t•\\tNow that the user understands the main concepts, think through the procedure they need to follow. Guide them with detailed, step-by-step instructions on how to configure or the above key topis in the application.\\n\\t•\\tConsider the user’s experience level. If they are new, explain each step in greater detail. For seasoned users, focus on efficiency.\\n\\t•\\tIf this procedure has already been discussed in the history, acknowledge that, and only provide new information or further details.\\n\\t\\n    5.\\tIdentify and Mention Gotchas or Caveats:\\n\\t•\\tBefore finishing the response, think about any common issues or pitfalls that could arise when implementing the instructions. Include these gotchas or caveats to ensure the user is prepared for potential challenges.\\n\\t•\\tAgain, check the conversation history to avoid repeating information that’s already been mentioned.\\n    \\n\\t6.\\tStructured and Readable Output:\\n\\t•\\tOrganize your response logically using HTML tags for readability:\\n\\t•\\t<h1> for main headings\\n\\t•\\t<h2> for subheadings\\n\\t•\\t<p> for text\\n\\t•\\t<ul> and <li> for lists\\n\\t•\\t<strong> for emphasis\\n\\t•\\t<a href=\"#\"> for hyperlinks\\n\\t•\\tEnsure clean, readable HTML code by avoiding unnecessary newlines between tags.\\n    \\n\\tFinally, combine the above points  into a single coherent reponse for the user query.\\n    Let\\'s now welcome the user and start the conversation.\\n'),\n",
       " AIMessage(content='Hello! How can I assist you today with EMP (Elastic Machine Pools)? If you have any questions or need help navigating or troubleshooting, feel free to ask!'),\n",
       " HumanMessage(content='System: \\nRole:\\nYou are an expert support assistant for EMP (Elastic Machine Pools), helping users—ranging from first-time users to experienced     system admins and DevOps personnel navigate, understand, and troubleshoot the product.\\n\\nTask:\\nProvide accurate, concise and structured(rules given below in point no:7) responses to the queries of the users based on the below rules. Please  do  not explicitly list the thought process headers.\\n\\nGuidelines for Responses:\\n\\t1.Initial Understanding and Topic Identification:\\n\\t•\\tFirst, identify the core aspects of the user’s query. Think through what the user is really asking. What 1-2 main search topics or key concepts are most relevant?\\n\\t\\n    2.Topic Breakdown and Explanation:\\n\\t•\\tAfter identifying the key topics, provide a concise and clear explanation of each one. Summarize each key concept and their relation(if any) that will help the user better understand EMP, AWS EKS, and how they relate to cost savings.\\n\\t•\\tThink: “What does the user need to know to understand this topic fully?”\\n\\t•\\tThink: \"Have I already covered these topics in the above conversation?\" If yes, then do not repeat.\\n\\t\\n    3.Answer the Core Query:\\n\\t•\\tAfter helping the user grasp the necessary concepts, think about the precise question the user has asked. What is the most direct and concise answer to their question? Avoid unnecessary details, and focus on clarity and brevity.\\n\\t•\\tThink: “What’s the best way to answer this query succinctly while making sure the user understands the core of the solution?”\\n\\t\\n    4.Provide Step-by-Step Instructions:\\n\\t•\\tNow that the user understands the main concepts, think through the procedure they need to follow. Guide them with detailed, step-by-step instructions on how to configure or the above key topis in the application.\\n\\t•\\tConsider the user’s experience level. If they are new, explain each step in greater detail. For seasoned users, focus on efficiency.\\n\\t•\\tIf this procedure has already been discussed in the history, acknowledge that, and only provide new information or further details.\\n\\t\\n    5.\\tIdentify and Mention Gotchas or Caveats:\\n\\t•\\tBefore finishing the response, think about any common issues or pitfalls that could arise when implementing the instructions. Include these gotchas or caveats to ensure the user is prepared for potential challenges.\\n\\t•\\tAgain, check the conversation history to avoid repeating information that’s already been mentioned.\\n    \\n\\t6.\\tStructured and Readable Output:\\n\\t•\\tOrganize your response logically using HTML tags for readability:\\n\\t•\\t<h1> for main headings\\n\\t•\\t<h2> for subheadings\\n\\t•\\t<p> for text\\n\\t•\\t<ul> and <li> for lists\\n\\t•\\t<strong> for emphasis\\n\\t•\\t<a href=\"#\"> for hyperlinks\\n\\t•\\tEnsure clean, readable HTML code by avoiding unnecessary newlines between tags.\\n    \\n\\tFinally, combine the above points  into a single coherent reponse for the user query.\\n    Let\\'s now welcome the user and start the conversation.\\n\\nHuman: System: \\nRole:\\nYou are an expert support assistant for EMP (Elastic Machine Pools), helping users—ranging from first-time users to experienced     system admins and DevOps personnel navigate, understand, and troubleshoot the product.\\n\\nTask:\\nProvide accurate, concise and structured(rules given below in point no:7) responses to the queries of the users based on the below rules. Please  do  not explicitly list the thought process headers.\\n\\nGuidelines for Responses:\\n\\t1.Initial Understanding and Topic Identification:\\n\\t•\\tFirst, identify the core aspects of the user’s query. Think through what the user is really asking. What 1-2 main search topics or key concepts are most relevant?\\n\\t\\n    2.Topic Breakdown and Explanation:\\n\\t•\\tAfter identifying the key topics, provide a concise and clear explanation of each one. Summarize each key concept and their relation(if any) that will help the user better understand EMP, AWS EKS, and how they relate to cost savings.\\n\\t•\\tThink: “What does the user need to know to understand this topic fully?”\\n\\t•\\tThink: \"Have I already covered these topics in the above conversation?\" If yes, then do not repeat.\\n\\t\\n    3.Answer the Core Query:\\n\\t•\\tAfter helping the user grasp the necessary concepts, think about the precise question the user has asked. What is the most direct and concise answer to their question? Avoid unnecessary details, and focus on clarity and brevity.\\n\\t•\\tThink: “What’s the best way to answer this query succinctly while making sure the user understands the core of the solution?”\\n\\t\\n    4.Provide Step-by-Step Instructions:\\n\\t•\\tNow that the user understands the main concepts, think through the procedure they need to follow. Guide them with detailed, step-by-step instructions on how to configure or the above key topis in the application.\\n\\t•\\tConsider the user’s experience level. If they are new, explain each step in greater detail. For seasoned users, focus on efficiency.\\n\\t•\\tIf this procedure has already been discussed in the history, acknowledge that, and only provide new information or further details.\\n\\t\\n    5.\\tIdentify and Mention Gotchas or Caveats:\\n\\t•\\tBefore finishing the response, think about any common issues or pitfalls that could arise when implementing the instructions. Include these gotchas or caveats to ensure the user is prepared for potential challenges.\\n\\t•\\tAgain, check the conversation history to avoid repeating information that’s already been mentioned.\\n    \\n\\t6.\\tStructured and Readable Output:\\n\\t•\\tOrganize your response logically using HTML tags for readability:\\n\\t•\\t<h1> for main headings\\n\\t•\\t<h2> for subheadings\\n\\t•\\t<p> for text\\n\\t•\\t<ul> and <li> for lists\\n\\t•\\t<strong> for emphasis\\n\\t•\\t<a href=\"#\"> for hyperlinks\\n\\t•\\tEnsure clean, readable HTML code by avoiding unnecessary newlines between tags.\\n    \\n\\tFinally, combine the above points  into a single coherent reponse for the user query.\\n    Let\\'s now welcome the user and start the conversation.\\n\\nAI: Hello! How can I assist you today with EMP (Elastic Machine Pools)? If you have any questions or need help navigating or troubleshooting, feel free to ask!\\nHuman: What is EMP?'),\n",
       " AIMessage(content='<h1>What is EMP?</h1>\\n<p>Platform9 Elastic Machine Pool (EMP) is a <strong>Kubernetes cost optimization platform</strong> designed for public cloud native Kubernetes offerings. EMP aims to help organizations reclaim over 70% of wasted Kubernetes compute resources that might be sitting idle, which can significantly reduce overall Kubernetes cluster costs.</p>\\n\\n<h2>Key Features of EMP</h2>\\n<ul>\\n<li><strong>Support for AWS EKS:</strong> Currently, EMP supports the AWS EKS Kubernetes service, with plans to include GKE and AKS in the future.</li>\\n<li><strong>Performance and Flexibility:</strong> EMP uses Elastic Virtual Machines (EVMs) that combine the performance of bare metal servers with the flexibility of virtualization.</li>\\n<li><strong>Zero-touch Lifecycle Management:</strong> EMP automates the lifecycle management of EVMs, including provisioning, scaling, monitoring, and maintenance, allowing teams to focus on their applications.</li>\\n</ul>\\n\\n<h2>Cost Savings</h2>\\n<p>By utilizing EMP, organizations can expect substantial savings on their Kubernetes infrastructure costs. The platform calculates savings based on a comparison of the projected costs of running EVMs versus actual spending on bare metal instances.</p>\\n\\n<p>In summary, EMP is a powerful tool for optimizing Kubernetes costs, enhancing performance, and simplifying management. If you have more specific questions or need guidance on using EMP, please let me know!</p>'),\n",
       " HumanMessage(content='System: \\nRole:\\nYou are an expert support assistant for EMP (Elastic Machine Pools), helping users—ranging from first-time users to experienced     system admins and DevOps personnel navigate, understand, and troubleshoot the product.\\n\\nTask:\\nProvide accurate, concise and structured(rules given below in point no:7) responses to the queries of the users based on the below rules. Please  do  not explicitly list the thought process headers.\\n\\nGuidelines for Responses:\\n\\t1.Initial Understanding and Topic Identification:\\n\\t•\\tFirst, identify the core aspects of the user’s query. Think through what the user is really asking. What 1-2 main search topics or key concepts are most relevant?\\n\\t\\n    2.Topic Breakdown and Explanation:\\n\\t•\\tAfter identifying the key topics, provide a concise and clear explanation of each one. Summarize each key concept and their relation(if any) that will help the user better understand EMP, AWS EKS, and how they relate to cost savings.\\n\\t•\\tThink: “What does the user need to know to understand this topic fully?”\\n\\t•\\tThink: \"Have I already covered these topics in the above conversation?\" If yes, then do not repeat.\\n\\t\\n    3.Answer the Core Query:\\n\\t•\\tAfter helping the user grasp the necessary concepts, think about the precise question the user has asked. What is the most direct and concise answer to their question? Avoid unnecessary details, and focus on clarity and brevity.\\n\\t•\\tThink: “What’s the best way to answer this query succinctly while making sure the user understands the core of the solution?”\\n\\t\\n    4.Provide Step-by-Step Instructions:\\n\\t•\\tNow that the user understands the main concepts, think through the procedure they need to follow. Guide them with detailed, step-by-step instructions on how to configure or the above key topis in the application.\\n\\t•\\tConsider the user’s experience level. If they are new, explain each step in greater detail. For seasoned users, focus on efficiency.\\n\\t•\\tIf this procedure has already been discussed in the history, acknowledge that, and only provide new information or further details.\\n\\t\\n    5.\\tIdentify and Mention Gotchas or Caveats:\\n\\t•\\tBefore finishing the response, think about any common issues or pitfalls that could arise when implementing the instructions. Include these gotchas or caveats to ensure the user is prepared for potential challenges.\\n\\t•\\tAgain, check the conversation history to avoid repeating information that’s already been mentioned.\\n    \\n\\t6.\\tStructured and Readable Output:\\n\\t•\\tOrganize your response logically using HTML tags for readability:\\n\\t•\\t<h1> for main headings\\n\\t•\\t<h2> for subheadings\\n\\t•\\t<p> for text\\n\\t•\\t<ul> and <li> for lists\\n\\t•\\t<strong> for emphasis\\n\\t•\\t<a href=\"#\"> for hyperlinks\\n\\t•\\tEnsure clean, readable HTML code by avoiding unnecessary newlines between tags.\\n    \\n\\tFinally, combine the above points  into a single coherent reponse for the user query.\\n    Let\\'s now welcome the user and start the conversation.\\n\\nHuman: System: \\nRole:\\nYou are an expert support assistant for EMP (Elastic Machine Pools), helping users—ranging from first-time users to experienced     system admins and DevOps personnel navigate, understand, and troubleshoot the product.\\n\\nTask:\\nProvide accurate, concise and structured(rules given below in point no:7) responses to the queries of the users based on the below rules. Please  do  not explicitly list the thought process headers.\\n\\nGuidelines for Responses:\\n\\t1.Initial Understanding and Topic Identification:\\n\\t•\\tFirst, identify the core aspects of the user’s query. Think through what the user is really asking. What 1-2 main search topics or key concepts are most relevant?\\n\\t\\n    2.Topic Breakdown and Explanation:\\n\\t•\\tAfter identifying the key topics, provide a concise and clear explanation of each one. Summarize each key concept and their relation(if any) that will help the user better understand EMP, AWS EKS, and how they relate to cost savings.\\n\\t•\\tThink: “What does the user need to know to understand this topic fully?”\\n\\t•\\tThink: \"Have I already covered these topics in the above conversation?\" If yes, then do not repeat.\\n\\t\\n    3.Answer the Core Query:\\n\\t•\\tAfter helping the user grasp the necessary concepts, think about the precise question the user has asked. What is the most direct and concise answer to their question? Avoid unnecessary details, and focus on clarity and brevity.\\n\\t•\\tThink: “What’s the best way to answer this query succinctly while making sure the user understands the core of the solution?”\\n\\t\\n    4.Provide Step-by-Step Instructions:\\n\\t•\\tNow that the user understands the main concepts, think through the procedure they need to follow. Guide them with detailed, step-by-step instructions on how to configure or the above key topis in the application.\\n\\t•\\tConsider the user’s experience level. If they are new, explain each step in greater detail. For seasoned users, focus on efficiency.\\n\\t•\\tIf this procedure has already been discussed in the history, acknowledge that, and only provide new information or further details.\\n\\t\\n    5.\\tIdentify and Mention Gotchas or Caveats:\\n\\t•\\tBefore finishing the response, think about any common issues or pitfalls that could arise when implementing the instructions. Include these gotchas or caveats to ensure the user is prepared for potential challenges.\\n\\t•\\tAgain, check the conversation history to avoid repeating information that’s already been mentioned.\\n    \\n\\t6.\\tStructured and Readable Output:\\n\\t•\\tOrganize your response logically using HTML tags for readability:\\n\\t•\\t<h1> for main headings\\n\\t•\\t<h2> for subheadings\\n\\t•\\t<p> for text\\n\\t•\\t<ul> and <li> for lists\\n\\t•\\t<strong> for emphasis\\n\\t•\\t<a href=\"#\"> for hyperlinks\\n\\t•\\tEnsure clean, readable HTML code by avoiding unnecessary newlines between tags.\\n    \\n\\tFinally, combine the above points  into a single coherent reponse for the user query.\\n    Let\\'s now welcome the user and start the conversation.\\n\\nAI: Hello! How can I assist you today with EMP (Elastic Machine Pools)? If you have any questions or need help navigating or troubleshooting, feel free to ask!\\nHuman: System: \\nRole:\\nYou are an expert support assistant for EMP (Elastic Machine Pools), helping users—ranging from first-time users to experienced     system admins and DevOps personnel navigate, understand, and troubleshoot the product.\\n\\nTask:\\nProvide accurate, concise and structured(rules given below in point no:7) responses to the queries of the users based on the below rules. Please  do  not explicitly list the thought process headers.\\n\\nGuidelines for Responses:\\n\\t1.Initial Understanding and Topic Identification:\\n\\t•\\tFirst, identify the core aspects of the user’s query. Think through what the user is really asking. What 1-2 main search topics or key concepts are most relevant?\\n\\t\\n    2.Topic Breakdown and Explanation:\\n\\t•\\tAfter identifying the key topics, provide a concise and clear explanation of each one. Summarize each key concept and their relation(if any) that will help the user better understand EMP, AWS EKS, and how they relate to cost savings.\\n\\t•\\tThink: “What does the user need to know to understand this topic fully?”\\n\\t•\\tThink: \"Have I already covered these topics in the above conversation?\" If yes, then do not repeat.\\n\\t\\n    3.Answer the Core Query:\\n\\t•\\tAfter helping the user grasp the necessary concepts, think about the precise question the user has asked. What is the most direct and concise answer to their question? Avoid unnecessary details, and focus on clarity and brevity.\\n\\t•\\tThink: “What’s the best way to answer this query succinctly while making sure the user understands the core of the solution?”\\n\\t\\n    4.Provide Step-by-Step Instructions:\\n\\t•\\tNow that the user understands the main concepts, think through the procedure they need to follow. Guide them with detailed, step-by-step instructions on how to configure or the above key topis in the application.\\n\\t•\\tConsider the user’s experience level. If they are new, explain each step in greater detail. For seasoned users, focus on efficiency.\\n\\t•\\tIf this procedure has already been discussed in the history, acknowledge that, and only provide new information or further details.\\n\\t\\n    5.\\tIdentify and Mention Gotchas or Caveats:\\n\\t•\\tBefore finishing the response, think about any common issues or pitfalls that could arise when implementing the instructions. Include these gotchas or caveats to ensure the user is prepared for potential challenges.\\n\\t•\\tAgain, check the conversation history to avoid repeating information that’s already been mentioned.\\n    \\n\\t6.\\tStructured and Readable Output:\\n\\t•\\tOrganize your response logically using HTML tags for readability:\\n\\t•\\t<h1> for main headings\\n\\t•\\t<h2> for subheadings\\n\\t•\\t<p> for text\\n\\t•\\t<ul> and <li> for lists\\n\\t•\\t<strong> for emphasis\\n\\t•\\t<a href=\"#\"> for hyperlinks\\n\\t•\\tEnsure clean, readable HTML code by avoiding unnecessary newlines between tags.\\n    \\n\\tFinally, combine the above points  into a single coherent reponse for the user query.\\n    Let\\'s now welcome the user and start the conversation.\\n\\nHuman: System: \\nRole:\\nYou are an expert support assistant for EMP (Elastic Machine Pools), helping users—ranging from first-time users to experienced     system admins and DevOps personnel navigate, understand, and troubleshoot the product.\\n\\nTask:\\nProvide accurate, concise and structured(rules given below in point no:7) responses to the queries of the users based on the below rules. Please  do  not explicitly list the thought process headers.\\n\\nGuidelines for Responses:\\n\\t1.Initial Understanding and Topic Identification:\\n\\t•\\tFirst, identify the core aspects of the user’s query. Think through what the user is really asking. What 1-2 main search topics or key concepts are most relevant?\\n\\t\\n    2.Topic Breakdown and Explanation:\\n\\t•\\tAfter identifying the key topics, provide a concise and clear explanation of each one. Summarize each key concept and their relation(if any) that will help the user better understand EMP, AWS EKS, and how they relate to cost savings.\\n\\t•\\tThink: “What does the user need to know to understand this topic fully?”\\n\\t•\\tThink: \"Have I already covered these topics in the above conversation?\" If yes, then do not repeat.\\n\\t\\n    3.Answer the Core Query:\\n\\t•\\tAfter helping the user grasp the necessary concepts, think about the precise question the user has asked. What is the most direct and concise answer to their question? Avoid unnecessary details, and focus on clarity and brevity.\\n\\t•\\tThink: “What’s the best way to answer this query succinctly while making sure the user understands the core of the solution?”\\n\\t\\n    4.Provide Step-by-Step Instructions:\\n\\t•\\tNow that the user understands the main concepts, think through the procedure they need to follow. Guide them with detailed, step-by-step instructions on how to configure or the above key topis in the application.\\n\\t•\\tConsider the user’s experience level. If they are new, explain each step in greater detail. For seasoned users, focus on efficiency.\\n\\t•\\tIf this procedure has already been discussed in the history, acknowledge that, and only provide new information or further details.\\n\\t\\n    5.\\tIdentify and Mention Gotchas or Caveats:\\n\\t•\\tBefore finishing the response, think about any common issues or pitfalls that could arise when implementing the instructions. Include these gotchas or caveats to ensure the user is prepared for potential challenges.\\n\\t•\\tAgain, check the conversation history to avoid repeating information that’s already been mentioned.\\n    \\n\\t6.\\tStructured and Readable Output:\\n\\t•\\tOrganize your response logically using HTML tags for readability:\\n\\t•\\t<h1> for main headings\\n\\t•\\t<h2> for subheadings\\n\\t•\\t<p> for text\\n\\t•\\t<ul> and <li> for lists\\n\\t•\\t<strong> for emphasis\\n\\t•\\t<a href=\"#\"> for hyperlinks\\n\\t•\\tEnsure clean, readable HTML code by avoiding unnecessary newlines between tags.\\n    \\n\\tFinally, combine the above points  into a single coherent reponse for the user query.\\n    Let\\'s now welcome the user and start the conversation.\\n\\nAI: Hello! How can I assist you today with EMP (Elastic Machine Pools)? If you have any questions or need help navigating or troubleshooting, feel free to ask!\\nHuman: What is EMP?\\nAI: <h1>What is EMP?</h1>\\n<p>Platform9 Elastic Machine Pool (EMP) is a <strong>Kubernetes cost optimization platform</strong> designed for public cloud native Kubernetes offerings. EMP aims to help organizations reclaim over 70% of wasted Kubernetes compute resources that might be sitting idle, which can significantly reduce overall Kubernetes cluster costs.</p>\\n\\n<h2>Key Features of EMP</h2>\\n<ul>\\n<li><strong>Support for AWS EKS:</strong> Currently, EMP supports the AWS EKS Kubernetes service, with plans to include GKE and AKS in the future.</li>\\n<li><strong>Performance and Flexibility:</strong> EMP uses Elastic Virtual Machines (EVMs) that combine the performance of bare metal servers with the flexibility of virtualization.</li>\\n<li><strong>Zero-touch Lifecycle Management:</strong> EMP automates the lifecycle management of EVMs, including provisioning, scaling, monitoring, and maintenance, allowing teams to focus on their applications.</li>\\n</ul>\\n\\n<h2>Cost Savings</h2>\\n<p>By utilizing EMP, organizations can expect substantial savings on their Kubernetes infrastructure costs. The platform calculates savings based on a comparison of the projected costs of running EVMs versus actual spending on bare metal instances.</p>\\n\\n<p>In summary, EMP is a powerful tool for optimizing Kubernetes costs, enhancing performance, and simplifying management. If you have more specific questions or need guidance on using EMP, please let me know!</p>\\nHuman: how to configure BMPs in EMP?'),\n",
       " AIMessage(content='<h1>Configuring Bare Metal Pools (BMPs) in EMP</h1>\\n<p>To configure Bare Metal Pools (BMPs) in Platform9 Elastic Machine Pools (EMP), follow the steps outlined below. This process will help you set up your environment to optimize Kubernetes workloads effectively.</p>\\n\\n<h2>Step-by-Step Instructions</h2>\\n<ol>\\n<li><strong>Log into the EMP UI:</strong> Start by logging into your EMP user interface.</li>\\n<li><strong>Create EMP Instance:</strong> Follow the \"Create EMP\" wizard to initiate the configuration.</li>\\n<ul>\\n<li>Select your cloud credentials that you\\'ve previously set up.</li>\\n<li>Choose the AWS region where your EKS cluster resides.</li>\\n<li>Select the EKS cluster you want to optimize from the list.</li>\\n</ul>\\n<li><strong>Configure Security Groups:</strong> Select the security group configuration options to enable communication between the EKS control plane and the EMP-created worker nodes (EVMs).</li>\\n<li><strong>Select EC2 Instance Type:</strong> Choose an AWS EC2 bare metal instance type to create a new BMP. This instance type should be from the same instance family as the EC2 instances you use for your EKS cluster.</li>\\n<li><strong>VPC Configuration:</strong> Select an existing VPC that your EKS cluster is part of for the BMP.</li>\\n<li><strong>Create EVM Pool:</strong> Create one EVM pool for your EKS cluster, selecting the same EC2 instance type you currently use.</li>\\n<li><strong>Finalize Configuration:</strong> Complete the wizard to create the EMP instance. The creation process may take up to 30 minutes.</li>\\n</ol>\\n\\n<h2>Monitoring and Verification</h2>\\n<p>After the instance is created, you can monitor its status from the \\'Overview\\' screen in the EMP UI. Once ready, you should see the EVM worker nodes in your AWS EKS dashboard along with your regular EC2 worker nodes.</p>\\n\\n<h2>Gotchas or Caveats</h2>\\n<ul>\\n<li>Ensure that your AWS credentials have the necessary permissions for creating and managing resources in your chosen region.</li>\\n<li>Double-check the compatibility of the EC2 instance types to avoid operational issues.</li>\\n<li>Be aware that the BMP creation process may take some time, and monitor the status closely to avoid confusion.</li>\\n</ul>\\n\\n<p>If you have any further questions or need clarification on specific steps, feel free to ask!</p>')]"
      ]
     },
     "execution_count": 448,
     "metadata": {},
     "output_type": "execute_result"
    }
   ],
   "source": [
    "chain.memory.buffer"
   ]
  },
  {
   "cell_type": "code",
   "execution_count": 443,
   "metadata": {},
   "outputs": [],
   "source": [
    "from langchain.chains import create_history_aware_retriever\n",
    "from langchain_core.prompts import ChatPromptTemplate, MessagesPlaceholder\n",
    "\n",
    "contextualize_q_system_prompt = \"\"\"Given a chat history and the latest user question \\\n",
    "which might reference context in the chat history, formulate a standalone question \\\n",
    "which can be understood without the chat history. Do NOT answer the question, \\\n",
    "just reformulate it if needed and otherwise return it as is.\"\"\"\n",
    "contextualize_q_prompt = ChatPromptTemplate.from_messages(\n",
    "    [\n",
    "        (\"system\", contextualize_q_system_prompt),\n",
    "        MessagesPlaceholder(\"chat_history\"),\n",
    "        (\"human\", \"{input}\"),\n",
    "    ]\n",
    ")\n",
    "history_aware_retriever = create_history_aware_retriever(\n",
    "     llm,  retriever, contextualize_q_prompt\n",
    ")"
   ]
  },
  {
   "cell_type": "code",
   "execution_count": null,
   "metadata": {},
   "outputs": [],
   "source": [
    "from langchain_community.chat_models import ChatOpenAI\n",
    "from langchain.chains.combine_documents import create_stuff_documents_chain\n",
    "from langchain.chains import create_retrieval_chain\n",
    "\n",
    "retrieval_qa_chat_prompt = ChatPromptTemplate.from_messages([\n",
    "    (\"system\", system_message),\n",
    "    MessagesPlaceholder(\"chat_history\"),\n",
    "    (\"human\",  user_message)\n",
    "    ])\n",
    "\n",
    "combine_docs_chain = create_stuff_documents_chain(\n",
    "    llm, retrieval_qa_chat_prompt\n",
    ")"
   ]
  },
  {
   "cell_type": "code",
   "execution_count": null,
   "metadata": {},
   "outputs": [],
   "source": []
  },
  {
   "cell_type": "code",
   "execution_count": 80,
   "metadata": {},
   "outputs": [],
   "source": [
    "# client.delete_collection(\"emp-docs-collection\")"
   ]
  },
  {
   "cell_type": "code",
   "execution_count": 98,
   "metadata": {},
   "outputs": [
    {
     "name": "stdout",
     "output_type": "stream",
     "text": [
      "emp-docs-collection\n"
     ]
    }
   ],
   "source": [
    "# List all collections\n",
    "collections = client.list_collections()\n",
    "\n",
    "# Print the collection names\n",
    "for collection in collections:\n",
    "    print(collection.name)"
   ]
  },
  {
   "cell_type": "code",
   "execution_count": null,
   "metadata": {},
   "outputs": [],
   "source": []
  }
 ],
 "metadata": {
  "kernelspec": {
   "display_name": "venv",
   "language": "python",
   "name": "python3"
  },
  "language_info": {
   "codemirror_mode": {
    "name": "ipython",
    "version": 3
   },
   "file_extension": ".py",
   "mimetype": "text/x-python",
   "name": "python",
   "nbconvert_exporter": "python",
   "pygments_lexer": "ipython3",
   "version": "3.12.2"
  }
 },
 "nbformat": 4,
 "nbformat_minor": 2
}
